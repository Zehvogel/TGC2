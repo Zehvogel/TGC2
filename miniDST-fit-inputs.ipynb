{
 "cells": [
  {
   "cell_type": "code",
   "execution_count": 1,
   "metadata": {},
   "outputs": [],
   "source": [
    "# workaround for incredibly stupid vscode on snap bug\n",
    "from os import environ\n",
    "krb5ccname = environ[\"KRB5CCNAME\"]\n",
    "if \"hostfs\" in krb5ccname:\n",
    "    krb5ccname = krb5ccname.replace(\"/var/lib/snapd/hostfs\", \"\")\n",
    "    environ[\"KRB5CCNAME\"] = krb5ccname"
   ]
  },
  {
   "cell_type": "code",
   "execution_count": 2,
   "metadata": {},
   "outputs": [
    {
     "name": "stdout",
     "output_type": "stream",
     "text": [
      "OBJ: TStyle\tildStyle\tILD Style : 0 at: 0x9238bd0\n"
     ]
    }
   ],
   "source": [
    "import ROOT\n",
    "from analysis_framework import Dataset\n",
    "from OptimalObservableHelper import OptimalObservableHelper\n",
    "from AltSetupHandler import AltSetupHandler"
   ]
  },
  {
   "cell_type": "code",
   "execution_count": 3,
   "metadata": {
    "tags": [
     "parameters"
    ]
   },
   "outputs": [],
   "source": [
    "# CLD\n",
    "# x_angle = 0.030 # rad\n",
    "# ILD\n",
    "x_angle = 0.014 # rad\n",
    "n_threads = 12\n",
    "# prod = False\n",
    "prod = True\n",
    "no_rvec = True\n",
    "# write_outputs = False\n",
    "write_outputs = True\n",
    "# plot_dir_postfix = \"-new-cuts\"\n",
    "dataset_path = \"data/datasets/reweighted/test.json\"\n",
    "# output_path = \"root://eosuser.cern.ch//eos/user/l/lreichen/TGC2/data/reweighted/test\"\n",
    "# output_meta_path = \"data/datasets/reweighted\"\n",
    "# output_meta = f\"{output_meta_path}/test.json\"\n",
    "# checked_output_meta = f\"{output_meta_path}/checked-test.json\"\n",
    "# output_collections = [\n",
    "#     \"true_lep_lvec\", \"true_nu_lvec\", \"true_quark1_lvec\", \"true_quark2_lvec\",\n",
    "#     \"iso_lep_lvec\", \"nu_lvec\", \"R2Jet_sel1_lvec\", \"R2Jet_sel2_lvec\",\n",
    "#     ]\n",
    "# true lvecs do not exist in every df so cannot be explicitly requested...\n",
    "# urgh but empty snapshots are also not allowed\n",
    "# output_collections = r\"(true_\\w+_lvec)|(iso_lep_lvec)|(nu_lvec)|(R2Jet_sel1_lvec)|(R2Jet_sel2_lvec)|(\\w*sqme\\w*)|(weight\\w*)\"\n",
    "# plot_dir = f\"plots/pre-selection/test{plot_dir_postfix}\"\n",
    "if prod:\n",
    "    # dataset_path = \"data/datasets/miniDSTs/processed-no-exc-higgs.json\"\n",
    "    # dataset_path = \"data/datasets/miniDSTs/processed-no-exc-higgs-min-aa-min-higgs.json\"\n",
    "    # dataset_path = \"data/datasets/miniDSTs/min-higgs.json\"\n",
    "    dataset_path = \"data/datasets/reweighted/signal-only.json\"\n",
    "    # output_path = \"root://eospublic.cern.ch//eos/experiment/clicdp/data/user/l/lreichen/snapshots3/min-higgs-d\"\n",
    "    # output_path = \"root://eosuser.cern.ch//eos/user/l/lreichen/TGC2/data/reweighted/signal-only\"\n",
    "    # output_meta_path = \"data/datasets/reweighted\"\n",
    "    # output_meta = f\"{output_meta_path}/signal-only.json\"\n",
    "    # checked_output_meta = f\"{output_meta_path}/checked-signal-only.json\"\n",
    "    # plot_dir = \"plots/pre-selection/full\"\n",
    "    # plot_dir = f\"plots/pre-selection/min-higgs{plot_dir_postfix}\"\n"
   ]
  },
  {
   "cell_type": "code",
   "execution_count": 4,
   "metadata": {},
   "outputs": [],
   "source": [
    "ROOT.EnableImplicitMT(n_threads)\n",
    "# environ[\"OMP_NUM_THREADS\"] = \"6\""
   ]
  },
  {
   "cell_type": "code",
   "execution_count": 5,
   "metadata": {},
   "outputs": [],
   "source": [
    "dataset = Dataset.from_json(dataset_path)"
   ]
  },
  {
   "cell_type": "code",
   "execution_count": 6,
   "metadata": {},
   "outputs": [
    {
     "name": "stdout",
     "output_type": "stream",
     "text": [
      "OBJ: TStyle\tildStyle\tILD Style : 0 at: 0x823b450\n"
     ]
    }
   ],
   "source": [
    "analysis = OptimalObservableHelper(dataset)"
   ]
  },
  {
   "cell_type": "code",
   "execution_count": 7,
   "metadata": {},
   "outputs": [
    {
     "name": "stdout",
     "output_type": "stream",
     "text": [
      "True\n"
     ]
    }
   ],
   "source": [
    "analysis.init_categories()\n",
    "# check if we missed any processes\n",
    "print(analysis.is_complete_categorisation())\n",
    "signal_category = [\"4f_sw_sl_signal\"]"
   ]
  },
  {
   "cell_type": "code",
   "execution_count": 8,
   "metadata": {},
   "outputs": [],
   "source": [
    "oo_configs = [\n",
    "    \"g1z_pos_1em08\",\n",
    "    \"ka_pos_1em08\",\n",
    "    \"la_pos_1em08\",\n",
    "    ]\n",
    "# analysis.define_optimal_observables_truth(oo_configs, truth_categories=signal_category)\n",
    "# analysis.define_optimal_observables_truth_averaged(oo_configs, truth_categories=signal_category)\n",
    "# analysis.define_optimal_observables_reco(oo_configs)\n",
    "# oo_names = [f\"O_{c}\" for c in oo_configs]\n",
    "oo_names = {\n",
    "    \"reco_oo\": analysis.define_optimal_observables(\"O\", [\"reco_sqme\", \"wj_reco_sqme\"], oo_configs, categories=signal_category),\n",
    "    \"reco_jm_oo\": analysis.define_optimal_observables(\"jm_O\", [\"reco_sqme\"], oo_configs, categories=signal_category),\n",
    "    \"clean_reco_oo\": analysis.define_optimal_observables(\"clean_O\", [\"clean_reco_sqme\", \"wj_clean_reco_sqme\"], oo_configs, categories=signal_category),\n",
    "    \"clean_reco_jm_oo\": analysis.define_optimal_observables(\"clean_jm_O\", [\"clean_reco_sqme\"], oo_configs, categories=signal_category),\n",
    "    \"cheat_clean_reco_oo\": analysis.define_optimal_observables(\"cheat_clean_O\", [\"cheat_clean_reco_sqme\", \"wj_cheat_clean_reco_sqme\"], oo_configs, categories=signal_category),\n",
    "    \"cheat_clean_reco_jm_oo\": analysis.define_optimal_observables(\"cheat_clean_jm_O\", [\"cheat_clean_reco_sqme\"], oo_configs, categories=signal_category),\n",
    "    \"mc_oo\": analysis.define_optimal_observables(\"mc_O\", [\"mc_sqme\"], oo_configs, categories=signal_category),\n",
    "    \"nomb_mc_oo\": analysis.define_optimal_observables(\"nomb_mc_O\", [\"nomb_mc_sqme\"], oo_configs, categories=signal_category),\n",
    "    \"nomb_mc_rlep_oo\": analysis.define_optimal_observables(\"nomb_mc_rlep_O\", [\"nomb_mc_rlep_sqme\"], oo_configs, categories=signal_category),\n",
    "    \"av_mc_oo\": analysis.define_optimal_observables(\"av_mc_O\", [\"mc_sqme\", \"wj_mc_sqme\"], oo_configs, categories=signal_category),\n",
    "    \"av_nomb_mc_oo\": analysis.define_optimal_observables(\"av_nomb_mc_O\", [\"nomb_mc_sqme\", \"wj_nomb_mc_sqme\"], oo_configs, categories=signal_category),\n",
    "    \"av_nomb_mc_rlep_oo\": analysis.define_optimal_observables(\"av_nomb_mc_rlep_O\", [\"nomb_mc_rlep_sqme\", \"wj_nomb_mc_rlep_sqme\"], oo_configs, categories=signal_category),\n",
    "}"
   ]
  },
  {
   "cell_type": "code",
   "execution_count": 9,
   "metadata": {},
   "outputs": [],
   "source": [
    "for names in oo_names.values():\n",
    "    for name in names:\n",
    "        # create dummy oo where they don't exist yet\n",
    "        analysis.define_only_on([\"4f_sl_bkg\"], name, \"0.\")\n",
    "# TODO: re-consider what is correct here...\n",
    "analysis.add_filter(\"&&\".join([f\"std::isfinite({oo})\" for oo_name in oo_names.values() for oo in oo_name]), \"finite OO\")\n",
    "# analysis.add_filter(\"&&\".join([f\"abs({oo}) <= 5\" for oo in oo_names[\"reco_oo\"]]), \"abs(OO) <= 5\")\n",
    "# analysis.add_filter(\"(iso_lep_lvec + nu_lvec).M() > 0.\", \"physical nu\")\n",
    "# analysis.add_filter(\"(iso_lep_lvec + clean_nu_lvec).M() > 0.\", \"physical clean_nu\")\n",
    "# analysis.add_filter(\"nu_lvec.E() > 0.\", \"physical nu\")\n",
    "# analysis.add_filter(\"clean_nu_lvec.E() > 0.\", \"physical clean nu\")\n",
    "analysis.book_reports()"
   ]
  },
  {
   "cell_type": "code",
   "execution_count": 10,
   "metadata": {},
   "outputs": [],
   "source": [
    "analysis.book_histogram_1D(\"mc_O_g1z_pos_1em08\", \"mc_O_g1z_pos_1em08\", (\"\", \"\", 250, -2.5, 2.5), categories=signal_category)\n",
    "analysis.book_histogram_1D(\"mc_O_ka_pos_1em08\", \"mc_O_ka_pos_1em08\", (\"\", \"\", 250, -2.5, 2.5), categories=signal_category)\n",
    "analysis.book_histogram_1D(\"mc_O_la_pos_1em08\", \"mc_O_la_pos_1em08\", (\"\", \"\", 250, -2.5, 2.5), categories=signal_category)"
   ]
  },
  {
   "cell_type": "code",
   "execution_count": 11,
   "metadata": {},
   "outputs": [],
   "source": [
    "alt_setup_handler = AltSetupHandler(\"\"\"\n",
    "{\n",
    "  \"SM\": {\n",
    "    \"g1z\": 1.0,\n",
    "    \"ka\": 1.0,\n",
    "    \"la\": 0.0\n",
    "  },\n",
    "\"variations\": [\n",
    "    0.001,\n",
    "    -0.001,\n",
    "    1e-04,\n",
    "    -1e-04,\n",
    "    1e-08\n",
    "  ]\n",
    "}\n",
    "\"\"\", mirror=False, combinations=False)\n",
    "alt_config_names = list(alt_setup_handler.get_alt_setup().keys())"
   ]
  },
  {
   "cell_type": "code",
   "execution_count": 12,
   "metadata": {},
   "outputs": [],
   "source": [
    "weight_names = analysis.book_weight_sums([\"nominal\"] + alt_config_names, categories=signal_category)"
   ]
  },
  {
   "cell_type": "code",
   "execution_count": 13,
   "metadata": {},
   "outputs": [],
   "source": [
    "for names in oo_names.values():\n",
    "    analysis.define_weighted_oo(names, weight_names, categories=signal_category)\n",
    "    analysis.book_oo_sums(names, weight_names, categories=signal_category)\n",
    "    analysis.book_oo_matrix(names, categories=signal_category)"
   ]
  },
  {
   "cell_type": "code",
   "execution_count": 14,
   "metadata": {},
   "outputs": [
    {
     "name": "stdout",
     "output_type": "stream",
     "text": [
      "CPU times: user 2min 12s, sys: 1.63 s, total: 2min 14s\n",
      "Wall time: 27.4 s\n"
     ]
    }
   ],
   "source": [
    "%%time\n",
    "analysis.run()"
   ]
  },
  {
   "cell_type": "code",
   "execution_count": 15,
   "metadata": {},
   "outputs": [
    {
     "name": "stdout",
     "output_type": "stream",
     "text": [
      "         4f_sw_sl_signal               4f_sl_bkg\n",
      "        10244400 (1e+04)           33239 (6e+02) All\n",
      "        10236314 (1e+04)           33239 (6e+02) finite OO\n",
      "                    1.00                    1.00 efficiency\n",
      "\n"
     ]
    }
   ],
   "source": [
    "analysis.print_reports()"
   ]
  },
  {
   "cell_type": "code",
   "execution_count": 16,
   "metadata": {},
   "outputs": [],
   "source": [
    "# calculate means etc.\n",
    "# oo_means = analysis.calc_oo_means(oo_names, weight_names, categories=signal_category)"
   ]
  },
  {
   "cell_type": "code",
   "execution_count": 17,
   "metadata": {},
   "outputs": [
    {
     "name": "stdout",
     "output_type": "stream",
     "text": [
      "['g1z_pos_1em03', 'ka_pos_1em03', 'la_pos_1em03', 'g1z_neg_1em03', 'ka_neg_1em03', 'la_neg_1em03', 'g1z_pos_1em04', 'ka_pos_1em04', 'la_pos_1em04', 'g1z_neg_1em04', 'ka_neg_1em04', 'la_neg_1em04', 'g1z_pos_1em08', 'ka_pos_1em08', 'la_pos_1em08']\n"
     ]
    }
   ],
   "source": [
    "print(alt_config_names)"
   ]
  },
  {
   "cell_type": "code",
   "execution_count": 18,
   "metadata": {},
   "outputs": [],
   "source": [
    "# oo_graphs = analysis.make_slope_graphs(oo_names, [\"g1z\", \"ka\", \"la\"], alt_config_names, oo_means)"
   ]
  },
  {
   "cell_type": "code",
   "execution_count": 19,
   "metadata": {},
   "outputs": [],
   "source": [
    "# canvases = {}\n",
    "# for k, g in oo_graphs.items():\n",
    "#     c = ROOT.TCanvas()\n",
    "#     g.Draw(\"alp\")\n",
    "#     c.Draw()\n",
    "#     canvases[k] = c"
   ]
  },
  {
   "cell_type": "code",
   "execution_count": 20,
   "metadata": {},
   "outputs": [
    {
     "name": "stdout",
     "output_type": "stream",
     "text": [
      "reco_oo\n",
      "#evt/ab_inv, means, slopes, cov\n",
      "2047262.771679877\n",
      "[0.009050337751655086, 0.02986366191236436, 0.07941814171753178]\n",
      "[[56.122630789087246, 11.07237941246507, -35.34526906037747], [2.0228391370594236, 7.200556792461437, -0.6056150163560191], [-5.144198311514213, -0.5953383330757157, 9.551647487744916]]\n",
      "[[0.7188752700091822, 0.1545973079123668, -0.3673602443525501], [0.1545973079123668, 0.45951923657092947, -0.009535052450613564], [-0.3673602443525501, -0.009535052450613564, 1.497112484751196]]\n",
      "\n",
      "reco_jm_oo\n",
      "#evt/ab_inv, means, slopes, cov\n",
      "2047262.771679877\n",
      "[0.03426759426688541, 0.015816566507402534, 0.0593572042825751]\n",
      "[[29.928850957383453, -2.190463374087776, -17.38482652950051], [-6.22812007868442, 22.118290368293408, 0.8575828968437179], [-10.429072347800265, -0.614732178907253, 29.76956128440743]]\n",
      "[[1.843129963804532, -0.021205946634546016, -0.8167863220401246], [-0.021205946634546016, 0.82812993035282, -0.11679953728680001], [-0.8167863220401246, -0.11679953728680001, 3.504756223481613]]\n",
      "\n",
      "clean_reco_oo\n",
      "#evt/ab_inv, means, slopes, cov\n",
      "2047262.771679877\n",
      "[0.030441662799926876, 0.10846393475331201, 0.12389708472616563]\n",
      "[[16.768595749653993, 2.760696461655831, -10.73569757194765], [0.37833900348352756, 1.9360706217617172, -0.05603472392111035], [-3.3432344984651263, -0.5949789788526691, 6.236634685839603]]\n",
      "[[0.615094610633067, 0.10375491829641083, -0.3393080982862872], [0.10375491829641083, 0.40335770054883807, 0.02606838146816145], [-0.3393080982862872, 0.02606838146816145, 1.1453396086931702]]\n",
      "\n",
      "clean_reco_jm_oo\n",
      "#evt/ab_inv, means, slopes, cov\n",
      "2047262.771679877\n",
      "[0.03981034703988303, 0.10158416514215726, 0.12632775065760635]\n",
      "[[24.54918265518809, -1.7144431431066032, -14.161654423138232], [-1.0733104954114325, 3.2984016529733693, 0.1446047455499642], [-5.075068923728701, -0.40237148086363683, 14.399551270764427]]\n",
      "[[1.4170570783264582, -0.032732674024600915, -0.6597343605447418], [-0.032732674024600915, 0.654481129313182, 0.02821244018389952], [-0.6597343605447418, 0.02821244018389952, 2.755638135696324]]\n",
      "\n"
     ]
    },
    {
     "name": "stdout",
     "output_type": "stream",
     "text": [
      "cheat_clean_reco_oo\n",
      "#evt/ab_inv, means, slopes, cov\n",
      "2047262.771679877\n",
      "[0.020199000878318503, 0.08944565825042262, 0.12401454044702803]\n",
      "[[27.271726567059353, 4.708209766974348, -17.737021776064392], [0.5072885637248303, 2.399463164417753, -0.16905907007045776], [-3.5413919453643006, -0.6697682675660231, 6.490692580098767]]\n",
      "[[0.6432501425982261, 0.10295928446266547, -0.3770357070217203], [0.10295928446266547, 0.37982418981067334, 0.009411421585742218], [-0.3770357070217203, 0.009411421585742218, 1.1070707868908578]]\n",
      "\n",
      "cheat_clean_reco_jm_oo\n",
      "#evt/ab_inv, means, slopes, cov\n",
      "2047262.771679877\n",
      "[0.027373226199887257, 0.08214875975211186, 0.12146134069573557]\n",
      "[[38.31060647542124, -2.099999696244751, -21.99535179958082], [-1.3279031410923332, 4.166258708071064, 0.03429225265721244], [-5.561037428699802, -0.4909117501075932, 15.284000709601555]]\n",
      "[[1.4680939105378537, -0.0348527074212069, -0.7124866953497548], [-0.0348527074212069, 0.6252464705580689, 0.004387170857465357], [-0.7124866953497548, 0.004387170857465357, 2.6166527535566884]]\n",
      "\n",
      "mc_oo\n",
      "#evt/ab_inv, means, slopes, cov\n",
      "2047262.771679877\n",
      "[-0.10407257688573684, -0.06935335791644298, 0.09046096411375672]\n",
      "[[-14.242069372825943, 0.24101813542504416, 8.096687039858843], [0.3616750590199124, -6.369267660446827, 1.0058311080820121], [-9.314991228607438, -0.7711366655606393, 26.619088030156615]]\n",
      "[[1.4822088538278682, -0.0250833807789575, -0.8426430868812526], [-0.0250833807789575, 0.44173009799384505, -0.06975776542985697], [-0.8426430868812526, -0.06975776542985697, 2.4079883703773857]]\n",
      "\n",
      "nomb_mc_oo\n",
      "#evt/ab_inv, means, slopes, cov\n",
      "2047262.771679877\n",
      "[-0.09893238862155954, -0.056911012645218605, 0.0786867544263384]\n",
      "[[-13.768104404940166, 0.2155313315521062, 7.682909943878685], [0.7584835926075761, -7.320134770188934, 1.0896497930089508], [-9.752020163937882, -0.6913433098255317, 28.19570403524288]]\n",
      "[[1.3287010941467066, -0.03460143434509512, -0.7298617125604373], [-0.03460143434509512, 0.4122393939012374, -0.05231716487724904], [-0.7298617125604373, -0.05231716487724904, 2.1621029174368123]]\n",
      "\n",
      "nomb_mc_rlep_oo\n",
      "#evt/ab_inv, means, slopes, cov\n",
      "2047262.771679877\n",
      "[-0.11906087517315217, -0.06486498955005451, 0.03628727042917063]\n",
      "[[-10.818367820303962, 0.10236485733036245, 6.068604518756358], [0.3767485487852619, -6.101936747266742, 0.9953618925310675], [-19.200196324648932, -1.0832759728088042, 56.23632247644229]]\n",
      "[[1.3045885821979484, 0.003908152616855522, -0.674347588584214], [0.003908152616855522, 0.43050387726967776, -0.04386688842194991], [-0.674347588584214, -0.04386688842194991, 2.0593294232225845]]\n",
      "\n",
      "av_mc_oo\n",
      "#evt/ab_inv, means, slopes, cov\n",
      "2047262.771679877\n",
      "[-0.104048678948528, -0.06946611770945366, 0.08979488941823796]\n",
      "[[-7.647149978484429, -1.3920674924862588, 4.871450234773565], [-2.0811275012550863, -4.1863883998527625, 1.277384154324901], [-5.680992743314147, -1.0070674742755388, 11.007474622936837]]\n",
      "[[0.7964464377197423, 0.14412664262550945, -0.5093060492988551], [0.14412664262550945, 0.29015365540609067, -0.08989355108651874], [-0.5093060492988551, -0.08989355108651874, 0.9936222651949149]]\n",
      "\n",
      "av_nomb_mc_oo\n",
      "#evt/ab_inv, means, slopes, cov\n",
      "2047262.771679877\n",
      "[-0.10906062831297444, -0.05495127051162606, 0.08114173834790378]\n",
      "[[-6.700568339685052, -1.4004801624952383, 4.313173786875001], [-2.3731033421744256, -4.8713117836717785, 1.4806120387846007], [-5.808097233476862, -0.935398530140426, 11.348726891618908]]\n",
      "[[0.7049211901002926, 0.13872256861291385, -0.4512026311375545], [0.13872256861291385, 0.2569047321153842, -0.07231313210080946], [-0.4512026311375545, -0.07231313210080946, 0.8947573732880347]]\n",
      "\n",
      "av_nomb_mc_rlep_oo\n",
      "#evt/ab_inv, means, slopes, cov\n",
      "2047262.771679877\n",
      "[-0.13319867612345962, -0.06181573626040081, 0.04360617070981092]\n",
      "[[-5.162149116269105, -1.1659896052923768, 3.398888886205427], [-2.2021958471437175, -4.088418939965653, 1.2799563157143636], [-9.713648594106914, -1.2207547013556248, 19.557069861146072]]\n",
      "[[0.6753276627428075, 0.1508218852913407, -0.40593177877474745], [0.1508218852913407, 0.2616126347894381, -0.053043318369842204], [-0.40593177877474745, -0.053043318369842204, 0.8694863232762523]]\n",
      "\n"
     ]
    }
   ],
   "source": [
    "if write_outputs:\n",
    "    for name, names in oo_names.items():\n",
    "        print(name)\n",
    "        analysis.print_fit_input(names, weight_names, e_pol=0., p_pol=0., categories=signal_category, dir=\"fit-configs/signal-only\", name=name)"
   ]
  },
  {
   "cell_type": "code",
   "execution_count": null,
   "metadata": {},
   "outputs": [],
   "source": []
  }
 ],
 "metadata": {
  "kernelspec": {
   "display_name": "Python 3",
   "language": "python",
   "name": "python3"
  },
  "language_info": {
   "codemirror_mode": {
    "name": "ipython",
    "version": 3
   },
   "file_extension": ".py",
   "mimetype": "text/x-python",
   "name": "python",
   "nbconvert_exporter": "python",
   "pygments_lexer": "ipython3",
   "version": "3.13.5"
  }
 },
 "nbformat": 4,
 "nbformat_minor": 4
}
