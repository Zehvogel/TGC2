{
 "cells": [
  {
   "cell_type": "code",
   "execution_count": 1,
   "id": "09c83dcb",
   "metadata": {},
   "outputs": [
    {
     "name": "stdout",
     "output_type": "stream",
     "text": [
      "OBJ: TStyle\tildStyle\tILD Style : 0 at: 0x9ee6890\n"
     ]
    }
   ],
   "source": [
    "import ROOT\n",
    "import numpy as np\n",
    "from itertools import combinations_with_replacement\n",
    "from ast import literal_eval"
   ]
  },
  {
   "cell_type": "code",
   "execution_count": 2,
   "id": "8aa961b2",
   "metadata": {},
   "outputs": [],
   "source": [
    "input_path = \"fit-configs/signal-only/fit-inputs-0.0-0.0-reco_oo.txt\"\n",
    "# input_path = \"fit-configs/signal-only/fit-inputs-0.0-0.0-mc_oo.txt\"\n",
    "# input_path = \"fit-configs/signal-only/fit-inputs-0.0-0.0-av_mc_oo.txt\""
   ]
  },
  {
   "cell_type": "code",
   "execution_count": 3,
   "id": "1ad57482",
   "metadata": {},
   "outputs": [
    {
     "name": "stdout",
     "output_type": "stream",
     "text": [
      "['#evt/ab_inv, means, slopes, cov\\n', '2022377.202575377\\n', '[0.025102206287087838, 0.04795018914790096, 0.0647069553362756]\\n', '[[16.453997746930632, 3.6333378331753816, -9.742560084453636], [1.011958347460184, 3.7941217592848138, 0.008583486433210117], [-5.051637323324201, -0.6220281135795896, 9.088317890899981]]\\n', '[[0.526004905526162, 0.11740744424050836, -0.2590917059455628], [0.11740744424050836, 0.3730411566425547, 0.024186149615180685], [-0.2590917059455628, 0.024186149615180685, 1.033176508820112]]\\n']\n"
     ]
    }
   ],
   "source": [
    "with open(input_path) as infile:\n",
    "    lines = infile.readlines()\n",
    "n_per_ab = literal_eval(lines[1])\n",
    "nominal_means = literal_eval(lines[2])\n",
    "slopes = literal_eval(lines[3])\n",
    "Cov_O = literal_eval(lines[4])\n",
    "print(lines)"
   ]
  },
  {
   "cell_type": "code",
   "execution_count": 4,
   "id": "1bbe038f",
   "metadata": {},
   "outputs": [],
   "source": [
    "n_obs = len(nominal_means)\n",
    "run_ab = 3"
   ]
  },
  {
   "cell_type": "code",
   "execution_count": 5,
   "id": "97cba47f",
   "metadata": {},
   "outputs": [],
   "source": [
    "coupling_names = [\"g1z\", \"ka\", \"lz\"]"
   ]
  },
  {
   "cell_type": "code",
   "execution_count": 6,
   "id": "3ac04bb3",
   "metadata": {},
   "outputs": [],
   "source": [
    "Cov_mean_O = np.asarray(Cov_O) / (n_per_ab * run_ab)"
   ]
  },
  {
   "cell_type": "code",
   "execution_count": 7,
   "id": "95f8ae8a",
   "metadata": {},
   "outputs": [
    {
     "name": "stdout",
     "output_type": "stream",
     "text": [
      "[<cppyy.gbl.RooProduct object at 0xd0c5c90>, <cppyy.gbl.RooProduct object at 0xd023a00>, <cppyy.gbl.RooProduct object at 0xd0d1b80>, <cppyy.gbl.RooProduct object at 0xd3fa710>, <cppyy.gbl.RooProduct object at 0xd40b740>, <cppyy.gbl.RooProduct object at 0xd2f78a0>, <cppyy.gbl.RooProduct object at 0xd357d40>, <cppyy.gbl.RooProduct object at 0x9f77f00>, <cppyy.gbl.RooProduct object at 0xd339310>]\n"
     ]
    }
   ],
   "source": [
    "couplings = []\n",
    "for i in range(3):\n",
    "    cpl = ROOT.RooRealVar(coupling_names[i], coupling_names[i], 0., -0.5, 0.5)\n",
    "    couplings.append(cpl)\n",
    "\n",
    "obs = []\n",
    "mus_exp = []\n",
    "all_vars = []\n",
    "rel_changes = []\n",
    "for i, m in enumerate(nominal_means):\n",
    "    sigma = np.sqrt(Cov_mean_O[i,i])\n",
    "    o = ROOT.RooRealVar(f\"O_{i+1}\", f\"O_{i+1}\", m, m-5*sigma, m+5*sigma)\n",
    "    obs.append(o)\n",
    "\n",
    "    vars = []\n",
    "    for j in range(3):\n",
    "        # var = ROOT.RooProduct(f\"var_{i}_{j}\", f\"var_{i}_{j}\", couplings[j], ROOT.RooFit.RooConst(slopes[j][i]))\n",
    "        var = ROOT.RooProduct(f\"var_{i}_{j}\", f\"var_{i}_{j}\", couplings[j], ROOT.RooFit.RooConst(slopes[i][j]))\n",
    "        vars.append(var)\n",
    "    all_vars += vars\n",
    "    nominal_exp = ROOT.RooFit.RooConst(m)\n",
    "    # mu_exp = ROOT.RooAddition(f\"mu_exp_{i}\", f\"mu_exp_{i}\", [nominal_exp] + vars)\n",
    "    rel_change = ROOT.RooAddition(f\"rel_change_{i}\", f\"rel_change_{i}\", [ROOT.RooFit.RooConst(1.0)] + vars)\n",
    "    rel_changes.append(rel_change)\n",
    "    mu_exp = ROOT.RooProduct(f\"mu_exp_{i}\", f\"mu_exp_{i}\", rel_change, nominal_exp)\n",
    "    mus_exp.append(mu_exp)\n",
    "\n",
    "print(all_vars)\n",
    "\n",
    "Cov_mean_O_root = ROOT.TMatrixDSym(n_obs)\n",
    "for i, j in combinations_with_replacement(range(3), r=2):\n",
    "    Cov_mean_O_root[i][j] = Cov_mean_O[i, j]\n",
    "    Cov_mean_O_root[j][i] = Cov_mean_O[i, j]\n",
    "\n",
    "model = ROOT.RooMultiVarGaussian(\"model\", \"model\", obs, mus_exp, Cov_mean_O_root)"
   ]
  },
  {
   "cell_type": "code",
   "execution_count": 8,
   "id": "4562bb8b",
   "metadata": {},
   "outputs": [
    {
     "name": "stdout",
     "output_type": "stream",
     "text": [
      "0xd6c66e0 RooMultiVarGaussian::model = 1 [Auto,Dirty] \n",
      "  0xaa4e2f0/V- RooRealVar::O_1 = 0.0251022\n",
      "  0xd26ad90/V- RooRealVar::O_2 = 0.0479502\n",
      "  0x6744960/V- RooRealVar::O_3 = 0.064707\n",
      "  0xd2874a0/V- RooProduct::mu_exp_0 = 0.0251022 [Auto,Clean] \n",
      "    0xd33b580/V- RooAddition::rel_change_0 = 1 [Auto,Clean] \n",
      "      0xd0ecc50/V- RooConstVar::1 = 1\n",
      "      0xd0c5c90/V- RooProduct::var_0_0 = 0 [Auto,Clean] \n",
      "        0xce30610/V- RooRealVar::g1z = 0\n",
      "        0xd011400/V- RooConstVar::16.454 = 16.454\n",
      "      0xd023a00/V- RooProduct::var_0_1 = 0 [Auto,Clean] \n",
      "        0xcd33270/V- RooRealVar::ka = 0\n",
      "        0xcf40700/V- RooConstVar::3.63334 = 3.63334\n",
      "      0xd0d1b80/V- RooProduct::var_0_2 = 0 [Auto,Clean] \n",
      "        0xca969a0/V- RooRealVar::lz = 0\n",
      "        0xd0eb5d0/V- RooConstVar::-9.74256 = -9.74256\n",
      "    0xd0ed6c0/V- RooConstVar::0.0251022 = 0.0251022\n",
      "  0xd236cf0/V- RooProduct::mu_exp_1 = 0.0479502 [Auto,Clean] \n",
      "    0xd3b3f00/V- RooAddition::rel_change_1 = 1 [Auto,Clean] \n",
      "      0xd0ecc50/V- RooConstVar::1 = 1\n",
      "      0xd3fa710/V- RooProduct::var_1_0 = 0 [Auto,Clean] \n",
      "        0xce30610/V- RooRealVar::g1z = 0\n",
      "        0xd3bfa00/V- RooConstVar::1.01196 = 1.01196\n",
      "      0xd40b740/V- RooProduct::var_1_1 = 0 [Auto,Clean] \n",
      "        0xcd33270/V- RooRealVar::ka = 0\n",
      "        0xd3be1a0/V- RooConstVar::3.79412 = 3.79412\n",
      "      0xd2f78a0/V- RooProduct::var_1_2 = 0 [Auto,Clean] \n",
      "        0xca969a0/V- RooRealVar::lz = 0\n",
      "        0xd339a00/V- RooConstVar::0.00858349 = 0.00858349\n",
      "    0xd338f90/V- RooConstVar::0.0479502 = 0.0479502\n",
      "  0xd22f110/V- RooProduct::mu_exp_2 = 0.064707 [Auto,Clean] \n",
      "    0xd3fe160/V- RooAddition::rel_change_2 = 1 [Auto,Clean] \n",
      "      0xd0ecc50/V- RooConstVar::1 = 1\n",
      "      0xd357d40/V- RooProduct::var_2_0 = 0 [Auto,Clean] \n",
      "        0xce30610/V- RooRealVar::g1z = 0\n",
      "        0xd33bb30/V- RooConstVar::-5.05164 = -5.05164\n",
      "      0x9f77f00/V- RooProduct::var_2_1 = 0 [Auto,Clean] \n",
      "        0xcd33270/V- RooRealVar::ka = 0\n",
      "        0xd3bd4b0/V- RooConstVar::-0.622028 = -0.622028\n",
      "      0xd339310/V- RooProduct::var_2_2 = 0 [Auto,Clean] \n",
      "        0xca969a0/V- RooRealVar::lz = 0\n",
      "        0xd33af00/V- RooConstVar::9.08832 = 9.08832\n",
      "    0xd404c20/V- RooConstVar::0.064707 = 0.064707\n"
     ]
    }
   ],
   "source": [
    "model.Print(\"t\")"
   ]
  },
  {
   "cell_type": "code",
   "execution_count": 9,
   "id": "cdfbc431",
   "metadata": {},
   "outputs": [
    {
     "data": {
      "text/plain": [
       "<cppyy.gbl.RooWorkspace object at 0xd7a0db0>"
      ]
     },
     "execution_count": 9,
     "metadata": {},
     "output_type": "execute_result"
    }
   ],
   "source": [
    "w = ROOT.RooWorkspace(\"w\", \"workspace\")\n",
    "# w.Import(model)\n",
    "modelconfig = ROOT.RooStats.ModelConfig(\"modelconfig\", w)\n",
    "modelconfig.SetPdf(model)\n",
    "modelconfig.SetParametersOfInterest(couplings)\n",
    "modelconfig.SetObservables(obs)\n",
    "# w.Print()\n",
    "w.Import(modelconfig)\n",
    "w.writeToFile(\"gen-lvl-standalone-ws.root\")\n",
    "w"
   ]
  },
  {
   "cell_type": "code",
   "execution_count": 10,
   "id": "71d75bd4",
   "metadata": {},
   "outputs": [
    {
     "name": "stdout",
     "output_type": "stream",
     "text": [
      "DataStore CountingAsimovData0 (CountingAsimovData0)\n",
      "  Contains 1 entries\n",
      "  Observables: \n",
      "    1)  O_1 = 0.0251022  L(0.02363 - 0.0265744)  \"O_1\"\n",
      "    2)  O_2 = 0.0479502  L(0.0467104 - 0.04919)  \"O_2\"\n",
      "    3)  O_3 = 0.064707  L(0.0626436 - 0.0667703)  \"O_3\"\n"
     ]
    }
   ],
   "source": [
    "ds = ROOT.RooStats.AsymptoticCalculator.GenerateAsimovData(model, obs)\n",
    "ds.Print(\"v\")"
   ]
  },
  {
   "cell_type": "code",
   "execution_count": 11,
   "id": "f53b0ea8",
   "metadata": {},
   "outputs": [
    {
     "name": "stdout",
     "output_type": "stream",
     "text": [
      "[#1] INFO:Fitting -- RooAbsPdf::fitTo(model_over_model_Int[O_1,O_2,O_3]) fixing normalization set for coefficient determination to observables in data\n",
      "[#1] INFO:Fitting -- using generic CPU library compiled with no vectorizations\n",
      "[#1] INFO:Fitting -- Creation of NLL object took 8.9078 ms\n"
     ]
    }
   ],
   "source": [
    "nll = model.createNLL(ds)"
   ]
  },
  {
   "cell_type": "code",
   "execution_count": 12,
   "id": "0e98056e",
   "metadata": {},
   "outputs": [
    {
     "name": "stdout",
     "output_type": "stream",
     "text": [
      "[#1] INFO:Fitting -- RooAddition::defaultErrorLevel(nll_model_over_model_Int[O_1,O_2,O_3]_CountingAsimovData0) Summation contains a RooNLLVar, using its error level\n"
     ]
    }
   ],
   "source": [
    "nll_minimizer = ROOT.RooMinimizer(nll)"
   ]
  },
  {
   "cell_type": "code",
   "execution_count": 13,
   "id": "a4ad0968",
   "metadata": {},
   "outputs": [
    {
     "data": {
      "text/plain": [
       "0"
      ]
     },
     "execution_count": 13,
     "metadata": {},
     "output_type": "execute_result"
    },
    {
     "name": "stdout",
     "output_type": "stream",
     "text": [
      "Minuit2Minimizer: Minimize with max-calls 1500 convergence for edm < 1 strategy 1\n",
      "Minuit2Minimizer : Valid minimum - status = 0\n",
      "FVAL  = -21.5818820435083687\n",
      "Edm   = 0\n",
      "Nfcn  = 29\n",
      "g1z\t  = 0\t +/-  0.00105608\t(limited)\n",
      "ka\t  = 0\t +/-  0.00140882\t(limited)\n",
      "lz\t  = 0\t +/-  0.00100514\t(limited)\n"
     ]
    },
    {
     "name": "stderr",
     "output_type": "stream",
     "text": [
      "Info in <Minuit2>: MnSeedGenerator Computing seed using NumericalGradient calculator\n",
      "Info in <Minuit2>: MnSeedGenerator Evaluated function and gradient in 135.603 μs\n",
      "Info in <Minuit2>: MnSeedGenerator Initial state: FCN =      -21.58188204 Edm =                 0 NCalls =     13\n",
      "Info in <Minuit2>: MnSeedGenerator Initial state  \n",
      "  Minimum value : -21.58188204\n",
      "  Edm           : 0\n",
      "  Internal parameters:\t[                0                0                0]\t\n",
      "  Internal gradient  :\t[                0                0                0]\t\n",
      "  Internal covariance matrix:\n",
      "[[  3.8302285e-06              0              0]\n",
      " [              0  1.4278039e-05              0]\n",
      " [              0              0  3.7075639e-06]]]\n",
      "Info in <Minuit2>: VariableMetricBuilder Start iterating until Edm is < 0.001 with call limit = 1500\n",
      "Info in <Minuit2>: VariableMetricBuilder    0 - FCN =      -21.58188204 Edm =                 0 NCalls =     13\n",
      "Info in <Minuit2>: MnHesse Done after 45.239 μs\n",
      "Info in <Minuit2>: VariableMetricBuilder After Hessian\n",
      "Info in <Minuit2>: VariableMetricBuilder    1 - FCN =      -21.58188204 Edm =                 0 NCalls =     29\n",
      "Info in <Minuit2>: VariableMetricBuilder Stop iterating after 71.821 μs\n"
     ]
    }
   ],
   "source": [
    "nll_minimizer.migrad()"
   ]
  },
  {
   "cell_type": "code",
   "execution_count": 14,
   "id": "b6b3705d",
   "metadata": {},
   "outputs": [
    {
     "data": {
      "text/plain": [
       "0"
      ]
     },
     "execution_count": 14,
     "metadata": {},
     "output_type": "execute_result"
    },
    {
     "name": "stdout",
     "output_type": "stream",
     "text": [
      "******************************************************************************************************\n",
      "Minuit2Minimizer::GetMinosError - Run MINOS LOWER error for parameter #0 : g1z using max-calls 1500, tolerance 1\n",
      "******************************************************************************************************\n",
      "Minuit2Minimizer::GetMinosError - Run MINOS UPPER error for parameter #0 : g1z using max-calls 1500, tolerance 1\n",
      "Minos: Lower error for parameter g1z  :  -0.00105608\n",
      "Minos: Upper error for parameter g1z  :  0.00105608\n",
      "******************************************************************************************************\n",
      "Minuit2Minimizer::GetMinosError - Run MINOS LOWER error for parameter #1 : ka using max-calls 1500, tolerance 1\n",
      "******************************************************************************************************\n",
      "Minuit2Minimizer::GetMinosError - Run MINOS UPPER error for parameter #1 : ka using max-calls 1500, tolerance 1\n",
      "Minos: Lower error for parameter ka  :  -0.00140882\n",
      "Minos: Upper error for parameter ka  :  0.00140882\n",
      "******************************************************************************************************\n",
      "Minuit2Minimizer::GetMinosError - Run MINOS LOWER error for parameter #2 : lz using max-calls 1500, tolerance 1\n",
      "******************************************************************************************************\n",
      "Minuit2Minimizer::GetMinosError - Run MINOS UPPER error for parameter #2 : lz using max-calls 1500, tolerance 1\n",
      "Minos: Lower error for parameter lz  :  -0.00100514\n",
      "Minos: Upper error for parameter lz  :  0.00100514\n"
     ]
    },
    {
     "name": "stderr",
     "output_type": "stream",
     "text": [
      "Info in <Minuit2>: MnMinos Determination of lower Minos error for parameter 0\n",
      "Info in <Minuit2>: MnFunctionCross Run Migrad with fixed parameters:\n",
      "  Pos 0: g1z = -0.00105608\n",
      "Info in <Minuit2>: MnSeedGenerator Computing seed using NumericalGradient calculator\n",
      "Info in <Minuit2>: MnSeedGenerator Evaluated function and gradient in 108.473 μs\n",
      "Info in <Minuit2>: MnSeedGenerator Initial state: FCN =      -21.08188278 Edm =   1.172739127e-13 NCalls =      9\n",
      "Info in <Minuit2>: MnSeedGenerator Initial state  \n",
      "  Minimum value : -21.08188278\n",
      "  Edm           : 1.172739127e-13\n",
      "  Internal parameters:\t[  0.0007347551333  -0.001455985706]\t\n",
      "  Internal gradient  :\t[  9.654981344e-05 -0.0003312305206]\t\n",
      "  Internal covariance matrix:\n",
      "[[  1.4798472e-05   1.414168e-06]\n",
      " [   1.414168e-06  3.8427043e-06]]]\n",
      "Info in <Minuit2>: VariableMetricBuilder Start iterating until Edm is < 0.0005 with call limit = 1500\n",
      "Info in <Minuit2>: VariableMetricBuilder    0 - FCN =      -21.08188278 Edm =   1.172739127e-13 NCalls =      9\n",
      "Info in <Minuit2>: VariableMetricBuilder    1 - FCN =      -21.08188278 Edm =   3.862049172e-16 NCalls =     19\n",
      "Info in <Minuit2>: VariableMetricBuilder Stop iterating after 185.422 μs\n",
      "Info in <Minuit2>: MnFunctionCross Result after Migrad FCN =      -21.08188278 Edm =   3.862049172e-16 NCalls =     19 \n",
      "  Pos |    Name    |  type   |      Value       |    Error +/-\n",
      "    0 |        g1z |  fixed  |  -0.001056076481 | 0.001056076481\n",
      "    1 |         ka | limited |  0.0003673773073 | 0.001360072782\n",
      "    2 |         lz | limited | -0.0007279923282 | 0.0006930642675\n",
      "Info in <Minuit2>: MnMinos end of Minos scan for low interval for parameter g1z\n",
      "Info in <Minuit2>: MnMinos Determination of upper Minos error for parameter 0\n",
      "Info in <Minuit2>: MnFunctionCross Run Migrad with fixed parameters:\n",
      "  Pos 0: g1z = 0.00105608\n",
      "Info in <Minuit2>: MnSeedGenerator Computing seed using NumericalGradient calculator\n",
      "Info in <Minuit2>: MnSeedGenerator Evaluated function and gradient in 65.82 μs\n",
      "Info in <Minuit2>: MnSeedGenerator Initial state: FCN =      -21.08188278 Edm =    1.17273017e-13 NCalls =      9\n",
      "Info in <Minuit2>: MnSeedGenerator Initial state  \n",
      "  Minimum value : -21.08188278\n",
      "  Edm           : 1.17273017e-13\n",
      "  Internal parameters:\t[ -0.0007347551333   0.001455985706]\t\n",
      "  Internal gradient  :\t[ -9.654794823e-05  0.0003312305206]\t\n",
      "  Internal covariance matrix:\n",
      "[[  1.4798472e-05   1.414168e-06]\n",
      " [   1.414168e-06  3.8427043e-06]]]\n",
      "Info in <Minuit2>: VariableMetricBuilder Start iterating until Edm is < 0.0005 with call limit = 1500\n",
      "Info in <Minuit2>: VariableMetricBuilder    0 - FCN =      -21.08188278 Edm =    1.17273017e-13 NCalls =      9\n",
      "Info in <Minuit2>: VariableMetricBuilder    1 - FCN =      -21.08188278 Edm =   3.720982117e-15 NCalls =     24\n",
      "Info in <Minuit2>: VariableMetricBuilder Stop iterating after 210.944 μs\n",
      "Info in <Minuit2>: MnFunctionCross Result after Migrad FCN =      -21.08188278 Edm =   3.720982117e-15 NCalls =     24 \n",
      "  Pos |    Name    |  type   |      Value       |    Error +/-\n",
      "    0 |        g1z |  fixed  |   0.001056076481 | 0.001056076481\n",
      "    1 |         ka | limited | -0.0003673772507 | 0.001360075223\n",
      "    2 |         lz | limited |  0.0007279922613 | 0.0006930598976\n",
      "Info in <Minuit2>: MnMinos end of Minos scan for up interval for parameter g1z\n",
      "Info in <Minuit2>: MnMinos Determination of lower Minos error for parameter 1\n",
      "Info in <Minuit2>: MnFunctionCross Run Migrad with fixed parameters:\n",
      "  Pos 1: ka = -0.00140882\n",
      "Info in <Minuit2>: MnSeedGenerator Computing seed using NumericalGradient calculator\n",
      "Info in <Minuit2>: MnSeedGenerator Evaluated function and gradient in 105.227 μs\n",
      "Info in <Minuit2>: MnSeedGenerator Initial state: FCN =      -21.08188336 Edm =   8.962323837e-14 NCalls =      9\n",
      "Info in <Minuit2>: MnSeedGenerator Initial state  \n",
      "  Minimum value : -21.08188336\n",
      "  Edm           : 8.962323837e-14\n",
      "  Internal parameters:\t[  0.0005507856868  0.0001287278815]\t\n",
      "  Internal gradient  :\t[  0.0002997463477  -0.000181526443]\t\n",
      "  Internal covariance matrix:\n",
      "[[  8.3156638e-06  6.0087307e-06]\n",
      " [  6.0087307e-06  8.0493513e-06]]]\n",
      "Info in <Minuit2>: VariableMetricBuilder Start iterating until Edm is < 0.0005 with call limit = 1500\n",
      "Info in <Minuit2>: VariableMetricBuilder    0 - FCN =      -21.08188336 Edm =   8.962323837e-14 NCalls =      9\n",
      "Info in <Minuit2>: VariableMetricBuilder    1 - FCN =      -21.08188336 Edm =   1.079611911e-23 NCalls =     19\n",
      "Info in <Minuit2>: VariableMetricBuilder Stop iterating after 109.067 μs\n",
      "Info in <Minuit2>: MnFunctionCross Result after Migrad FCN =      -21.08188336 Edm =   1.079611911e-23 NCalls =     19 \n",
      "  Pos |    Name    |  type   |      Value       |    Error +/-\n",
      "    0 |        g1z | limited |   0.000275392479 | 0.001019542659\n",
      "    1 |         ka |  fixed  |  -0.001408818683 | 0.001408818683\n",
      "    2 |         lz | limited |  6.436385557e-05 | 0.001003080045\n",
      "Info in <Minuit2>: MnMinos end of Minos scan for low interval for parameter ka\n",
      "Info in <Minuit2>: MnMinos Determination of upper Minos error for parameter 1\n",
      "Info in <Minuit2>: MnFunctionCross Run Migrad with fixed parameters:\n",
      "  Pos 1: ka = 0.00140882\n",
      "Info in <Minuit2>: MnSeedGenerator Computing seed using NumericalGradient calculator\n",
      "Info in <Minuit2>: MnSeedGenerator Evaluated function and gradient in 97.201 μs\n",
      "Info in <Minuit2>: MnSeedGenerator Initial state: FCN =      -21.08188336 Edm =    8.96270187e-14 NCalls =      9\n",
      "Info in <Minuit2>: MnSeedGenerator Initial state  \n",
      "  Minimum value : -21.08188336\n",
      "  Edm           : 8.96270187e-14\n",
      "  Internal parameters:\t[ -0.0005507856868 -0.0001287278815]\t\n",
      "  Internal gradient  :\t[ -0.0002997511492  0.0001815240028]\t\n",
      "  Internal covariance matrix:\n",
      "[[  8.3156638e-06  6.0087307e-06]\n",
      " [  6.0087307e-06  8.0493513e-06]]]\n",
      "Info in <Minuit2>: VariableMetricBuilder Start iterating until Edm is < 0.0005 with call limit = 1500\n",
      "Info in <Minuit2>: VariableMetricBuilder    0 - FCN =      -21.08188336 Edm =    8.96270187e-14 NCalls =      9\n",
      "Info in <Minuit2>: VariableMetricBuilder    1 - FCN =      -21.08188336 Edm =   1.153129642e-15 NCalls =     19\n",
      "Info in <Minuit2>: VariableMetricBuilder Stop iterating after 159.107 μs\n",
      "Info in <Minuit2>: MnFunctionCross Result after Migrad FCN =      -21.08188336 Edm =   1.153129642e-15 NCalls =     19 \n",
      "  Pos |    Name    |  type   |      Value       |    Error +/-\n",
      "    0 |        g1z | limited | -0.0002753925187 | 0.0010195261\n",
      "    1 |         ka |  fixed  |   0.001408818683 | 0.001408818683\n",
      "    2 |         lz | limited |  -6.43638652e-05 | 0.001003075024\n",
      "Info in <Minuit2>: MnMinos end of Minos scan for up interval for parameter ka\n",
      "Info in <Minuit2>: MnMinos Determination of lower Minos error for parameter 2\n",
      "Info in <Minuit2>: MnFunctionCross Run Migrad with fixed parameters:\n",
      "  Pos 2: lz = -0.00100514\n",
      "Info in <Minuit2>: MnSeedGenerator Computing seed using NumericalGradient calculator\n",
      "Info in <Minuit2>: MnSeedGenerator Evaluated function and gradient in 105.549 μs\n",
      "Info in <Minuit2>: MnSeedGenerator Initial state: FCN =      -21.08188271 Edm =   4.571881782e-14 NCalls =      9\n",
      "Info in <Minuit2>: MnSeedGenerator Initial state  \n",
      "  Minimum value : -21.08188271\n",
      "  Edm           : 4.571881782e-14\n",
      "  Internal parameters:\t[  -0.001529766438  0.0001804266237]\t\n",
      "  Internal gradient  :\t[ -0.0002162998403 -1.965892446e-05]\t\n",
      "  Internal covariance matrix:\n",
      "[[  4.2420228e-06 -2.5518116e-06]\n",
      " [ -2.5518116e-06  1.5813095e-05]]]\n",
      "Info in <Minuit2>: VariableMetricBuilder Start iterating until Edm is < 0.0005 with call limit = 1500\n",
      "Info in <Minuit2>: VariableMetricBuilder    0 - FCN =      -21.08188271 Edm =   4.571881782e-14 NCalls =      9\n",
      "Info in <Minuit2>: VariableMetricBuilder    1 - FCN =      -21.08188271 Edm =   2.621755438e-14 NCalls =     24\n",
      "Info in <Minuit2>: VariableMetricBuilder Stop iterating after 160.054 μs\n",
      "Info in <Minuit2>: MnFunctionCross Result after Migrad FCN =      -21.08188271 Edm =   2.621755438e-14 NCalls =     24 \n",
      "  Pos |    Name    |  type   |      Value       |    Error +/-\n",
      "    0 |        g1z | limited | -0.0007648828682 | 0.0007281481505\n",
      "    1 |         ka | limited |  9.021329671e-05 | 0.001405914875\n",
      "    2 |         lz |  fixed  |  -0.001005141916 | 0.001005141916\n",
      "Info in <Minuit2>: MnMinos end of Minos scan for low interval for parameter lz\n",
      "Info in <Minuit2>: MnMinos Determination of upper Minos error for parameter 2\n",
      "Info in <Minuit2>: MnFunctionCross Run Migrad with fixed parameters:\n",
      "  Pos 2: lz = 0.00100514\n",
      "Info in <Minuit2>: MnSeedGenerator Computing seed using NumericalGradient calculator\n",
      "Info in <Minuit2>: MnSeedGenerator Evaluated function and gradient in 58.624 μs\n",
      "Info in <Minuit2>: MnSeedGenerator Initial state: FCN =      -21.08188271 Edm =   4.571782525e-14 NCalls =      9\n",
      "Info in <Minuit2>: MnSeedGenerator Initial state  \n",
      "  Minimum value : -21.08188271\n",
      "  Edm           : 4.571782525e-14\n",
      "  Internal parameters:\t[   0.001529766438 -0.0001804266237]\t\n",
      "  Internal gradient  :\t[  0.0002162978397  1.965996068e-05]\t\n",
      "  Internal covariance matrix:\n",
      "[[  4.2420228e-06 -2.5518116e-06]\n",
      " [ -2.5518116e-06  1.5813095e-05]]]\n",
      "Info in <Minuit2>: VariableMetricBuilder Start iterating until Edm is < 0.0005 with call limit = 1500\n",
      "Info in <Minuit2>: VariableMetricBuilder    0 - FCN =      -21.08188271 Edm =   4.571782525e-14 NCalls =      9\n",
      "Info in <Minuit2>: VariableMetricBuilder    1 - FCN =      -21.08188271 Edm =   1.785854735e-14 NCalls =     24\n",
      "Info in <Minuit2>: VariableMetricBuilder Stop iterating after 177.412 μs\n",
      "Info in <Minuit2>: MnFunctionCross Result after Migrad FCN =      -21.08188271 Edm =   1.785854735e-14 NCalls =     24 \n",
      "  Pos |    Name    |  type   |      Value       |    Error +/-\n",
      "    0 |        g1z | limited |  0.0007648825684 | 0.0007281828606\n",
      "    1 |         ka | limited |  -9.02132134e-05 | 0.001405926401\n",
      "    2 |         lz |  fixed  |   0.001005141916 | 0.001005141916\n",
      "Info in <Minuit2>: MnMinos end of Minos scan for up interval for parameter lz\n"
     ]
    }
   ],
   "source": [
    "nll_minimizer.minos(couplings)"
   ]
  },
  {
   "cell_type": "code",
   "execution_count": 15,
   "id": "c6c02216",
   "metadata": {},
   "outputs": [],
   "source": [
    "pll0 = nll.createProfile({couplings[0]})\n",
    "pll1 = nll.createProfile({couplings[1]})\n",
    "pll2 = nll.createProfile({couplings[2]})"
   ]
  },
  {
   "cell_type": "code",
   "execution_count": 16,
   "id": "cce72749",
   "metadata": {},
   "outputs": [
    {
     "data": {
      "text/plain": [
       "<cppyy.gbl.RooPlot object at 0xed9c0a0>"
      ]
     },
     "execution_count": 16,
     "metadata": {},
     "output_type": "execute_result"
    }
   ],
   "source": [
    "frame0 = couplings[0].frame(Range=(-0.004, 0.004), Title=f\";{coupling_names[0]};#Delta NLL\")\n",
    "frame1 = couplings[1].frame(Range=(-0.004, 0.004), Title=f\";{coupling_names[1]};#Delta NLL\")\n",
    "frame2 = couplings[2].frame(Range=(-0.004, 0.004), Title=f\";{coupling_names[2]};#Delta NLL\")\n",
    "nll.plotOn(frame0, ShiftToZero=True)\n",
    "nll.plotOn(frame1, ShiftToZero=True)\n",
    "nll.plotOn(frame2, ShiftToZero=True)"
   ]
  },
  {
   "cell_type": "code",
   "execution_count": 17,
   "id": "5795fde0",
   "metadata": {},
   "outputs": [
    {
     "data": {
      "text/plain": [
       "<cppyy.gbl.RooPlot object at 0xed9c0a0>"
      ]
     },
     "execution_count": 17,
     "metadata": {},
     "output_type": "execute_result"
    },
    {
     "name": "stdout",
     "output_type": "stream",
     "text": [
      "[#1] INFO:Minimization -- RooProfileLL::evaluate(RooEvaluatorWrapper_Profile[g1z]) Creating instance of MINUIT\n",
      "[#1] INFO:Fitting -- RooAddition::defaultErrorLevel(nll_model_over_model_Int[O_1,O_2,O_3]_CountingAsimovData0) Summation contains a RooNLLVar, using its error level\n",
      "[#1] INFO:Minimization -- RooProfileLL::evaluate(RooEvaluatorWrapper_Profile[g1z]) determining minimum likelihood for current configurations w.r.t all observable\n",
      "[#1] INFO:Minimization -- RooProfileLL::evaluate(RooEvaluatorWrapper_Profile[g1z]) minimum found at (g1z=0)\n",
      "..........................................................................................................................................................................................................\n",
      "[#1] INFO:Minimization -- RooProfileLL::evaluate(RooEvaluatorWrapper_Profile[ka]) Creating instance of MINUIT\n",
      "[#1] INFO:Fitting -- RooAddition::defaultErrorLevel(nll_model_over_model_Int[O_1,O_2,O_3]_CountingAsimovData0) Summation contains a RooNLLVar, using its error level\n",
      "[#1] INFO:Minimization -- RooProfileLL::evaluate(RooEvaluatorWrapper_Profile[ka]) determining minimum likelihood for current configurations w.r.t all observable\n",
      "[#1] INFO:Minimization -- RooProfileLL::evaluate(RooEvaluatorWrapper_Profile[ka]) minimum found at (ka=-1.54138e-09)\n",
      "..........................................................................................................................................................................................................\n",
      "[#1] INFO:Minimization -- RooProfileLL::evaluate(RooEvaluatorWrapper_Profile[lz]) Creating instance of MINUIT\n",
      "[#1] INFO:Fitting -- RooAddition::defaultErrorLevel(nll_model_over_model_Int[O_1,O_2,O_3]_CountingAsimovData0) Summation contains a RooNLLVar, using its error level\n",
      "[#1] INFO:Minimization -- RooProfileLL::evaluate(RooEvaluatorWrapper_Profile[lz]) determining minimum likelihood for current configurations w.r.t all observable\n",
      "[#1] INFO:Minimization -- RooProfileLL::evaluate(RooEvaluatorWrapper_Profile[lz]) minimum found at (lz=7.09751e-10)\n",
      ".........................................................................................................................................................................................................."
     ]
    }
   ],
   "source": [
    "pll0.plotOn(frame0, LineColor=\"r\")\n",
    "pll1.plotOn(frame1, LineColor=\"r\")\n",
    "pll2.plotOn(frame2, LineColor=\"r\")"
   ]
  },
  {
   "cell_type": "code",
   "execution_count": 18,
   "id": "8f86687d",
   "metadata": {},
   "outputs": [
    {
     "data": {
      "text/html": [
       "\n",
       "\n",
       "<div id=\"root_plot_1759851523396\" style=\"width: 700px; height: 500px; position: relative\">\n",
       "</div>\n",
       "\n",
       "<script>\n",
       "\n",
       "function display_root_plot_1759851523396(Core) {\n",
       "   let obj = Core.parse({\"_typename\":\"TCanvasWebSnapshot\",\"fUniqueID\":0,\"fBits\":0,\"fObjectID\":\"\",\"fOption\":\"\",\"fKind\":3,\"fSnapshot\":{\"_typename\":\"TCanvas\",\"fUniqueID\":0,\"fBits\":3342344,\"fLineColor\":1,\"fLineStyle\":1,\"fLineWidth\":2,\"fFillColor\":10,\"fFillStyle\":1001,\"fLeftMargin\":0.15,\"fRightMargin\":0.16,\"fBottomMargin\":0.17,\"fTopMargin\":0.08,\"fXfile\":2,\"fYfile\":2,\"fAfile\":1,\"fXstat\":0.99,\"fYstat\":0.99,\"fAstat\":2,\"fFrameFillColor\":10,\"fFrameLineColor\":1,\"fFrameFillStyle\":1001,\"fFrameLineStyle\":1,\"fFrameLineWidth\":2,\"fFrameBorderSize\":1,\"fFrameBorderMode\":0,\"fX1\":-0.00573913035966649,\"fY1\":-0.453333338101705,\"fX2\":0.00585507226846621,\"fY2\":2.21333332856496,\"fXtoAbsPixelk\":344.520003526211,\"fXtoPixelk\":344.520003526211,\"fXtoPixel\":60030.001400113,\"fYtoAbsPixelk\":391.759999155998,\"fYtoPixelk\":391.759999155998,\"fYtoPixel\":-177,\"fUtoAbsPixelk\":0,\"fUtoPixelk\":0,\"fUtoPixel\":696,\"fVtoAbsPixelk\":472,\"fVtoPixelk\":472,\"fVtoPixel\":-472,\"fAbsPixeltoXk\":-0.00573913035966649,\"fPixeltoXk\":-0.00573913035966649,\"fPixeltoX\":1.66583371093861e-5,\"fAbsPixeltoYk\":2.21333332856496,\"fPixeltoYk\":-0.453333338101705,\"fPixeltoY\":-0.00564971751412429,\"fXlowNDC\":0,\"fYlowNDC\":0,\"fXUpNDC\":1,\"fYUpNDC\":1,\"fWNDC\":1,\"fHNDC\":1,\"fAbsXlowNDC\":0,\"fAbsYlowNDC\":0,\"fAbsWNDC\":1,\"fAbsHNDC\":1,\"fUxmin\":-0.004,\"fUymin\":0,\"fUxmax\":0.004,\"fUymax\":2,\"fTheta\":30,\"fPhi\":30,\"fAspectRatio\":0,\"fNumber\":0,\"fTickx\":1,\"fTicky\":1,\"fLogx\":0,\"fLogy\":0,\"fLogz\":0,\"fPadPaint\":0,\"fCrosshair\":0,\"fCrosshairPos\":0,\"fBorderSize\":2,\"fBorderMode\":0,\"fModified\":false,\"fGridx\":false,\"fGridy\":false,\"fAbsCoord\":false,\"fEditable\":true,\"fFixedAspectRatio\":false,\"fPrimitives\":{\"_typename\":\"TList\",\"name\":\"TList\",\"arr\":[],\"opt\":[]},\"fExecs\":null,\"fName\":\"c1\",\"fTitle\":\"c1\",\"fNumPaletteColor\":0,\"fNextPaletteColor\":0,\"fDISPLAY\":\"$DISPLAY\",\"fDoubleBuffer\":0,\"fRetained\":true,\"fXsizeUser\":0,\"fYsizeUser\":0,\"fXsizeReal\":20,\"fYsizeReal\":14.28571,\"fWindowTopX\":0,\"fWindowTopY\":0,\"fWindowWidth\":0,\"fWindowHeight\":0,\"fCw\":696,\"fCh\":472,\"fCatt\":{\"_typename\":\"TAttCanvas\",\"fXBetween\":2,\"fYBetween\":2,\"fTitleFromTop\":1.2,\"fXdate\":0.2,\"fYdate\":0.3,\"fAdate\":1},\"kMoveOpaque\":true,\"kResizeOpaque\":true,\"fHighLightColor\":2,\"fBatch\":true,\"kShowEventStatus\":false,\"kAutoExec\":true,\"kMenuBar\":true},\"fActive\":false,\"fReadOnly\":true,\"fWithoutPrimitives\":false,\"fHasExecs\":false,\"fPrimitives\":[{\"_typename\":\"TWebSnapshot\",\"fUniqueID\":0,\"fBits\":0,\"fObjectID\":\"\",\"fOption\":\"\",\"fKind\":4,\"fSnapshot\":{\"_typename\":\"TWebPainting\",\"fUniqueID\":0,\"fBits\":0,\"fClassName\":\"\",\"fObjectName\":\"\",\"fOper\":\"0:255,255,255;1:0,0,0;2:255,0,0;3:0,255,0;4:0,0,255;5:255,255,0;6:255,0,255;7:0,255,255;8:89,211,84;9:89,84,216;10:254,254,254;11:192,182,172;12:76,76,76;13:102,102,102;14:127,127,127;15:153,153,153;16:178,178,178;17:204,204,204;18:229,229,229;19:242,242,242;20:204,198,170;21:204,198,170;22:193,191,168;23:186,181,163;24:178,165,150;25:183,163,155;26:173,153,140;27:155,142,130;28:135,102,86;29:175,206,198;30:132,193,163;31:137,168,160;32:130,158,140;33:173,188,198;34:122,142,153;35:117,137,145;36:104,130,150;37:109,122,132;38:124,153,209;39:127,127,155;40:170,165,191;41:211,206,135;42:221,186,135;43:188,158,130;44:198,153,124;45:191,130,119;46:206,94,96;47:170,142,147;48:165,119,122;49:147,104,112;50:211,89,84;51:146,0,255;52:122,0,255;53:98,0,255;54:74,0,255;55:51,0,255;56:27,0,255;57:3,0,255;58:0,20,255;59:0,44,255;60:0,68,255;61:0,91,255;62:0,115,255;63:0,139,255;64:0,163,255;65:0,187,255;66:0,210,255;67:0,234,255;68:0,255,251;69:0,255,227;70:0,255,204;71:0,255,180;72:0,255,156;73:0,255,132;74:0,255,108;75:0,255,85;76:0,255,61;77:0,255,37;78:0,255,13;79:10,255,0;80:34,255,0;81:57,255,0;82:81,255,0;83:105,255,0;84:129,255,0;85:153,255,0;86:176,255,0;87:200,255,0;88:224,255,0;89:248,255,0;90:255,238,0;91:255,214,0;92:255,190,0;93:255,166,0;94:255,142,0;95:255,119,0;96:255,95,0;97:255,71,0;98:255,47,0;99:255,23,0;100:111,45,168;101:165,42,42;102:178,190,181;103:87,144,252;104:248,156,32;105:228,37,54;106:150,74,139;107:156,156,161;108:122,33,221;109:24,69,251;110:255,94,2;111:201,31,22;112:200,73,169;113:173,173,125;114:134,200,221;115:87,141,255;116:101,99,100;117:63,144,218;118:255,169,14;119:189,31,1;120:148,164,162;121:131,45,182;122:169,107,89;123:231,99,0;124:185,172,112;125:113,117,129;126:146,218,221;127:178,178,178;201:91,91,91;202:122,122,122;203:183,183,183;204:214,214,214;205:137,15,15;206:183,20,20;207:234,71,71;208:239,117,117;209:15,137,15;210:20,183,20;211:71,234,71;212:117,239,117;213:15,15,137;214:20,20,183;215:71,71,234;216:117,117,239;217:137,137,15;218:183,183,20;219:234,234,71;220:239,239,117;221:137,15,137;222:183,20,183;223:234,71,234;224:239,117,239;225:15,137,137;226:20,183,183;227:71,234,234;228:117,239,239;390:255,255,204;391:255,255,153;392:204,204,153;393:255,255,102;394:204,204,102;395:153,153,102;396:255,255,51;397:204,204,51;398:153,153,51;399:102,102,51;400:255,255,0;401:204,204,0;402:153,153,0;403:102,102,0;404:51,51,0;406:204,255,204;407:153,255,153;408:153,204,153;409:102,255,102;410:102,204,102;411:102,153,102;412:51,255,51;413:51,204,51;414:51,153,51;415:51,102,51;416:0,255,0;417:0,204,0;418:0,153,0;419:0,102,0;420:0,51,0;422:204,255,255;423:153,255,255;424:153,204,204;425:102,255,255;426:102,204,204;427:102,153,153;428:51,255,255;429:51,204,204;430:51,153,153;431:51,102,102;432:0,255,255;433:0,204,204;434:0,153,153;435:0,102,102;436:0,51,51;590:204,204,255;591:153,153,255;592:153,153,204;593:102,102,255;594:102,102,204;595:102,102,153;596:51,51,255;597:51,51,204;598:51,51,153;599:51,51,102;600:0,0,255;601:0,0,204;602:0,0,153;603:0,0,102;604:0,0,51;606:255,204,255;607:255,153,255;608:204,153,204;609:255,102,255;610:204,102,204;611:153,102,153;612:255,51,255;613:204,51,204;614:153,51,153;615:102,51,102;616:255,0,255;617:204,0,204;618:153,0,153;619:102,0,102;620:51,0,51;622:255,204,204;623:255,153,153;624:204,153,153;625:255,102,102;626:204,102,102;627:153,102,102;628:255,51,51;629:204,51,51;630:153,51,51;631:102,51,51;632:255,0,0;633:204,0,0;634:153,0,0;635:102,0,0;636:51,0,0;791:255,204,153;792:204,153,102;793:153,102,51;794:153,102,0;795:204,153,51;796:255,204,102;797:255,153,0;798:255,204,51;799:204,153,0;800:255,204,0;801:255,153,51;802:204,102,0;803:102,51,0;804:153,51,0;805:204,102,51;806:255,153,102;807:255,102,0;808:255,102,51;809:204,51,0;810:255,51,0;811:153,255,51;812:102,204,0;813:51,102,0;814:51,153,0;815:102,204,51;816:153,255,102;817:102,255,0;818:102,255,51;819:51,204,0;820:51,255,0;821:204,255,153;822:153,204,102;823:102,153,51;824:102,153,0;825:153,204,51;826:204,255,102;827:153,255,0;828:204,255,51;829:153,204,0;830:204,255,0;831:153,255,204;832:102,204,153;833:51,153,102;834:0,153,102;835:51,204,153;836:102,255,204;837:0,255,102;838:51,255,204;839:0,204,153;840:0,255,204;841:51,255,153;842:0,204,102;843:0,102,51;844:0,153,51;845:51,204,102;846:102,255,153;847:0,255,153;848:51,255,102;849:0,204,51;850:0,255,51;851:153,204,255;852:102,153,204;853:51,102,153;854:0,51,153;855:51,102,204;856:102,153,255;857:0,102,255;858:51,102,255;859:0,51,204;860:0,51,255;861:51,153,255;862:0,102,204;863:0,51,102;864:0,102,153;865:51,153,204;866:102,204,255;867:0,153,255;868:51,204,255;869:0,153,204;870:0,204,255;871:204,153,255;872:153,102,204;873:102,51,153;874:102,0,153;875:153,51,204;876:204,102,255;877:153,0,255;878:204,51,255;879:153,0,204;880:204,0,255;881:153,51,255;882:102,0,204;883:51,0,102;884:51,0,153;885:102,51,204;886:153,102,255;887:102,0,255;888:102,51,255;889:51,0,204;890:51,0,255;891:255,51,153;892:204,0,102;893:102,0,51;894:153,0,51;895:204,51,102;896:255,102,153;897:255,0,102;898:255,51,102;899:204,0,51;900:255,0,51;901:255,153,204;902:204,102,153;903:153,51,102;904:153,0,102;905:204,51,153;906:255,102,204;907:255,0,153;908:204,0,153;909:255,51,204;910:255,0,153;920:204,204,204;921:153,153,153;922:102,102,102;923:51,51,51;924:53,42,134;925:51,44,137;926:50,45,140;927:49,47,143;928:48,48,146;929:46,50,148;930:45,51,151;931:44,53,154;932:43,55,157;933:42,56,160;934:40,58,162;935:39,59,165;936:38,61,168;937:37,63,171;938:35,64,174;939:34,66,176;940:33,67,179;941:32,69,182;942:31,71,185;943:29,72,187;944:28,74,190;945:27,75,193;946:26,77,196;947:24,79,199;948:23,80,201;949:22,82,204;950:21,83,207;951:19,85,210;952:18,86,213;953:17,88,215;954:16,90,218;955:15,91,221;956:15,92,221;957:15,94,220;958:15,95,220;959:15,96,220;960:15,97,220;961:15,98,220;962:16,99,219;963:16,100,219;964:16,102,219;965:16,103,219;966:16,104,218;967:16,105,218;968:17,106,218;969:17,107,218;970:17,109,217;971:17,110,217;972:17,111,217;973:17,112,217;974:17,113,216;975:18,114,216;976:18,115,216;977:18,117,216;978:18,118,215;979:18,119,215;980:18,120,215;981:18,121,215;982:19,122,215;983:19,123,214;984:19,125,214;985:19,126,214;986:19,127,214;987:19,128,213;988:19,129,213;989:19,130,213;990:18,131,212;991:18,132,212;992:17,134,211;993:17,135,211;994:16,136,211;995:16,137,210;996:15,138,210;997:15,139,210;998:15,140,209;999:14,141,209;1000:14,142,208;1001:13,143,208;1002:13,145,208;1003:12,146,207;1004:12,147,207;1005:12,148,207;1006:11,149,206;1007:11,150,206;1008:10,151,205;1009:10,152,205;1010:9,153,205;1011:9,154,204;1012:8,155,204;1013:8,157,204;1014:8,158,203;1015:7,159,203;1016:7,160,202;1017:6,161,202;1018:6,162,202;1019:5,163,201;1020:7,164,200;1021:8,164,199;1022:9,165,198;1023:10,166,197;1024:12,166,195;1025:13,167,194;1026:14,167,193;1027:15,168,192;1028:17,169,191;1029:18,169,189;1030:19,170,188;1031:20,170,187;1032:22,171,186;1033:23,172,185;1034:24,172,184;1035:25,173,182;1036:27,173,181;1037:28,174,180;1038:29,175,179;1039:30,175,178;1040:32,176,176;1041:33,176,175;1042:34,177,174;1043:35,178,173;1044:37,178,172;1045:38,179,170;1046:39,180,169;1047:40,180,168;1048:42,181,167;1049:43,181,166;1050:44,182,165;1051:45,183,163;1052:48,183,162;1053:51,183,161;1054:54,183,159;1055:57,184,158;1056:59,184,156;1057:62,184,155;1058:65,184,154;1059:68,185,152;1060:71,185,151;1061:73,185,149;1062:76,185,148;1063:79,186,146;1064:82,186,145;1065:84,186,144;1066:87,186,142;1067:90,187,141;1068:93,187,139;1069:96,187,138;1070:98,187,137;1071:101,188,135;1072:104,188,134;1073:107,188,132;1074:110,188,131;1075:112,189,130;1076:115,189,128;1077:118,189,127;1078:121,189,125;1079:124,190,124;1080:126,190,123;1081:129,190,121;1082:132,190,120;1083:135,191,118;1084:137,190,117;1085:139,190,117;1086:142,190,116;1087:144,190,115;1088:146,190,114;1089:148,190,113;1090:151,190,112;1091:153,190,111;1092:155,189,110;1093:158,189,109;1094:160,189,108;1095:162,189,107;1096:165,189,106;1097:167,189,105;1098:169,189,104;1099:171,188,104;1100:174,188,103;1101:176,188,102;1102:178,188,101;1103:181,188,100;1104:183,188,99;1105:185,188,98;1106:188,188,97;1107:190,187,96;1108:192,187,95;1109:194,187,94;1110:197,187,93;1111:199,187,92;1112:201,187,92;1113:204,187,91;1114:206,186,90;1115:208,186,89;1116:210,187,88;1117:211,187,86;1118:212,188,85;1119:214,188,84;1120:215,188,83;1121:217,189,81;1122:218,189,80;1123:220,190,79;1124:221,190,78;1125:222,191,77;1126:224,191,75;1127:225,191,74;1128:227,192,73;1129:228,192,72;1130:229,193,70;1131:231,193,69;1132:232,194,68;1133:234,194,67;1134:235,194,66;1135:236,195,64;1136:238,195,63;1137:239,196,62;1138:241,196,61;1139:242,197,59;1140:244,197,58;1141:245,197,57;1142:246,198,56;1143:248,198,55;1144:249,199,53;1145:251,199,52;1146:252,200,51;1147:253,200,50;1148:253,202,49;1149:253,203,47;1150:253,205,46;1151:253,206,45;1152:253,208,44;1153:252,209,43;1154:252,211,42;1155:252,213,41;1156:252,214,39;1157:252,216,38;1158:252,217,37;1159:252,219,36;1160:251,220,35;1161:251,222,34;1162:251,224,33;1163:251,225,31;1164:251,227,30;1165:251,228,29;1166:250,230,28;1167:250,231,27;1168:250,233,26;1169:250,235,25;1170:250,236,23;1171:250,238,22;1172:250,239,21;1173:249,241,20;1174:249,242,19;1175:249,244,18;1176:249,246,17;1177:249,247,16;1178:249,249,14\",\"fBuf\":{\"$arr\":\"Float32\",\"len\":50,\"v\":[51,52,53,54,55,56,57,58,59,60,61,62,63,64,65,66,67,68,69,70,71,72,73,74,75,76,77,78,79,80,81,82,83,84,85,86,87,88,89,90,91,92,93,94,95,96,97,98,99,632]}}},{\"_typename\":\"TWebSnapshot\",\"fUniqueID\":0,\"fBits\":0,\"fObjectID\":\"\",\"fOption\":\"\",\"fKind\":5,\"fSnapshot\":{\"_typename\":\"TStyle\",\"fUniqueID\":0,\"fBits\":0,\"fName\":\"ildStyle\",\"fTitle\":\"ILD Style\",\"fLineColor\":1,\"fLineStyle\":1,\"fLineWidth\":2,\"fFillColor\":10,\"fFillStyle\":1001,\"fMarkerColor\":1,\"fMarkerStyle\":20,\"fMarkerSize\":0.7,\"fTextAngle\":0,\"fTextSize\":0.05,\"fTextAlign\":11,\"fTextColor\":1,\"fTextFont\":42,\"fXaxis\":{\"_typename\":\"TAttAxis\",\"fNdivisions\":506,\"fAxisColor\":1,\"fLabelColor\":1,\"fLabelFont\":42,\"fLabelOffset\":0.015,\"fLabelSize\":0.06,\"fTickLength\":0.03,\"fTitleOffset\":1,\"fTitleSize\":0.07,\"fTitleColor\":1,\"fTitleFont\":42},\"fYaxis\":{\"_typename\":\"TAttAxis\",\"fNdivisions\":506,\"fAxisColor\":1,\"fLabelColor\":1,\"fLabelFont\":42,\"fLabelOffset\":0.015,\"fLabelSize\":0.06,\"fTickLength\":0.03,\"fTitleOffset\":1.1,\"fTitleSize\":0.07,\"fTitleColor\":1,\"fTitleFont\":42},\"fZaxis\":{\"_typename\":\"TAttAxis\",\"fNdivisions\":510,\"fAxisColor\":1,\"fLabelColor\":1,\"fLabelFont\":42,\"fLabelOffset\":0.015,\"fLabelSize\":0.06,\"fTickLength\":0.03,\"fTitleOffset\":1.1,\"fTitleSize\":0.07,\"fTitleColor\":1,\"fTitleFont\":42},\"fBarWidth\":1,\"fBarOffset\":0,\"fColorModelPS\":0,\"fDrawBorder\":0,\"fOptLogx\":0,\"fOptLogy\":0,\"fOptLogz\":0,\"fOptDate\":0,\"fOptStat\":0,\"fOptTitle\":1,\"fOptFile\":0,\"fOptFit\":0,\"fShowEventStatus\":0,\"fShowEditor\":0,\"fShowToolBar\":0,\"fNumberContours\":20,\"fAttDate\":{\"_typename\":\"TAttText\",\"fTextAngle\":0,\"fTextSize\":0.025,\"fTextAlign\":11,\"fTextColor\":1,\"fTextFont\":62},\"fDateX\":0.01,\"fDateY\":0.01,\"fEndErrorSize\":2,\"fErrorX\":0.5,\"fFuncColor\":632,\"fFuncStyle\":1,\"fFuncWidth\":2,\"fGridColor\":0,\"fGridStyle\":3,\"fGridWidth\":1,\"fLegendBorderSize\":0,\"fLegendFillColor\":0,\"fLegendFillStyle\":1001,\"fLegendFont\":62,\"fLegendTextSize\":0,\"fHatchesLineWidth\":1,\"fHatchesSpacing\":1,\"fFrameFillColor\":10,\"fFrameLineColor\":1,\"fFrameFillStyle\":1001,\"fFrameLineStyle\":1,\"fFrameLineWidth\":2,\"fFrameBorderSize\":1,\"fFrameBorderMode\":0,\"fHistFillColor\":0,\"fHistLineColor\":1,\"fHistFillStyle\":1001,\"fHistLineStyle\":1,\"fHistLineWidth\":2,\"fHistMinimumZero\":false,\"fHistTopMargin\":0.05,\"fCanvasPreferGL\":false,\"fCanvasColor\":10,\"fCanvasBorderSize\":2,\"fCanvasBorderMode\":0,\"fCanvasDefH\":500,\"fCanvasDefW\":700,\"fCanvasDefX\":10,\"fCanvasDefY\":10,\"fPadColor\":10,\"fPadBorderSize\":2,\"fPadBorderMode\":0,\"fPadBottomMargin\":0.17,\"fPadTopMargin\":0.08,\"fPadLeftMargin\":0.15,\"fPadRightMargin\":0.16,\"fPadGridX\":false,\"fPadGridY\":false,\"fPadTickX\":1,\"fPadTickY\":1,\"fPaperSizeX\":20,\"fPaperSizeY\":26,\"fScreenFactor\":1,\"fStatColor\":10,\"fStatTextColor\":1,\"fStatBorderSize\":0,\"fStatFont\":42,\"fStatFontSize\":0.07,\"fStatStyle\":1001,\"fStatFormat\":\"6.4g\",\"fStatX\":0.98,\"fStatY\":0.995,\"fStatW\":0.2,\"fStatH\":0.16,\"fStripDecimals\":true,\"fTitleAlign\":13,\"fTitleColor\":0,\"fTitleTextColor\":1,\"fTitleBorderSize\":0,\"fTitleFont\":62,\"fTitleFontSize\":0,\"fTitleStyle\":1001,\"fTitleX\":0.01,\"fTitleY\":0.995,\"fTitleW\":0,\"fTitleH\":0,\"fLegoInnerR\":0.5,\"fLineStyles\":[\"\",\"  \",\" 12 12\",\" 4 8\",\" 12 16 4 16\",\" 20 12 4 12\",\" 20 12 4 12 4 12 4 12\",\" 20 20\",\" 20 12 4 12 4 12\",\" 80 20\",\" 80 40 4 40\",\"  \",\"  \",\"  \",\"  \",\"  \",\"  \",\"  \",\"  \",\"  \",\"  \",\"  \",\"  \",\"  \",\"  \",\"  \",\"  \",\"  \",\"  \",\"  \"],\"fHeaderPS\":\"\",\"fTitlePS\":\"\",\"fFitFormat\":\"5.4g\",\"fPaintTextFormat\":\"g\",\"fLineScalePS\":3,\"fJoinLinePS\":0,\"fCapLinePS\":0,\"fTimeOffset\":788918400,\"fImageScaling\":1,\"fCandleWhiskerRange\":1,\"fCandleBoxRange\":0.5,\"fCandleScaled\":false,\"fViolinScaled\":true,\"fCandleCircleLineWidth\":1,\"fCandleCrossLineWidth\":1,\"fXAxisExpXOffset\":0,\"fXAxisExpYOffset\":0,\"fYAxisExpXOffset\":0,\"fYAxisExpYOffset\":0,\"fAxisMaxDigits\":5,\"fOrthoCamera\":false}},{\"_typename\":\"TWebSnapshot\",\"fUniqueID\":0,\"fBits\":0,\"fObjectID\":\"\",\"fOption\":\"\",\"fKind\":1,\"fSnapshot\":{\"_typename\":\"TFrame\",\"fUniqueID\":0,\"fBits\":8,\"fLineColor\":1,\"fLineStyle\":1,\"fLineWidth\":2,\"fFillColor\":10,\"fFillStyle\":1001,\"fX1\":-0.004,\"fY1\":0,\"fX2\":0.004,\"fY2\":2,\"fBorderSize\":1,\"fBorderMode\":0}},{\"_typename\":\"TWebSnapshot\",\"fUniqueID\":0,\"fBits\":0,\"fObjectID\":\"\",\"fOption\":\"FUNC\",\"fKind\":1,\"fSnapshot\":{\"_typename\":\"TH1D\",\"fUniqueID\":0,\"fBits\":520,\"fName\":\"frame_g1z_ed54c80\",\"fTitle\":\"\",\"fLineColor\":1,\"fLineStyle\":1,\"fLineWidth\":2,\"fFillColor\":0,\"fFillStyle\":1001,\"fMarkerColor\":1,\"fMarkerStyle\":20,\"fMarkerSize\":0.7,\"fNcells\":102,\"fXaxis\":{\"_typename\":\"TAxis\",\"fUniqueID\":0,\"fBits\":0,\"fName\":\"xaxis\",\"fTitle\":\"g1z\",\"fNdivisions\":506,\"fAxisColor\":1,\"fLabelColor\":1,\"fLabelFont\":42,\"fLabelOffset\":0.015,\"fLabelSize\":0.06,\"fTickLength\":0.03,\"fTitleOffset\":1,\"fTitleSize\":0.07,\"fTitleColor\":1,\"fTitleFont\":42,\"fNbins\":100,\"fXmin\":-0.004,\"fXmax\":0.004,\"fXbins\":[],\"fFirst\":0,\"fLast\":0,\"fBits2\":0,\"fTimeDisplay\":false,\"fTimeFormat\":\"\",\"fLabels\":null,\"fModLabs\":null},\"fYaxis\":{\"_typename\":\"TAxis\",\"fUniqueID\":0,\"fBits\":0,\"fName\":\"yaxis\",\"fTitle\":\"#Delta NLL\",\"fNdivisions\":506,\"fAxisColor\":1,\"fLabelColor\":1,\"fLabelFont\":42,\"fLabelOffset\":0.015,\"fLabelSize\":0.06,\"fTickLength\":0.03,\"fTitleOffset\":1.1,\"fTitleSize\":0.07,\"fTitleColor\":1,\"fTitleFont\":42,\"fNbins\":1,\"fXmin\":0,\"fXmax\":1,\"fXbins\":[],\"fFirst\":0,\"fLast\":0,\"fBits2\":0,\"fTimeDisplay\":false,\"fTimeFormat\":\"\",\"fLabels\":null,\"fModLabs\":null},\"fZaxis\":{\"_typename\":\"TAxis\",\"fUniqueID\":0,\"fBits\":0,\"fName\":\"zaxis\",\"fTitle\":\"\",\"fNdivisions\":510,\"fAxisColor\":1,\"fLabelColor\":1,\"fLabelFont\":42,\"fLabelOffset\":0.015,\"fLabelSize\":0.06,\"fTickLength\":0.03,\"fTitleOffset\":1.1,\"fTitleSize\":0.07,\"fTitleColor\":1,\"fTitleFont\":42,\"fNbins\":1,\"fXmin\":0,\"fXmax\":1,\"fXbins\":[],\"fFirst\":0,\"fLast\":0,\"fBits2\":0,\"fTimeDisplay\":false,\"fTimeFormat\":\"\",\"fLabels\":null,\"fModLabs\":null},\"fBarOffset\":0,\"fBarWidth\":1000,\"fEntries\":1,\"fTsumw\":0,\"fTsumw2\":0,\"fTsumwx\":0,\"fTsumwx2\":0,\"fMaximum\":2,\"fMinimum\":0,\"fNormFactor\":0,\"fContour\":[],\"fSumw2\":[],\"fOption\":\"\",\"fFunctions\":{\"_typename\":\"TList\",\"name\":\"TList\",\"arr\":[],\"opt\":[]},\"fBufferSize\":0,\"fBuffer\":[],\"fBinStatErrOpt\":0,\"fStatOverflows\":2,\"fArray\":{\"$arr\":\"Float64\",\"len\":102,\"p\":1,\"v\":17.5446452758524}}},{\"_typename\":\"TWebSnapshot\",\"fUniqueID\":0,\"fBits\":0,\"fObjectID\":\"\",\"fOption\":\"l\",\"fKind\":1,\"fSnapshot\":{\"_typename\":\"RooCurve\",\"fUniqueID\":0,\"fBits\":525320,\"fName\":\"RooEvaluatorWrapper_Norm[g1z]\",\"fTitle\":\"Projection of RooEvaluatorWrapper\",\"fLineColor\":600,\"fLineStyle\":1,\"fLineWidth\":3,\"fFillColor\":0,\"fFillStyle\":1000,\"fMarkerColor\":1,\"fMarkerStyle\":20,\"fMarkerSize\":0.7,\"fNpoints\":106,\"fX\":{\"$arr\":\"Float64\",\"len\":106,\"v\":[-0.00408008,-0.00408,-0.004,-0.00392,-0.00384,-0.00376,-0.00368,-0.0036,-0.00352,-0.00344,-0.00336,-0.00328,-0.0032,-0.00312,-0.00304,-0.00296,-0.00288,-0.0028,-0.00272,-0.00264,-0.00256,-0.00248,-0.0024,-0.00232,-0.00224,-0.00216,-0.00208,-0.002,-0.00192,-0.00184,-0.00176,-0.00168,-0.0016,-0.00152,-0.00144,-0.00136,-0.00128,-0.0012,-0.00112,-0.00104,-9.6e-4,-8.8e-4,-8e-4,-7.2e-4,-6.4e-4,-5.6e-4,-4.8e-4,-4e-4,-3.2e-4,-2.4e-4,-1.6e-4,-7.99999999999993e-5,0,8.00000000000002e-5,1.6e-4,2.40000000000001e-4,3.2e-4,4e-4,4.8e-4,5.60000000000001e-4,6.4e-4,7.2e-4,8e-4,8.80000000000001e-4,9.6e-4,0.00104,0.00112,0.0012,0.00128,0.00136,0.00144,0.00152,0.0016,0.00168,0.00176,0.00184,0.00192,0.002,0.00208,0.00216,0.00224,0.00232,0.0024,0.00248,0.00256,0.00264,0.00272,0.0028,0.00288,0.00296,0.00304,0.00312,0.0032,0.00328,0.00336,0.00344,0.00352,0.0036,0.00368,0.00376,0.00384,0.00392,0.004,0.004,0.00408,0.00408008]},\"fY\":{\"$arr\":\"Float64\",\"len\":106,\"p\":1,\"v\":[16.7091859770023,16.7091859770023,16.047502212313,15.3991857964053,14.7642367292792,14.1426550109348,13.5344406413719,12.9395936205906,12.3581139485909,11.7900016253728,11.2352566509363,10.6938790252815,10.1658687484082,9.65122582031653,9.14995024100646,8.66204201047799,8.18750112873113,7.72632759576587,7.27852141158221,6.84408257618015,6.42301108955969,6.01530695172083,5.62097016266358,5.24000072238792,4.87239863089387,4.51816388818142,4.17729649425058,3.84979644910133,3.53566375273369,3.23489840514765,2.94750040634321,2.67346975632037,2.41280645507914,2.1655105026195,1.93158189894147,1.71102064404504,1.50382673793022,1.31000018059698,1.12954097204536,0.962449112275333,0.808724601286912,0.668367439080093,0.541377625654874,0.427755161011259,0.327500045149247,0.240612278068834,0.167091859770022,0.106938790252816,0.0601530695172094,0.0267346975632066,0.00668367439080342,0,0.00668367439080342,0.0267346975632066,0.060153069517213,0.106938790252816,0.167091859770025,0.240612278068838,0.327500045149247,0.427755161011252,0.541377625654874,0.668367439080082,0.808724601286912,0.962449112275319,1.12954097204535,1.310000180597,1.50382673793021,1.71102064404506,1.93158189894147,2.1655105026195,2.41280645507914,2.67346975632037,2.94750040634318,3.23489840514764,3.53566375273365,3.84979644910134,4.17729649425061,4.51816388818142,4.8723986308939,5.24000072238792,5.62097016266358,6.01530695172083,6.42301108955968,6.84408257618009,7.27852141158221,7.72632759576582,8.18750112873113,8.66204201047804,9.14995024100646,9.65122582031658,10.1658687484082,10.6938790252815,11.2352566509363,11.7900016253728,12.3581139485909,12.9395936205906,13.5344406413718,14.1426550109348,14.7642367292793,15.3991857964053,16.0475022123131,16.7091859763339,16.7091859763339,16.7091859763339]},\"fFunctions\":{\"_typename\":\"TList\",\"name\":\"TList\",\"arr\":[],\"opt\":[]},\"fHistogram\":{\"_typename\":\"TH1F\",\"fUniqueID\":0,\"fBits\":512,\"fName\":\"RooEvaluatorWrapper_Norm[g1z]\",\"fTitle\":\"Projection of RooEvaluatorWrapper\",\"fLineColor\":1,\"fLineStyle\":1,\"fLineWidth\":2,\"fFillColor\":0,\"fFillStyle\":1001,\"fMarkerColor\":1,\"fMarkerStyle\":20,\"fMarkerSize\":0.7,\"fNcells\":108,\"fXaxis\":{\"_typename\":\"TAxis\",\"fUniqueID\":0,\"fBits\":0,\"fName\":\"xaxis\",\"fTitle\":\"\",\"fNdivisions\":506,\"fAxisColor\":1,\"fLabelColor\":1,\"fLabelFont\":42,\"fLabelOffset\":0.015,\"fLabelSize\":0.06,\"fTickLength\":0.03,\"fTitleOffset\":1,\"fTitleSize\":0.07,\"fTitleColor\":1,\"fTitleFont\":42,\"fNbins\":106,\"fXmin\":-0.004896096,\"fXmax\":0.004896096,\"fXbins\":[],\"fFirst\":0,\"fLast\":0,\"fBits2\":0,\"fTimeDisplay\":false,\"fTimeFormat\":\"\",\"fLabels\":null,\"fModLabs\":null},\"fYaxis\":{\"_typename\":\"TAxis\",\"fUniqueID\":0,\"fBits\":0,\"fName\":\"yaxis\",\"fTitle\":\"\",\"fNdivisions\":506,\"fAxisColor\":1,\"fLabelColor\":1,\"fLabelFont\":42,\"fLabelOffset\":0.015,\"fLabelSize\":0.06,\"fTickLength\":0.03,\"fTitleOffset\":1.1,\"fTitleSize\":0.07,\"fTitleColor\":1,\"fTitleFont\":42,\"fNbins\":1,\"fXmin\":0,\"fXmax\":18.3801045747025,\"fXbins\":[],\"fFirst\":0,\"fLast\":0,\"fBits2\":0,\"fTimeDisplay\":false,\"fTimeFormat\":\"\",\"fLabels\":null,\"fModLabs\":null},\"fZaxis\":{\"_typename\":\"TAxis\",\"fUniqueID\":0,\"fBits\":0,\"fName\":\"zaxis\",\"fTitle\":\"\",\"fNdivisions\":510,\"fAxisColor\":1,\"fLabelColor\":1,\"fLabelFont\":42,\"fLabelOffset\":0.015,\"fLabelSize\":0.06,\"fTickLength\":0.03,\"fTitleOffset\":1.1,\"fTitleSize\":0.07,\"fTitleColor\":1,\"fTitleFont\":42,\"fNbins\":1,\"fXmin\":0,\"fXmax\":1,\"fXbins\":[],\"fFirst\":0,\"fLast\":0,\"fBits2\":0,\"fTimeDisplay\":false,\"fTimeFormat\":\"\",\"fLabels\":null,\"fModLabs\":null},\"fBarOffset\":0,\"fBarWidth\":1000,\"fEntries\":0,\"fTsumw\":0,\"fTsumw2\":0,\"fTsumwx\":0,\"fTsumwx2\":0,\"fMaximum\":18.3801045747025,\"fMinimum\":0,\"fNormFactor\":0,\"fContour\":[],\"fSumw2\":[],\"fOption\":\"\",\"fFunctions\":{\"_typename\":\"TList\",\"name\":\"TList\",\"arr\":[],\"opt\":[]},\"fBufferSize\":0,\"fBuffer\":[],\"fBinStatErrOpt\":0,\"fStatOverflows\":2,\"fArray\":{\"$arr\":\"Float32\",\"len\":108}},\"fMinimum\":-1111,\"fMaximum\":-1111,\"fOption\":\"\",\"_yAxisLabel\":\"Projection of RooEvaluatorWrapper\",\"_ymin\":0,\"_ymax\":16.7091859770023,\"_normValue\":0}},{\"_typename\":\"TWebSnapshot\",\"fUniqueID\":0,\"fBits\":0,\"fObjectID\":\"\",\"fOption\":\"l\",\"fKind\":1,\"fSnapshot\":{\"_typename\":\"RooCurve\",\"fUniqueID\":0,\"fBits\":525320,\"fName\":\"RooEvaluatorWrapper_Profile[g1z]_Norm[g1z]\",\"fTitle\":\"Projection of Profile of RooEvaluatorWrapper\",\"fLineColor\":632,\"fLineStyle\":1,\"fLineWidth\":3,\"fFillColor\":0,\"fFillStyle\":1000,\"fMarkerColor\":1,\"fMarkerStyle\":20,\"fMarkerSize\":0.7,\"fNpoints\":106,\"fX\":{\"$arr\":\"Float64\",\"len\":106,\"v\":[-0.00408008,-0.00408,-0.004,-0.00392,-0.00384,-0.00376,-0.00368,-0.0036,-0.00352,-0.00344,-0.00336,-0.00328,-0.0032,-0.00312,-0.00304,-0.00296,-0.00288,-0.0028,-0.00272,-0.00264,-0.00256,-0.00248,-0.0024,-0.00232,-0.00224,-0.00216,-0.00208,-0.002,-0.00192,-0.00184,-0.00176,-0.00168,-0.0016,-0.00152,-0.00144,-0.00136,-0.00128,-0.0012,-0.00112,-0.00104,-9.6e-4,-8.8e-4,-8e-4,-7.2e-4,-6.4e-4,-5.6e-4,-4.8e-4,-4e-4,-3.2e-4,-2.4e-4,-1.6e-4,-7.99999999999993e-5,0,8.00000000000002e-5,1.6e-4,2.40000000000001e-4,3.2e-4,4e-4,4.8e-4,5.60000000000001e-4,6.4e-4,7.2e-4,8e-4,8.80000000000001e-4,9.6e-4,0.00104,0.00112,0.0012,0.00128,0.00136,0.00144,0.00152,0.0016,0.00168,0.00176,0.00184,0.00192,0.002,0.00208,0.00216,0.00224,0.00232,0.0024,0.00248,0.00256,0.00264,0.00272,0.0028,0.00288,0.00296,0.00304,0.00312,0.0032,0.00328,0.00336,0.00344,0.00352,0.0036,0.00368,0.00376,0.00384,0.00392,0.004,0.004,0.00408,0.00408008]},\"fY\":{\"$arr\":\"Float64\",\"len\":106,\"p\":1,\"v\":[7.1729632412826,7.1729632412826,6.88897988886837,6.61070350195807,6.33813669255135,6.07130284458104,5.81020692940983,5.55484941800928,5.30523029420026,5.06134954380811,4.8232071642333,4.59080315523862,4.36413751681619,4.14321024899467,3.92802135176048,3.71857082512233,3.51485866907753,3.31688488362121,3.12464946876456,2.93815242449232,2.75739375082297,2.58237344774059,2.41309151525056,2.24954795335413,2.09174276205292,1.9396759413427,1.79334749122924,1.65275741170514,1.51790570277301,1.38879236443725,1.26541739669198,1.14778079954235,1.03588257298333,0.929722717019832,0.829301231647936,0.734618116868639,0.645673372684072,0.56246699909109,0.484998996089168,0.413269363682446,0.347278101869993,0.28702521064854,0.232510690020156,0.183734539986368,0.140696760544284,0.103397351695378,0.071836313439757,0.0460136457765792,0.0259293487073897,0.0115834222307427,0.00297586634710001,1.06681056525559e-4,0.00297586635918989,0.0115834222543718,0.0259293487432046,0.0460136458250169,0.0718363134992046,0.103397351766343,0.140696760626842,0.183734540081051,0.232510690128038,0.287025210768018,0.347278102000757,0.413269363826629,0.484998996244308,0.562466999256273,0.645673372861978,0.734618117059664,0.829301231850938,0.929722717234966,1.03588257321149,1.14778079978157,1.26541739694461,1.38879236470046,1.51790570304915,1.65275741199018,1.79334749152571,1.93967594165406,2.09174276237312,2.24954795369294,2.41309151559946,2.58237344809958,2.75739375118802,2.93815242487636,3.12464946915086,3.31688488402597,3.51485866949251,3.7185708255558,3.92802135220072,4.14321024944938,4.36413751728978,4.59080315571897,4.82320716474704,5.06134954435639,5.30523029456058,5.55484941536766,5.8102069067693,6.07130276875152,6.33813700133119,6.61070960451319,6.88902057828468,7.17306992235117,7.17306992235117,7.17306992235117]},\"fFunctions\":{\"_typename\":\"TList\",\"name\":\"TList\",\"arr\":[],\"opt\":[]},\"fHistogram\":{\"_typename\":\"TH1F\",\"fUniqueID\":0,\"fBits\":512,\"fName\":\"RooEvaluatorWrapper_Profile[g1z]_Norm[g1z]\",\"fTitle\":\"Projection of Profile of RooEvaluatorWrapper\",\"fLineColor\":1,\"fLineStyle\":1,\"fLineWidth\":2,\"fFillColor\":0,\"fFillStyle\":1001,\"fMarkerColor\":1,\"fMarkerStyle\":20,\"fMarkerSize\":0.7,\"fNcells\":108,\"fXaxis\":{\"_typename\":\"TAxis\",\"fUniqueID\":0,\"fBits\":0,\"fName\":\"xaxis\",\"fTitle\":\"\",\"fNdivisions\":506,\"fAxisColor\":1,\"fLabelColor\":1,\"fLabelFont\":42,\"fLabelOffset\":0.015,\"fLabelSize\":0.06,\"fTickLength\":0.03,\"fTitleOffset\":1,\"fTitleSize\":0.07,\"fTitleColor\":1,\"fTitleFont\":42,\"fNbins\":106,\"fXmin\":-0.004896096,\"fXmax\":0.004896096,\"fXbins\":[],\"fFirst\":0,\"fLast\":0,\"fBits2\":0,\"fTimeDisplay\":false,\"fTimeFormat\":\"\",\"fLabels\":null,\"fModLabs\":null},\"fYaxis\":{\"_typename\":\"TAxis\",\"fUniqueID\":0,\"fBits\":0,\"fName\":\"yaxis\",\"fTitle\":\"\",\"fNdivisions\":506,\"fAxisColor\":1,\"fLabelColor\":1,\"fLabelFont\":42,\"fLabelOffset\":0.015,\"fLabelSize\":0.06,\"fTickLength\":0.03,\"fTitleOffset\":1.1,\"fTitleSize\":0.07,\"fTitleColor\":1,\"fTitleFont\":42,\"fNbins\":1,\"fXmin\":0,\"fXmax\":7.89037691458629,\"fXbins\":[],\"fFirst\":0,\"fLast\":0,\"fBits2\":0,\"fTimeDisplay\":false,\"fTimeFormat\":\"\",\"fLabels\":null,\"fModLabs\":null},\"fZaxis\":{\"_typename\":\"TAxis\",\"fUniqueID\":0,\"fBits\":0,\"fName\":\"zaxis\",\"fTitle\":\"\",\"fNdivisions\":510,\"fAxisColor\":1,\"fLabelColor\":1,\"fLabelFont\":42,\"fLabelOffset\":0.015,\"fLabelSize\":0.06,\"fTickLength\":0.03,\"fTitleOffset\":1.1,\"fTitleSize\":0.07,\"fTitleColor\":1,\"fTitleFont\":42,\"fNbins\":1,\"fXmin\":0,\"fXmax\":1,\"fXbins\":[],\"fFirst\":0,\"fLast\":0,\"fBits2\":0,\"fTimeDisplay\":false,\"fTimeFormat\":\"\",\"fLabels\":null,\"fModLabs\":null},\"fBarOffset\":0,\"fBarWidth\":1000,\"fEntries\":0,\"fTsumw\":0,\"fTsumw2\":0,\"fTsumwx\":0,\"fTsumwx2\":0,\"fMaximum\":7.89037691458629,\"fMinimum\":0,\"fNormFactor\":0,\"fContour\":[],\"fSumw2\":[],\"fOption\":\"\",\"fFunctions\":{\"_typename\":\"TList\",\"name\":\"TList\",\"arr\":[],\"opt\":[]},\"fBufferSize\":0,\"fBuffer\":[],\"fBinStatErrOpt\":0,\"fStatOverflows\":2,\"fArray\":{\"$arr\":\"Float32\",\"len\":108}},\"fMinimum\":-1111,\"fMaximum\":-1111,\"fOption\":\"\",\"_yAxisLabel\":\"Projection of Profile of RooEvaluatorWrapper\",\"_ymin\":0,\"_ymax\":7.17306992235117,\"_normValue\":0}},{\"_typename\":\"TWebSnapshot\",\"fUniqueID\":0,\"fBits\":0,\"fObjectID\":\"\",\"fOption\":\"AXISSAME\",\"fKind\":1,\"fSnapshot\":{\"$ref\":15}}],\"fScripts\":\"\",\"fHighlightConnect\":false,\"fFixedSize\":false});\n",
       "   Core.settings.HandleKeys = false;\n",
       "   Core.draw(\"root_plot_1759851523396\", obj, \"\");\n",
       "}\n",
       "\n",
       "function script_load_root_plot_1759851523396(src, on_error) {\n",
       "    let script = document.createElement('script');\n",
       "    script.src = src;\n",
       "    script.onload = function() { display_root_plot_1759851523396(JSROOT); };\n",
       "    script.onerror = function() { script.remove(); on_error(); };\n",
       "    document.head.appendChild(script);\n",
       "}\n",
       "\n",
       "if (typeof requirejs !== 'undefined') {\n",
       "\n",
       "    // We are in jupyter notebooks, use require.js which should be configured already\n",
       "    requirejs.config({\n",
       "       paths: { 'JSRootCore' : [ 'build/jsroot', 'https://root.cern/js/7.9.0/build/jsroot', 'https://jsroot.gsi.de/7.9.0/build/jsroot' ] }\n",
       "    })(['JSRootCore'],  function(Core) {\n",
       "       display_root_plot_1759851523396(Core);\n",
       "    });\n",
       "\n",
       "} else if (typeof JSROOT !== 'undefined') {\n",
       "\n",
       "   // JSROOT already loaded, just use it\n",
       "   display_root_plot_1759851523396(JSROOT);\n",
       "\n",
       "} else {\n",
       "\n",
       "    // We are in jupyterlab without require.js, directly loading jsroot\n",
       "    // Jupyterlab might be installed in a different base_url so we need to know it.\n",
       "    try {\n",
       "        var base_url = JSON.parse(document.getElementById('jupyter-config-data').innerHTML).baseUrl;\n",
       "    } catch(_) {\n",
       "        var base_url = '/';\n",
       "    }\n",
       "\n",
       "    // Try loading a local version of requirejs and fallback to cdn if not possible.\n",
       "    script_load_root_plot_1759851523396(base_url + 'static/build/jsroot.js', function(){\n",
       "        console.error('Fail to load JSROOT locally, please check your jupyter_notebook_config.py file');\n",
       "        script_load_root_plot_1759851523396('https://root.cern/js/7.9.0/build/jsroot.js', function(){\n",
       "            document.getElementById(\"root_plot_1759851523396\").innerHTML = \"Failed to load JSROOT\";\n",
       "        });\n",
       "    });\n",
       "}\n",
       "\n",
       "</script>\n"
      ],
      "text/plain": [
       "<IPython.core.display.HTML object>"
      ]
     },
     "metadata": {},
     "output_type": "display_data"
    },
    {
     "data": {
      "text/html": [
       "\n",
       "\n",
       "<div id=\"root_plot_1759851523404\" style=\"width: 700px; height: 500px; position: relative\">\n",
       "</div>\n",
       "\n",
       "<script>\n",
       "\n",
       "function display_root_plot_1759851523404(Core) {\n",
       "   let obj = Core.parse({\"_typename\":\"TCanvasWebSnapshot\",\"fUniqueID\":0,\"fBits\":0,\"fObjectID\":\"\",\"fOption\":\"\",\"fKind\":3,\"fSnapshot\":{\"_typename\":\"TCanvas\",\"fUniqueID\":0,\"fBits\":3342344,\"fLineColor\":1,\"fLineStyle\":1,\"fLineWidth\":2,\"fFillColor\":10,\"fFillStyle\":1001,\"fLeftMargin\":0.15,\"fRightMargin\":0.16,\"fBottomMargin\":0.17,\"fTopMargin\":0.08,\"fXfile\":2,\"fYfile\":2,\"fAfile\":1,\"fXstat\":0.99,\"fYstat\":0.99,\"fAstat\":2,\"fFrameFillColor\":10,\"fFrameLineColor\":1,\"fFrameFillStyle\":1001,\"fFrameLineStyle\":1,\"fFrameLineWidth\":2,\"fFrameBorderSize\":1,\"fFrameBorderMode\":0,\"fX1\":-0.00573913035966649,\"fY1\":-0.453333338101705,\"fX2\":0.00585507226846621,\"fY2\":2.21333332856496,\"fXtoAbsPixelk\":344.520003526211,\"fXtoPixelk\":344.520003526211,\"fXtoPixel\":60030.001400113,\"fYtoAbsPixelk\":391.759999155998,\"fYtoPixelk\":391.759999155998,\"fYtoPixel\":-177,\"fUtoAbsPixelk\":0,\"fUtoPixelk\":0,\"fUtoPixel\":696,\"fVtoAbsPixelk\":472,\"fVtoPixelk\":472,\"fVtoPixel\":-472,\"fAbsPixeltoXk\":-0.00573913035966649,\"fPixeltoXk\":-0.00573913035966649,\"fPixeltoX\":1.66583371093861e-5,\"fAbsPixeltoYk\":2.21333332856496,\"fPixeltoYk\":-0.453333338101705,\"fPixeltoY\":-0.00564971751412429,\"fXlowNDC\":0,\"fYlowNDC\":0,\"fXUpNDC\":1,\"fYUpNDC\":1,\"fWNDC\":1,\"fHNDC\":1,\"fAbsXlowNDC\":0,\"fAbsYlowNDC\":0,\"fAbsWNDC\":1,\"fAbsHNDC\":1,\"fUxmin\":-0.004,\"fUymin\":0,\"fUxmax\":0.004,\"fUymax\":2,\"fTheta\":30,\"fPhi\":30,\"fAspectRatio\":0,\"fNumber\":0,\"fTickx\":1,\"fTicky\":1,\"fLogx\":0,\"fLogy\":0,\"fLogz\":0,\"fPadPaint\":0,\"fCrosshair\":0,\"fCrosshairPos\":0,\"fBorderSize\":2,\"fBorderMode\":0,\"fModified\":false,\"fGridx\":false,\"fGridy\":false,\"fAbsCoord\":false,\"fEditable\":true,\"fFixedAspectRatio\":false,\"fPrimitives\":{\"_typename\":\"TList\",\"name\":\"TList\",\"arr\":[],\"opt\":[]},\"fExecs\":null,\"fName\":\"c1_n2\",\"fTitle\":\"c1_n2\",\"fNumPaletteColor\":0,\"fNextPaletteColor\":0,\"fDISPLAY\":\"$DISPLAY\",\"fDoubleBuffer\":0,\"fRetained\":true,\"fXsizeUser\":0,\"fYsizeUser\":0,\"fXsizeReal\":20,\"fYsizeReal\":14.28571,\"fWindowTopX\":0,\"fWindowTopY\":0,\"fWindowWidth\":0,\"fWindowHeight\":0,\"fCw\":696,\"fCh\":472,\"fCatt\":{\"_typename\":\"TAttCanvas\",\"fXBetween\":2,\"fYBetween\":2,\"fTitleFromTop\":1.2,\"fXdate\":0.2,\"fYdate\":0.3,\"fAdate\":1},\"kMoveOpaque\":true,\"kResizeOpaque\":true,\"fHighLightColor\":2,\"fBatch\":true,\"kShowEventStatus\":false,\"kAutoExec\":true,\"kMenuBar\":true},\"fActive\":false,\"fReadOnly\":true,\"fWithoutPrimitives\":false,\"fHasExecs\":false,\"fPrimitives\":[{\"_typename\":\"TWebSnapshot\",\"fUniqueID\":0,\"fBits\":0,\"fObjectID\":\"\",\"fOption\":\"\",\"fKind\":4,\"fSnapshot\":{\"_typename\":\"TWebPainting\",\"fUniqueID\":0,\"fBits\":0,\"fClassName\":\"\",\"fObjectName\":\"\",\"fOper\":\"0:255,255,255;1:0,0,0;2:255,0,0;3:0,255,0;4:0,0,255;5:255,255,0;6:255,0,255;7:0,255,255;8:89,211,84;9:89,84,216;10:254,254,254;11:192,182,172;12:76,76,76;13:102,102,102;14:127,127,127;15:153,153,153;16:178,178,178;17:204,204,204;18:229,229,229;19:242,242,242;20:204,198,170;21:204,198,170;22:193,191,168;23:186,181,163;24:178,165,150;25:183,163,155;26:173,153,140;27:155,142,130;28:135,102,86;29:175,206,198;30:132,193,163;31:137,168,160;32:130,158,140;33:173,188,198;34:122,142,153;35:117,137,145;36:104,130,150;37:109,122,132;38:124,153,209;39:127,127,155;40:170,165,191;41:211,206,135;42:221,186,135;43:188,158,130;44:198,153,124;45:191,130,119;46:206,94,96;47:170,142,147;48:165,119,122;49:147,104,112;50:211,89,84;51:146,0,255;52:122,0,255;53:98,0,255;54:74,0,255;55:51,0,255;56:27,0,255;57:3,0,255;58:0,20,255;59:0,44,255;60:0,68,255;61:0,91,255;62:0,115,255;63:0,139,255;64:0,163,255;65:0,187,255;66:0,210,255;67:0,234,255;68:0,255,251;69:0,255,227;70:0,255,204;71:0,255,180;72:0,255,156;73:0,255,132;74:0,255,108;75:0,255,85;76:0,255,61;77:0,255,37;78:0,255,13;79:10,255,0;80:34,255,0;81:57,255,0;82:81,255,0;83:105,255,0;84:129,255,0;85:153,255,0;86:176,255,0;87:200,255,0;88:224,255,0;89:248,255,0;90:255,238,0;91:255,214,0;92:255,190,0;93:255,166,0;94:255,142,0;95:255,119,0;96:255,95,0;97:255,71,0;98:255,47,0;99:255,23,0;100:111,45,168;101:165,42,42;102:178,190,181;103:87,144,252;104:248,156,32;105:228,37,54;106:150,74,139;107:156,156,161;108:122,33,221;109:24,69,251;110:255,94,2;111:201,31,22;112:200,73,169;113:173,173,125;114:134,200,221;115:87,141,255;116:101,99,100;117:63,144,218;118:255,169,14;119:189,31,1;120:148,164,162;121:131,45,182;122:169,107,89;123:231,99,0;124:185,172,112;125:113,117,129;126:146,218,221;127:178,178,178;201:91,91,91;202:122,122,122;203:183,183,183;204:214,214,214;205:137,15,15;206:183,20,20;207:234,71,71;208:239,117,117;209:15,137,15;210:20,183,20;211:71,234,71;212:117,239,117;213:15,15,137;214:20,20,183;215:71,71,234;216:117,117,239;217:137,137,15;218:183,183,20;219:234,234,71;220:239,239,117;221:137,15,137;222:183,20,183;223:234,71,234;224:239,117,239;225:15,137,137;226:20,183,183;227:71,234,234;228:117,239,239;390:255,255,204;391:255,255,153;392:204,204,153;393:255,255,102;394:204,204,102;395:153,153,102;396:255,255,51;397:204,204,51;398:153,153,51;399:102,102,51;400:255,255,0;401:204,204,0;402:153,153,0;403:102,102,0;404:51,51,0;406:204,255,204;407:153,255,153;408:153,204,153;409:102,255,102;410:102,204,102;411:102,153,102;412:51,255,51;413:51,204,51;414:51,153,51;415:51,102,51;416:0,255,0;417:0,204,0;418:0,153,0;419:0,102,0;420:0,51,0;422:204,255,255;423:153,255,255;424:153,204,204;425:102,255,255;426:102,204,204;427:102,153,153;428:51,255,255;429:51,204,204;430:51,153,153;431:51,102,102;432:0,255,255;433:0,204,204;434:0,153,153;435:0,102,102;436:0,51,51;590:204,204,255;591:153,153,255;592:153,153,204;593:102,102,255;594:102,102,204;595:102,102,153;596:51,51,255;597:51,51,204;598:51,51,153;599:51,51,102;600:0,0,255;601:0,0,204;602:0,0,153;603:0,0,102;604:0,0,51;606:255,204,255;607:255,153,255;608:204,153,204;609:255,102,255;610:204,102,204;611:153,102,153;612:255,51,255;613:204,51,204;614:153,51,153;615:102,51,102;616:255,0,255;617:204,0,204;618:153,0,153;619:102,0,102;620:51,0,51;622:255,204,204;623:255,153,153;624:204,153,153;625:255,102,102;626:204,102,102;627:153,102,102;628:255,51,51;629:204,51,51;630:153,51,51;631:102,51,51;632:255,0,0;633:204,0,0;634:153,0,0;635:102,0,0;636:51,0,0;791:255,204,153;792:204,153,102;793:153,102,51;794:153,102,0;795:204,153,51;796:255,204,102;797:255,153,0;798:255,204,51;799:204,153,0;800:255,204,0;801:255,153,51;802:204,102,0;803:102,51,0;804:153,51,0;805:204,102,51;806:255,153,102;807:255,102,0;808:255,102,51;809:204,51,0;810:255,51,0;811:153,255,51;812:102,204,0;813:51,102,0;814:51,153,0;815:102,204,51;816:153,255,102;817:102,255,0;818:102,255,51;819:51,204,0;820:51,255,0;821:204,255,153;822:153,204,102;823:102,153,51;824:102,153,0;825:153,204,51;826:204,255,102;827:153,255,0;828:204,255,51;829:153,204,0;830:204,255,0;831:153,255,204;832:102,204,153;833:51,153,102;834:0,153,102;835:51,204,153;836:102,255,204;837:0,255,102;838:51,255,204;839:0,204,153;840:0,255,204;841:51,255,153;842:0,204,102;843:0,102,51;844:0,153,51;845:51,204,102;846:102,255,153;847:0,255,153;848:51,255,102;849:0,204,51;850:0,255,51;851:153,204,255;852:102,153,204;853:51,102,153;854:0,51,153;855:51,102,204;856:102,153,255;857:0,102,255;858:51,102,255;859:0,51,204;860:0,51,255;861:51,153,255;862:0,102,204;863:0,51,102;864:0,102,153;865:51,153,204;866:102,204,255;867:0,153,255;868:51,204,255;869:0,153,204;870:0,204,255;871:204,153,255;872:153,102,204;873:102,51,153;874:102,0,153;875:153,51,204;876:204,102,255;877:153,0,255;878:204,51,255;879:153,0,204;880:204,0,255;881:153,51,255;882:102,0,204;883:51,0,102;884:51,0,153;885:102,51,204;886:153,102,255;887:102,0,255;888:102,51,255;889:51,0,204;890:51,0,255;891:255,51,153;892:204,0,102;893:102,0,51;894:153,0,51;895:204,51,102;896:255,102,153;897:255,0,102;898:255,51,102;899:204,0,51;900:255,0,51;901:255,153,204;902:204,102,153;903:153,51,102;904:153,0,102;905:204,51,153;906:255,102,204;907:255,0,153;908:204,0,153;909:255,51,204;910:255,0,153;920:204,204,204;921:153,153,153;922:102,102,102;923:51,51,51;924:53,42,134;925:51,44,137;926:50,45,140;927:49,47,143;928:48,48,146;929:46,50,148;930:45,51,151;931:44,53,154;932:43,55,157;933:42,56,160;934:40,58,162;935:39,59,165;936:38,61,168;937:37,63,171;938:35,64,174;939:34,66,176;940:33,67,179;941:32,69,182;942:31,71,185;943:29,72,187;944:28,74,190;945:27,75,193;946:26,77,196;947:24,79,199;948:23,80,201;949:22,82,204;950:21,83,207;951:19,85,210;952:18,86,213;953:17,88,215;954:16,90,218;955:15,91,221;956:15,92,221;957:15,94,220;958:15,95,220;959:15,96,220;960:15,97,220;961:15,98,220;962:16,99,219;963:16,100,219;964:16,102,219;965:16,103,219;966:16,104,218;967:16,105,218;968:17,106,218;969:17,107,218;970:17,109,217;971:17,110,217;972:17,111,217;973:17,112,217;974:17,113,216;975:18,114,216;976:18,115,216;977:18,117,216;978:18,118,215;979:18,119,215;980:18,120,215;981:18,121,215;982:19,122,215;983:19,123,214;984:19,125,214;985:19,126,214;986:19,127,214;987:19,128,213;988:19,129,213;989:19,130,213;990:18,131,212;991:18,132,212;992:17,134,211;993:17,135,211;994:16,136,211;995:16,137,210;996:15,138,210;997:15,139,210;998:15,140,209;999:14,141,209;1000:14,142,208;1001:13,143,208;1002:13,145,208;1003:12,146,207;1004:12,147,207;1005:12,148,207;1006:11,149,206;1007:11,150,206;1008:10,151,205;1009:10,152,205;1010:9,153,205;1011:9,154,204;1012:8,155,204;1013:8,157,204;1014:8,158,203;1015:7,159,203;1016:7,160,202;1017:6,161,202;1018:6,162,202;1019:5,163,201;1020:7,164,200;1021:8,164,199;1022:9,165,198;1023:10,166,197;1024:12,166,195;1025:13,167,194;1026:14,167,193;1027:15,168,192;1028:17,169,191;1029:18,169,189;1030:19,170,188;1031:20,170,187;1032:22,171,186;1033:23,172,185;1034:24,172,184;1035:25,173,182;1036:27,173,181;1037:28,174,180;1038:29,175,179;1039:30,175,178;1040:32,176,176;1041:33,176,175;1042:34,177,174;1043:35,178,173;1044:37,178,172;1045:38,179,170;1046:39,180,169;1047:40,180,168;1048:42,181,167;1049:43,181,166;1050:44,182,165;1051:45,183,163;1052:48,183,162;1053:51,183,161;1054:54,183,159;1055:57,184,158;1056:59,184,156;1057:62,184,155;1058:65,184,154;1059:68,185,152;1060:71,185,151;1061:73,185,149;1062:76,185,148;1063:79,186,146;1064:82,186,145;1065:84,186,144;1066:87,186,142;1067:90,187,141;1068:93,187,139;1069:96,187,138;1070:98,187,137;1071:101,188,135;1072:104,188,134;1073:107,188,132;1074:110,188,131;1075:112,189,130;1076:115,189,128;1077:118,189,127;1078:121,189,125;1079:124,190,124;1080:126,190,123;1081:129,190,121;1082:132,190,120;1083:135,191,118;1084:137,190,117;1085:139,190,117;1086:142,190,116;1087:144,190,115;1088:146,190,114;1089:148,190,113;1090:151,190,112;1091:153,190,111;1092:155,189,110;1093:158,189,109;1094:160,189,108;1095:162,189,107;1096:165,189,106;1097:167,189,105;1098:169,189,104;1099:171,188,104;1100:174,188,103;1101:176,188,102;1102:178,188,101;1103:181,188,100;1104:183,188,99;1105:185,188,98;1106:188,188,97;1107:190,187,96;1108:192,187,95;1109:194,187,94;1110:197,187,93;1111:199,187,92;1112:201,187,92;1113:204,187,91;1114:206,186,90;1115:208,186,89;1116:210,187,88;1117:211,187,86;1118:212,188,85;1119:214,188,84;1120:215,188,83;1121:217,189,81;1122:218,189,80;1123:220,190,79;1124:221,190,78;1125:222,191,77;1126:224,191,75;1127:225,191,74;1128:227,192,73;1129:228,192,72;1130:229,193,70;1131:231,193,69;1132:232,194,68;1133:234,194,67;1134:235,194,66;1135:236,195,64;1136:238,195,63;1137:239,196,62;1138:241,196,61;1139:242,197,59;1140:244,197,58;1141:245,197,57;1142:246,198,56;1143:248,198,55;1144:249,199,53;1145:251,199,52;1146:252,200,51;1147:253,200,50;1148:253,202,49;1149:253,203,47;1150:253,205,46;1151:253,206,45;1152:253,208,44;1153:252,209,43;1154:252,211,42;1155:252,213,41;1156:252,214,39;1157:252,216,38;1158:252,217,37;1159:252,219,36;1160:251,220,35;1161:251,222,34;1162:251,224,33;1163:251,225,31;1164:251,227,30;1165:251,228,29;1166:250,230,28;1167:250,231,27;1168:250,233,26;1169:250,235,25;1170:250,236,23;1171:250,238,22;1172:250,239,21;1173:249,241,20;1174:249,242,19;1175:249,244,18;1176:249,246,17;1177:249,247,16;1178:249,249,14\",\"fBuf\":{\"$arr\":\"Float32\",\"len\":50,\"v\":[51,52,53,54,55,56,57,58,59,60,61,62,63,64,65,66,67,68,69,70,71,72,73,74,75,76,77,78,79,80,81,82,83,84,85,86,87,88,89,90,91,92,93,94,95,96,97,98,99,632]}}},{\"_typename\":\"TWebSnapshot\",\"fUniqueID\":0,\"fBits\":0,\"fObjectID\":\"\",\"fOption\":\"\",\"fKind\":5,\"fSnapshot\":{\"_typename\":\"TStyle\",\"fUniqueID\":0,\"fBits\":0,\"fName\":\"ildStyle\",\"fTitle\":\"ILD Style\",\"fLineColor\":1,\"fLineStyle\":1,\"fLineWidth\":2,\"fFillColor\":10,\"fFillStyle\":1001,\"fMarkerColor\":1,\"fMarkerStyle\":20,\"fMarkerSize\":0.7,\"fTextAngle\":0,\"fTextSize\":0.05,\"fTextAlign\":11,\"fTextColor\":1,\"fTextFont\":42,\"fXaxis\":{\"_typename\":\"TAttAxis\",\"fNdivisions\":506,\"fAxisColor\":1,\"fLabelColor\":1,\"fLabelFont\":42,\"fLabelOffset\":0.015,\"fLabelSize\":0.06,\"fTickLength\":0.03,\"fTitleOffset\":1,\"fTitleSize\":0.07,\"fTitleColor\":1,\"fTitleFont\":42},\"fYaxis\":{\"_typename\":\"TAttAxis\",\"fNdivisions\":506,\"fAxisColor\":1,\"fLabelColor\":1,\"fLabelFont\":42,\"fLabelOffset\":0.015,\"fLabelSize\":0.06,\"fTickLength\":0.03,\"fTitleOffset\":1.1,\"fTitleSize\":0.07,\"fTitleColor\":1,\"fTitleFont\":42},\"fZaxis\":{\"_typename\":\"TAttAxis\",\"fNdivisions\":510,\"fAxisColor\":1,\"fLabelColor\":1,\"fLabelFont\":42,\"fLabelOffset\":0.015,\"fLabelSize\":0.06,\"fTickLength\":0.03,\"fTitleOffset\":1.1,\"fTitleSize\":0.07,\"fTitleColor\":1,\"fTitleFont\":42},\"fBarWidth\":1,\"fBarOffset\":0,\"fColorModelPS\":0,\"fDrawBorder\":0,\"fOptLogx\":0,\"fOptLogy\":0,\"fOptLogz\":0,\"fOptDate\":0,\"fOptStat\":0,\"fOptTitle\":1,\"fOptFile\":0,\"fOptFit\":0,\"fShowEventStatus\":0,\"fShowEditor\":0,\"fShowToolBar\":0,\"fNumberContours\":20,\"fAttDate\":{\"_typename\":\"TAttText\",\"fTextAngle\":0,\"fTextSize\":0.025,\"fTextAlign\":11,\"fTextColor\":1,\"fTextFont\":62},\"fDateX\":0.01,\"fDateY\":0.01,\"fEndErrorSize\":2,\"fErrorX\":0.5,\"fFuncColor\":632,\"fFuncStyle\":1,\"fFuncWidth\":2,\"fGridColor\":0,\"fGridStyle\":3,\"fGridWidth\":1,\"fLegendBorderSize\":0,\"fLegendFillColor\":0,\"fLegendFillStyle\":1001,\"fLegendFont\":62,\"fLegendTextSize\":0,\"fHatchesLineWidth\":1,\"fHatchesSpacing\":1,\"fFrameFillColor\":10,\"fFrameLineColor\":1,\"fFrameFillStyle\":1001,\"fFrameLineStyle\":1,\"fFrameLineWidth\":2,\"fFrameBorderSize\":1,\"fFrameBorderMode\":0,\"fHistFillColor\":0,\"fHistLineColor\":1,\"fHistFillStyle\":1001,\"fHistLineStyle\":1,\"fHistLineWidth\":2,\"fHistMinimumZero\":false,\"fHistTopMargin\":0.05,\"fCanvasPreferGL\":false,\"fCanvasColor\":10,\"fCanvasBorderSize\":2,\"fCanvasBorderMode\":0,\"fCanvasDefH\":500,\"fCanvasDefW\":700,\"fCanvasDefX\":10,\"fCanvasDefY\":10,\"fPadColor\":10,\"fPadBorderSize\":2,\"fPadBorderMode\":0,\"fPadBottomMargin\":0.17,\"fPadTopMargin\":0.08,\"fPadLeftMargin\":0.15,\"fPadRightMargin\":0.16,\"fPadGridX\":false,\"fPadGridY\":false,\"fPadTickX\":1,\"fPadTickY\":1,\"fPaperSizeX\":20,\"fPaperSizeY\":26,\"fScreenFactor\":1,\"fStatColor\":10,\"fStatTextColor\":1,\"fStatBorderSize\":0,\"fStatFont\":42,\"fStatFontSize\":0.07,\"fStatStyle\":1001,\"fStatFormat\":\"6.4g\",\"fStatX\":0.98,\"fStatY\":0.995,\"fStatW\":0.2,\"fStatH\":0.16,\"fStripDecimals\":true,\"fTitleAlign\":13,\"fTitleColor\":0,\"fTitleTextColor\":1,\"fTitleBorderSize\":0,\"fTitleFont\":62,\"fTitleFontSize\":0,\"fTitleStyle\":1001,\"fTitleX\":0.01,\"fTitleY\":0.995,\"fTitleW\":0,\"fTitleH\":0,\"fLegoInnerR\":0.5,\"fLineStyles\":[\"\",\"  \",\" 12 12\",\" 4 8\",\" 12 16 4 16\",\" 20 12 4 12\",\" 20 12 4 12 4 12 4 12\",\" 20 20\",\" 20 12 4 12 4 12\",\" 80 20\",\" 80 40 4 40\",\"  \",\"  \",\"  \",\"  \",\"  \",\"  \",\"  \",\"  \",\"  \",\"  \",\"  \",\"  \",\"  \",\"  \",\"  \",\"  \",\"  \",\"  \",\"  \"],\"fHeaderPS\":\"\",\"fTitlePS\":\"\",\"fFitFormat\":\"5.4g\",\"fPaintTextFormat\":\"g\",\"fLineScalePS\":3,\"fJoinLinePS\":0,\"fCapLinePS\":0,\"fTimeOffset\":788918400,\"fImageScaling\":1,\"fCandleWhiskerRange\":1,\"fCandleBoxRange\":0.5,\"fCandleScaled\":false,\"fViolinScaled\":true,\"fCandleCircleLineWidth\":1,\"fCandleCrossLineWidth\":1,\"fXAxisExpXOffset\":0,\"fXAxisExpYOffset\":0,\"fYAxisExpXOffset\":0,\"fYAxisExpYOffset\":0,\"fAxisMaxDigits\":5,\"fOrthoCamera\":false}},{\"_typename\":\"TWebSnapshot\",\"fUniqueID\":0,\"fBits\":0,\"fObjectID\":\"\",\"fOption\":\"\",\"fKind\":1,\"fSnapshot\":{\"_typename\":\"TFrame\",\"fUniqueID\":0,\"fBits\":8,\"fLineColor\":1,\"fLineStyle\":1,\"fLineWidth\":2,\"fFillColor\":10,\"fFillStyle\":1001,\"fX1\":-0.004,\"fY1\":0,\"fX2\":0.004,\"fY2\":2,\"fBorderSize\":1,\"fBorderMode\":0}},{\"_typename\":\"TWebSnapshot\",\"fUniqueID\":0,\"fBits\":0,\"fObjectID\":\"\",\"fOption\":\"FUNC\",\"fKind\":1,\"fSnapshot\":{\"_typename\":\"TH1D\",\"fUniqueID\":0,\"fBits\":520,\"fName\":\"frame_ka_ed6cac0\",\"fTitle\":\"\",\"fLineColor\":1,\"fLineStyle\":1,\"fLineWidth\":2,\"fFillColor\":0,\"fFillStyle\":1001,\"fMarkerColor\":1,\"fMarkerStyle\":20,\"fMarkerSize\":0.7,\"fNcells\":102,\"fXaxis\":{\"_typename\":\"TAxis\",\"fUniqueID\":0,\"fBits\":0,\"fName\":\"xaxis\",\"fTitle\":\"ka\",\"fNdivisions\":506,\"fAxisColor\":1,\"fLabelColor\":1,\"fLabelFont\":42,\"fLabelOffset\":0.015,\"fLabelSize\":0.06,\"fTickLength\":0.03,\"fTitleOffset\":1,\"fTitleSize\":0.07,\"fTitleColor\":1,\"fTitleFont\":42,\"fNbins\":100,\"fXmin\":-0.004,\"fXmax\":0.004,\"fXbins\":[],\"fFirst\":0,\"fLast\":0,\"fBits2\":0,\"fTimeDisplay\":false,\"fTimeFormat\":\"\",\"fLabels\":null,\"fModLabs\":null},\"fYaxis\":{\"_typename\":\"TAxis\",\"fUniqueID\":0,\"fBits\":0,\"fName\":\"yaxis\",\"fTitle\":\"#Delta NLL\",\"fNdivisions\":506,\"fAxisColor\":1,\"fLabelColor\":1,\"fLabelFont\":42,\"fLabelOffset\":0.015,\"fLabelSize\":0.06,\"fTickLength\":0.03,\"fTitleOffset\":1.1,\"fTitleSize\":0.07,\"fTitleColor\":1,\"fTitleFont\":42,\"fNbins\":1,\"fXmin\":0,\"fXmax\":1,\"fXbins\":[],\"fFirst\":0,\"fLast\":0,\"fBits2\":0,\"fTimeDisplay\":false,\"fTimeFormat\":\"\",\"fLabels\":null,\"fModLabs\":null},\"fZaxis\":{\"_typename\":\"TAxis\",\"fUniqueID\":0,\"fBits\":0,\"fName\":\"zaxis\",\"fTitle\":\"\",\"fNdivisions\":510,\"fAxisColor\":1,\"fLabelColor\":1,\"fLabelFont\":42,\"fLabelOffset\":0.015,\"fLabelSize\":0.06,\"fTickLength\":0.03,\"fTitleOffset\":1.1,\"fTitleSize\":0.07,\"fTitleColor\":1,\"fTitleFont\":42,\"fNbins\":1,\"fXmin\":0,\"fXmax\":1,\"fXbins\":[],\"fFirst\":0,\"fLast\":0,\"fBits2\":0,\"fTimeDisplay\":false,\"fTimeFormat\":\"\",\"fLabels\":null,\"fModLabs\":null},\"fBarOffset\":0,\"fBarWidth\":1000,\"fEntries\":1,\"fTsumw\":0,\"fTsumw2\":0,\"fTsumwx\":0,\"fTsumwx2\":0,\"fMaximum\":2,\"fMinimum\":0,\"fNormFactor\":0,\"fContour\":[],\"fSumw2\":[],\"fOption\":\"\",\"fFunctions\":{\"_typename\":\"TList\",\"name\":\"TList\",\"arr\":[],\"opt\":[]},\"fBufferSize\":0,\"fBuffer\":[],\"fBinStatErrOpt\":0,\"fStatOverflows\":2,\"fArray\":{\"$arr\":\"Float64\",\"len\":102,\"p\":1,\"v\":4.70652867788763}}},{\"_typename\":\"TWebSnapshot\",\"fUniqueID\":0,\"fBits\":0,\"fObjectID\":\"\",\"fOption\":\"l\",\"fKind\":1,\"fSnapshot\":{\"_typename\":\"RooCurve\",\"fUniqueID\":0,\"fBits\":525320,\"fName\":\"RooEvaluatorWrapper_Norm[ka]\",\"fTitle\":\"Projection of RooEvaluatorWrapper\",\"fLineColor\":600,\"fLineStyle\":1,\"fLineWidth\":3,\"fFillColor\":0,\"fFillStyle\":1000,\"fMarkerColor\":1,\"fMarkerStyle\":20,\"fMarkerSize\":0.7,\"fNpoints\":106,\"fX\":{\"$arr\":\"Float64\",\"len\":106,\"v\":[-0.00408008,-0.00408,-0.004,-0.00392,-0.00384,-0.00376,-0.00368,-0.0036,-0.00352,-0.00344,-0.00336,-0.00328,-0.0032,-0.00312,-0.00304,-0.00296,-0.00288,-0.0028,-0.00272,-0.00264,-0.00256,-0.00248,-0.0024,-0.00232,-0.00224,-0.00216,-0.00208,-0.002,-0.00192,-0.00184,-0.00176,-0.00168,-0.0016,-0.00152,-0.00144,-0.00136,-0.00128,-0.0012,-0.00112,-0.00104,-9.6e-4,-8.8e-4,-8e-4,-7.2e-4,-6.4e-4,-5.6e-4,-4.8e-4,-4e-4,-3.2e-4,-2.4e-4,-1.6e-4,-7.99999999999993e-5,0,8.00000000000002e-5,1.6e-4,2.40000000000001e-4,3.2e-4,4e-4,4.8e-4,5.60000000000001e-4,6.4e-4,7.2e-4,8e-4,8.80000000000001e-4,9.6e-4,0.00104,0.00112,0.0012,0.00128,0.00136,0.00144,0.00152,0.0016,0.00168,0.00176,0.00184,0.00192,0.002,0.00208,0.00216,0.00224,0.00232,0.0024,0.00248,0.00256,0.00264,0.00272,0.0028,0.00288,0.00296,0.00304,0.00312,0.0032,0.00328,0.00336,0.00344,0.00352,0.0036,0.00368,0.00376,0.00384,0.00392,0.004,0.004,0.00408,0.00408008]},\"fY\":{\"$arr\":\"Float64\",\"len\":106,\"p\":1,\"v\":[4.48240826465488,4.48240826465488,4.30490489737455,4.13098745670594,3.96065594264905,3.7939103552039,3.63075069437046,3.47117696014874,3.31518915253875,3.16278727154049,3.01397131715395,2.86874128937913,2.72709718821603,2.58903901366466,2.45456676572502,2.32368044439709,2.19638004968089,2.07266558157642,1.95253704008367,1.83599442520264,1.72303773693334,1.61366697527576,1.5078821402299,1.40568323179577,1.30707024997336,1.21204319476269,1.12060206616372,1.03274686417648,0.948477588800973,0.867794240037188,0.790696817885124,0.717185322344783,0.647259753416165,0.580920111099275,0.518166395394104,0.458998606300661,0.403416743818941,0.351420807948944,0.303010798690671,0.258186716044122,0.216948560009296,0.179296330586197,0.145230027774819,0.114749651575167,0.0878552019872387,0.0645466790110305,0.0448240826465494,0.0286874128937917,0.0161366697527576,0.0071718532234506,0.00179296330586354,0,0.00179296330586354,0.0071718532234506,0.0161366697527576,0.0286874128937917,0.0448240826465423,0.0645466790110234,0.0878552019872494,0.114749651575178,0.145230027774833,0.179296330586197,0.216948560009296,0.258186716044122,0.303010798690671,0.351420807948944,0.403416743818941,0.458998606300661,0.518166395394104,0.580920111099275,0.647259753416137,0.717185322344751,0.790696817885092,0.867794240037224,0.948477588801012,1.03274686417649,1.12060206616372,1.21204319476269,1.30707024997337,1.40568323179577,1.5078821402299,1.61366697527576,1.72303773693334,1.83599442520264,1.95253704008367,2.07266558157636,2.19638004968083,2.32368044439715,2.45456676572507,2.58903901366472,2.72709718821603,2.86874128937913,3.01397131715395,3.16278727154049,3.31518915253875,3.47117696014874,3.63075069437046,3.7939103552039,3.96065594264905,4.13098745670586,4.30490489737447,4.48240826447563,4.48240826447563,4.48240826447563]},\"fFunctions\":{\"_typename\":\"TList\",\"name\":\"TList\",\"arr\":[],\"opt\":[]},\"fHistogram\":{\"_typename\":\"TH1F\",\"fUniqueID\":0,\"fBits\":512,\"fName\":\"RooEvaluatorWrapper_Norm[ka]\",\"fTitle\":\"Projection of RooEvaluatorWrapper\",\"fLineColor\":1,\"fLineStyle\":1,\"fLineWidth\":2,\"fFillColor\":0,\"fFillStyle\":1001,\"fMarkerColor\":1,\"fMarkerStyle\":20,\"fMarkerSize\":0.7,\"fNcells\":108,\"fXaxis\":{\"_typename\":\"TAxis\",\"fUniqueID\":0,\"fBits\":0,\"fName\":\"xaxis\",\"fTitle\":\"\",\"fNdivisions\":506,\"fAxisColor\":1,\"fLabelColor\":1,\"fLabelFont\":42,\"fLabelOffset\":0.015,\"fLabelSize\":0.06,\"fTickLength\":0.03,\"fTitleOffset\":1,\"fTitleSize\":0.07,\"fTitleColor\":1,\"fTitleFont\":42,\"fNbins\":106,\"fXmin\":-0.004896096,\"fXmax\":0.004896096,\"fXbins\":[],\"fFirst\":0,\"fLast\":0,\"fBits2\":0,\"fTimeDisplay\":false,\"fTimeFormat\":\"\",\"fLabels\":null,\"fModLabs\":null},\"fYaxis\":{\"_typename\":\"TAxis\",\"fUniqueID\":0,\"fBits\":0,\"fName\":\"yaxis\",\"fTitle\":\"\",\"fNdivisions\":506,\"fAxisColor\":1,\"fLabelColor\":1,\"fLabelFont\":42,\"fLabelOffset\":0.015,\"fLabelSize\":0.06,\"fTickLength\":0.03,\"fTitleOffset\":1.1,\"fTitleSize\":0.07,\"fTitleColor\":1,\"fTitleFont\":42,\"fNbins\":1,\"fXmin\":0,\"fXmax\":4.93064909112037,\"fXbins\":[],\"fFirst\":0,\"fLast\":0,\"fBits2\":0,\"fTimeDisplay\":false,\"fTimeFormat\":\"\",\"fLabels\":null,\"fModLabs\":null},\"fZaxis\":{\"_typename\":\"TAxis\",\"fUniqueID\":0,\"fBits\":0,\"fName\":\"zaxis\",\"fTitle\":\"\",\"fNdivisions\":510,\"fAxisColor\":1,\"fLabelColor\":1,\"fLabelFont\":42,\"fLabelOffset\":0.015,\"fLabelSize\":0.06,\"fTickLength\":0.03,\"fTitleOffset\":1.1,\"fTitleSize\":0.07,\"fTitleColor\":1,\"fTitleFont\":42,\"fNbins\":1,\"fXmin\":0,\"fXmax\":1,\"fXbins\":[],\"fFirst\":0,\"fLast\":0,\"fBits2\":0,\"fTimeDisplay\":false,\"fTimeFormat\":\"\",\"fLabels\":null,\"fModLabs\":null},\"fBarOffset\":0,\"fBarWidth\":1000,\"fEntries\":0,\"fTsumw\":0,\"fTsumw2\":0,\"fTsumwx\":0,\"fTsumwx2\":0,\"fMaximum\":4.93064909112037,\"fMinimum\":0,\"fNormFactor\":0,\"fContour\":[],\"fSumw2\":[],\"fOption\":\"\",\"fFunctions\":{\"_typename\":\"TList\",\"name\":\"TList\",\"arr\":[],\"opt\":[]},\"fBufferSize\":0,\"fBuffer\":[],\"fBinStatErrOpt\":0,\"fStatOverflows\":2,\"fArray\":{\"$arr\":\"Float32\",\"len\":108}},\"fMinimum\":-1111,\"fMaximum\":-1111,\"fOption\":\"\",\"_yAxisLabel\":\"Projection of RooEvaluatorWrapper\",\"_ymin\":0,\"_ymax\":4.48240826465488,\"_normValue\":0}},{\"_typename\":\"TWebSnapshot\",\"fUniqueID\":0,\"fBits\":0,\"fObjectID\":\"\",\"fOption\":\"l\",\"fKind\":1,\"fSnapshot\":{\"_typename\":\"RooCurve\",\"fUniqueID\":0,\"fBits\":525320,\"fName\":\"RooEvaluatorWrapper_Profile[ka]_Norm[ka]\",\"fTitle\":\"Projection of Profile of RooEvaluatorWrapper\",\"fLineColor\":632,\"fLineStyle\":1,\"fLineWidth\":3,\"fFillColor\":0,\"fFillStyle\":1000,\"fMarkerColor\":1,\"fMarkerStyle\":20,\"fMarkerSize\":0.7,\"fNpoints\":106,\"fX\":{\"$arr\":\"Float64\",\"len\":106,\"v\":[-0.00408008,-0.00408,-0.004,-0.00392,-0.00384,-0.00376,-0.00368,-0.0036,-0.00352,-0.00344,-0.00336,-0.00328,-0.0032,-0.00312,-0.00304,-0.00296,-0.00288,-0.0028,-0.00272,-0.00264,-0.00256,-0.00248,-0.0024,-0.00232,-0.00224,-0.00216,-0.00208,-0.002,-0.00192,-0.00184,-0.00176,-0.00168,-0.0016,-0.00152,-0.00144,-0.00136,-0.00128,-0.0012,-0.00112,-0.00104,-9.6e-4,-8.8e-4,-8e-4,-7.2e-4,-6.4e-4,-5.6e-4,-4.8e-4,-4e-4,-3.2e-4,-2.4e-4,-1.6e-4,-7.99999999999993e-5,0,8.00000000000002e-5,1.6e-4,2.40000000000001e-4,3.2e-4,4e-4,4.8e-4,5.60000000000001e-4,6.4e-4,7.2e-4,8e-4,8.80000000000001e-4,9.6e-4,0.00104,0.00112,0.0012,0.00128,0.00136,0.00144,0.00152,0.0016,0.00168,0.00176,0.00184,0.00192,0.002,0.00208,0.00216,0.00224,0.00232,0.0024,0.00248,0.00256,0.00264,0.00272,0.0028,0.00288,0.00296,0.00304,0.00312,0.0032,0.00328,0.00336,0.00344,0.00352,0.0036,0.00368,0.00376,0.00384,0.00392,0.004,0.004,0.00408,0.00408008]},\"fY\":{\"$arr\":\"Float64\",\"len\":106,\"p\":1,\"v\":[4.03068295626223,4.03068295626223,3.87110481152689,3.71479905472322,3.56172606752713,3.41183869777778,3.26508021439867,3.1214662350682,2.98118934199887,2.84420050625635,2.71044281410473,2.57987136310735,2.45245419550914,2.32824147822677,2.20732038111322,2.08966884764553,1.97524384971376,1.86400570993114,1.75593740955226,1.65109351547393,1.54952587886686,1.45121627140574,1.35612781004635,1.26422782753742,1.17551075160335,1.09002799824384,1.00781189506672,0.928844998320727,0.853095082919221,0.7805359985941,0.7111709857299,0.645045523057014,0.582179583346903,0.522555789167175,0.466145826978813,0.412929621581238,0.362916907105163,0.316146325810255,0.272629467422586,0.232349003610668,0.195280136450258,0.161408394138583,0.130747907614619,0.103330500650372,0.079161843455573,0.058224874022045,0.0404980986389631,0.0259721125692778,0.0146636068061987,0.00659807090225328,0.00177690436655809,1.83587424011478e-4,0.00179980569308213,0.00662061137892067,0.0146637331224504,0.0259490254767272,0.0404747883997842,0.0582253086729381,0.0791853488578411,0.103353744108112,0.130748079282679,0.161383340926797,0.195255603021913,0.232350185859872,0.272654808829859,0.316171376999339,0.362916481942673,0.412900994276988,0.466119438812306,0.52255835139745,0.582208248380731,0.645073386687152,0.711168810287187,0.780501969438252,0.853066377709467,0.928849922429578,1.00784570902645,1.09005965937896,1.17550495878494,1.26418625956704,1.3560964973255,1.45122500108175,1.54956721127567,1.65113009071528,1.7559248424098,1.86395386719137,1.9752098725398,2.08968367451941,2.20737275715182,2.32828458594472,2.45242839344082,2.57980480333316,2.71040657545032,2.84422601494435,2.98126233381946,3.12152306010876,3.26501555915655,3.41173908620771,3.56168667451366,3.71485207981531,3.87123591740367,4.03084543790696,4.03084543790696,4.03084543790696]},\"fFunctions\":{\"_typename\":\"TList\",\"name\":\"TList\",\"arr\":[],\"opt\":[]},\"fHistogram\":{\"_typename\":\"TH1F\",\"fUniqueID\":0,\"fBits\":512,\"fName\":\"RooEvaluatorWrapper_Profile[ka]_Norm[ka]\",\"fTitle\":\"Projection of Profile of RooEvaluatorWrapper\",\"fLineColor\":1,\"fLineStyle\":1,\"fLineWidth\":2,\"fFillColor\":0,\"fFillStyle\":1001,\"fMarkerColor\":1,\"fMarkerStyle\":20,\"fMarkerSize\":0.7,\"fNcells\":108,\"fXaxis\":{\"_typename\":\"TAxis\",\"fUniqueID\":0,\"fBits\":0,\"fName\":\"xaxis\",\"fTitle\":\"\",\"fNdivisions\":506,\"fAxisColor\":1,\"fLabelColor\":1,\"fLabelFont\":42,\"fLabelOffset\":0.015,\"fLabelSize\":0.06,\"fTickLength\":0.03,\"fTitleOffset\":1,\"fTitleSize\":0.07,\"fTitleColor\":1,\"fTitleFont\":42,\"fNbins\":106,\"fXmin\":-0.004896096,\"fXmax\":0.004896096,\"fXbins\":[],\"fFirst\":0,\"fLast\":0,\"fBits2\":0,\"fTimeDisplay\":false,\"fTimeFormat\":\"\",\"fLabels\":null,\"fModLabs\":null},\"fYaxis\":{\"_typename\":\"TAxis\",\"fUniqueID\":0,\"fBits\":0,\"fName\":\"yaxis\",\"fTitle\":\"\",\"fNdivisions\":506,\"fAxisColor\":1,\"fLabelColor\":1,\"fLabelFont\":42,\"fLabelOffset\":0.015,\"fLabelSize\":0.06,\"fTickLength\":0.03,\"fTitleOffset\":1.1,\"fTitleSize\":0.07,\"fTitleColor\":1,\"fTitleFont\":42,\"fNbins\":1,\"fXmin\":0,\"fXmax\":4.43392998169766,\"fXbins\":[],\"fFirst\":0,\"fLast\":0,\"fBits2\":0,\"fTimeDisplay\":false,\"fTimeFormat\":\"\",\"fLabels\":null,\"fModLabs\":null},\"fZaxis\":{\"_typename\":\"TAxis\",\"fUniqueID\":0,\"fBits\":0,\"fName\":\"zaxis\",\"fTitle\":\"\",\"fNdivisions\":510,\"fAxisColor\":1,\"fLabelColor\":1,\"fLabelFont\":42,\"fLabelOffset\":0.015,\"fLabelSize\":0.06,\"fTickLength\":0.03,\"fTitleOffset\":1.1,\"fTitleSize\":0.07,\"fTitleColor\":1,\"fTitleFont\":42,\"fNbins\":1,\"fXmin\":0,\"fXmax\":1,\"fXbins\":[],\"fFirst\":0,\"fLast\":0,\"fBits2\":0,\"fTimeDisplay\":false,\"fTimeFormat\":\"\",\"fLabels\":null,\"fModLabs\":null},\"fBarOffset\":0,\"fBarWidth\":1000,\"fEntries\":0,\"fTsumw\":0,\"fTsumw2\":0,\"fTsumwx\":0,\"fTsumwx2\":0,\"fMaximum\":4.43392998169766,\"fMinimum\":0,\"fNormFactor\":0,\"fContour\":[],\"fSumw2\":[],\"fOption\":\"\",\"fFunctions\":{\"_typename\":\"TList\",\"name\":\"TList\",\"arr\":[],\"opt\":[]},\"fBufferSize\":0,\"fBuffer\":[],\"fBinStatErrOpt\":0,\"fStatOverflows\":2,\"fArray\":{\"$arr\":\"Float32\",\"len\":108}},\"fMinimum\":-1111,\"fMaximum\":-1111,\"fOption\":\"\",\"_yAxisLabel\":\"Projection of Profile of RooEvaluatorWrapper\",\"_ymin\":0,\"_ymax\":4.03084543790696,\"_normValue\":0}},{\"_typename\":\"TWebSnapshot\",\"fUniqueID\":0,\"fBits\":0,\"fObjectID\":\"\",\"fOption\":\"AXISSAME\",\"fKind\":1,\"fSnapshot\":{\"$ref\":15}}],\"fScripts\":\"\",\"fHighlightConnect\":false,\"fFixedSize\":false});\n",
       "   Core.settings.HandleKeys = false;\n",
       "   Core.draw(\"root_plot_1759851523404\", obj, \"\");\n",
       "}\n",
       "\n",
       "function script_load_root_plot_1759851523404(src, on_error) {\n",
       "    let script = document.createElement('script');\n",
       "    script.src = src;\n",
       "    script.onload = function() { display_root_plot_1759851523404(JSROOT); };\n",
       "    script.onerror = function() { script.remove(); on_error(); };\n",
       "    document.head.appendChild(script);\n",
       "}\n",
       "\n",
       "if (typeof requirejs !== 'undefined') {\n",
       "\n",
       "    // We are in jupyter notebooks, use require.js which should be configured already\n",
       "    requirejs.config({\n",
       "       paths: { 'JSRootCore' : [ 'build/jsroot', 'https://root.cern/js/7.9.0/build/jsroot', 'https://jsroot.gsi.de/7.9.0/build/jsroot' ] }\n",
       "    })(['JSRootCore'],  function(Core) {\n",
       "       display_root_plot_1759851523404(Core);\n",
       "    });\n",
       "\n",
       "} else if (typeof JSROOT !== 'undefined') {\n",
       "\n",
       "   // JSROOT already loaded, just use it\n",
       "   display_root_plot_1759851523404(JSROOT);\n",
       "\n",
       "} else {\n",
       "\n",
       "    // We are in jupyterlab without require.js, directly loading jsroot\n",
       "    // Jupyterlab might be installed in a different base_url so we need to know it.\n",
       "    try {\n",
       "        var base_url = JSON.parse(document.getElementById('jupyter-config-data').innerHTML).baseUrl;\n",
       "    } catch(_) {\n",
       "        var base_url = '/';\n",
       "    }\n",
       "\n",
       "    // Try loading a local version of requirejs and fallback to cdn if not possible.\n",
       "    script_load_root_plot_1759851523404(base_url + 'static/build/jsroot.js', function(){\n",
       "        console.error('Fail to load JSROOT locally, please check your jupyter_notebook_config.py file');\n",
       "        script_load_root_plot_1759851523404('https://root.cern/js/7.9.0/build/jsroot.js', function(){\n",
       "            document.getElementById(\"root_plot_1759851523404\").innerHTML = \"Failed to load JSROOT\";\n",
       "        });\n",
       "    });\n",
       "}\n",
       "\n",
       "</script>\n"
      ],
      "text/plain": [
       "<IPython.core.display.HTML object>"
      ]
     },
     "metadata": {},
     "output_type": "display_data"
    },
    {
     "data": {
      "text/html": [
       "\n",
       "\n",
       "<div id=\"root_plot_1759851523405\" style=\"width: 700px; height: 500px; position: relative\">\n",
       "</div>\n",
       "\n",
       "<script>\n",
       "\n",
       "function display_root_plot_1759851523405(Core) {\n",
       "   let obj = Core.parse({\"_typename\":\"TCanvasWebSnapshot\",\"fUniqueID\":0,\"fBits\":0,\"fObjectID\":\"\",\"fOption\":\"\",\"fKind\":3,\"fSnapshot\":{\"_typename\":\"TCanvas\",\"fUniqueID\":0,\"fBits\":3342344,\"fLineColor\":1,\"fLineStyle\":1,\"fLineWidth\":2,\"fFillColor\":10,\"fFillStyle\":1001,\"fLeftMargin\":0.15,\"fRightMargin\":0.16,\"fBottomMargin\":0.17,\"fTopMargin\":0.08,\"fXfile\":2,\"fYfile\":2,\"fAfile\":1,\"fXstat\":0.99,\"fYstat\":0.99,\"fAstat\":2,\"fFrameFillColor\":10,\"fFrameLineColor\":1,\"fFrameFillStyle\":1001,\"fFrameLineStyle\":1,\"fFrameLineWidth\":2,\"fFrameBorderSize\":1,\"fFrameBorderMode\":0,\"fX1\":-0.00573913035966649,\"fY1\":-0.453333338101705,\"fX2\":0.00585507226846621,\"fY2\":2.21333332856496,\"fXtoAbsPixelk\":344.520003526211,\"fXtoPixelk\":344.520003526211,\"fXtoPixel\":60030.001400113,\"fYtoAbsPixelk\":391.759999155998,\"fYtoPixelk\":391.759999155998,\"fYtoPixel\":-177,\"fUtoAbsPixelk\":0,\"fUtoPixelk\":0,\"fUtoPixel\":696,\"fVtoAbsPixelk\":472,\"fVtoPixelk\":472,\"fVtoPixel\":-472,\"fAbsPixeltoXk\":-0.00573913035966649,\"fPixeltoXk\":-0.00573913035966649,\"fPixeltoX\":1.66583371093861e-5,\"fAbsPixeltoYk\":2.21333332856496,\"fPixeltoYk\":-0.453333338101705,\"fPixeltoY\":-0.00564971751412429,\"fXlowNDC\":0,\"fYlowNDC\":0,\"fXUpNDC\":1,\"fYUpNDC\":1,\"fWNDC\":1,\"fHNDC\":1,\"fAbsXlowNDC\":0,\"fAbsYlowNDC\":0,\"fAbsWNDC\":1,\"fAbsHNDC\":1,\"fUxmin\":-0.004,\"fUymin\":0,\"fUxmax\":0.004,\"fUymax\":2,\"fTheta\":30,\"fPhi\":30,\"fAspectRatio\":0,\"fNumber\":0,\"fTickx\":1,\"fTicky\":1,\"fLogx\":0,\"fLogy\":0,\"fLogz\":0,\"fPadPaint\":0,\"fCrosshair\":0,\"fCrosshairPos\":0,\"fBorderSize\":2,\"fBorderMode\":0,\"fModified\":false,\"fGridx\":false,\"fGridy\":false,\"fAbsCoord\":false,\"fEditable\":true,\"fFixedAspectRatio\":false,\"fPrimitives\":{\"_typename\":\"TList\",\"name\":\"TList\",\"arr\":[],\"opt\":[]},\"fExecs\":null,\"fName\":\"c1_n3\",\"fTitle\":\"c1_n3\",\"fNumPaletteColor\":0,\"fNextPaletteColor\":0,\"fDISPLAY\":\"$DISPLAY\",\"fDoubleBuffer\":0,\"fRetained\":true,\"fXsizeUser\":0,\"fYsizeUser\":0,\"fXsizeReal\":20,\"fYsizeReal\":14.28571,\"fWindowTopX\":0,\"fWindowTopY\":0,\"fWindowWidth\":0,\"fWindowHeight\":0,\"fCw\":696,\"fCh\":472,\"fCatt\":{\"_typename\":\"TAttCanvas\",\"fXBetween\":2,\"fYBetween\":2,\"fTitleFromTop\":1.2,\"fXdate\":0.2,\"fYdate\":0.3,\"fAdate\":1},\"kMoveOpaque\":true,\"kResizeOpaque\":true,\"fHighLightColor\":2,\"fBatch\":true,\"kShowEventStatus\":false,\"kAutoExec\":true,\"kMenuBar\":true},\"fActive\":false,\"fReadOnly\":true,\"fWithoutPrimitives\":false,\"fHasExecs\":false,\"fPrimitives\":[{\"_typename\":\"TWebSnapshot\",\"fUniqueID\":0,\"fBits\":0,\"fObjectID\":\"\",\"fOption\":\"\",\"fKind\":4,\"fSnapshot\":{\"_typename\":\"TWebPainting\",\"fUniqueID\":0,\"fBits\":0,\"fClassName\":\"\",\"fObjectName\":\"\",\"fOper\":\"0:255,255,255;1:0,0,0;2:255,0,0;3:0,255,0;4:0,0,255;5:255,255,0;6:255,0,255;7:0,255,255;8:89,211,84;9:89,84,216;10:254,254,254;11:192,182,172;12:76,76,76;13:102,102,102;14:127,127,127;15:153,153,153;16:178,178,178;17:204,204,204;18:229,229,229;19:242,242,242;20:204,198,170;21:204,198,170;22:193,191,168;23:186,181,163;24:178,165,150;25:183,163,155;26:173,153,140;27:155,142,130;28:135,102,86;29:175,206,198;30:132,193,163;31:137,168,160;32:130,158,140;33:173,188,198;34:122,142,153;35:117,137,145;36:104,130,150;37:109,122,132;38:124,153,209;39:127,127,155;40:170,165,191;41:211,206,135;42:221,186,135;43:188,158,130;44:198,153,124;45:191,130,119;46:206,94,96;47:170,142,147;48:165,119,122;49:147,104,112;50:211,89,84;51:146,0,255;52:122,0,255;53:98,0,255;54:74,0,255;55:51,0,255;56:27,0,255;57:3,0,255;58:0,20,255;59:0,44,255;60:0,68,255;61:0,91,255;62:0,115,255;63:0,139,255;64:0,163,255;65:0,187,255;66:0,210,255;67:0,234,255;68:0,255,251;69:0,255,227;70:0,255,204;71:0,255,180;72:0,255,156;73:0,255,132;74:0,255,108;75:0,255,85;76:0,255,61;77:0,255,37;78:0,255,13;79:10,255,0;80:34,255,0;81:57,255,0;82:81,255,0;83:105,255,0;84:129,255,0;85:153,255,0;86:176,255,0;87:200,255,0;88:224,255,0;89:248,255,0;90:255,238,0;91:255,214,0;92:255,190,0;93:255,166,0;94:255,142,0;95:255,119,0;96:255,95,0;97:255,71,0;98:255,47,0;99:255,23,0;100:111,45,168;101:165,42,42;102:178,190,181;103:87,144,252;104:248,156,32;105:228,37,54;106:150,74,139;107:156,156,161;108:122,33,221;109:24,69,251;110:255,94,2;111:201,31,22;112:200,73,169;113:173,173,125;114:134,200,221;115:87,141,255;116:101,99,100;117:63,144,218;118:255,169,14;119:189,31,1;120:148,164,162;121:131,45,182;122:169,107,89;123:231,99,0;124:185,172,112;125:113,117,129;126:146,218,221;127:178,178,178;201:91,91,91;202:122,122,122;203:183,183,183;204:214,214,214;205:137,15,15;206:183,20,20;207:234,71,71;208:239,117,117;209:15,137,15;210:20,183,20;211:71,234,71;212:117,239,117;213:15,15,137;214:20,20,183;215:71,71,234;216:117,117,239;217:137,137,15;218:183,183,20;219:234,234,71;220:239,239,117;221:137,15,137;222:183,20,183;223:234,71,234;224:239,117,239;225:15,137,137;226:20,183,183;227:71,234,234;228:117,239,239;390:255,255,204;391:255,255,153;392:204,204,153;393:255,255,102;394:204,204,102;395:153,153,102;396:255,255,51;397:204,204,51;398:153,153,51;399:102,102,51;400:255,255,0;401:204,204,0;402:153,153,0;403:102,102,0;404:51,51,0;406:204,255,204;407:153,255,153;408:153,204,153;409:102,255,102;410:102,204,102;411:102,153,102;412:51,255,51;413:51,204,51;414:51,153,51;415:51,102,51;416:0,255,0;417:0,204,0;418:0,153,0;419:0,102,0;420:0,51,0;422:204,255,255;423:153,255,255;424:153,204,204;425:102,255,255;426:102,204,204;427:102,153,153;428:51,255,255;429:51,204,204;430:51,153,153;431:51,102,102;432:0,255,255;433:0,204,204;434:0,153,153;435:0,102,102;436:0,51,51;590:204,204,255;591:153,153,255;592:153,153,204;593:102,102,255;594:102,102,204;595:102,102,153;596:51,51,255;597:51,51,204;598:51,51,153;599:51,51,102;600:0,0,255;601:0,0,204;602:0,0,153;603:0,0,102;604:0,0,51;606:255,204,255;607:255,153,255;608:204,153,204;609:255,102,255;610:204,102,204;611:153,102,153;612:255,51,255;613:204,51,204;614:153,51,153;615:102,51,102;616:255,0,255;617:204,0,204;618:153,0,153;619:102,0,102;620:51,0,51;622:255,204,204;623:255,153,153;624:204,153,153;625:255,102,102;626:204,102,102;627:153,102,102;628:255,51,51;629:204,51,51;630:153,51,51;631:102,51,51;632:255,0,0;633:204,0,0;634:153,0,0;635:102,0,0;636:51,0,0;791:255,204,153;792:204,153,102;793:153,102,51;794:153,102,0;795:204,153,51;796:255,204,102;797:255,153,0;798:255,204,51;799:204,153,0;800:255,204,0;801:255,153,51;802:204,102,0;803:102,51,0;804:153,51,0;805:204,102,51;806:255,153,102;807:255,102,0;808:255,102,51;809:204,51,0;810:255,51,0;811:153,255,51;812:102,204,0;813:51,102,0;814:51,153,0;815:102,204,51;816:153,255,102;817:102,255,0;818:102,255,51;819:51,204,0;820:51,255,0;821:204,255,153;822:153,204,102;823:102,153,51;824:102,153,0;825:153,204,51;826:204,255,102;827:153,255,0;828:204,255,51;829:153,204,0;830:204,255,0;831:153,255,204;832:102,204,153;833:51,153,102;834:0,153,102;835:51,204,153;836:102,255,204;837:0,255,102;838:51,255,204;839:0,204,153;840:0,255,204;841:51,255,153;842:0,204,102;843:0,102,51;844:0,153,51;845:51,204,102;846:102,255,153;847:0,255,153;848:51,255,102;849:0,204,51;850:0,255,51;851:153,204,255;852:102,153,204;853:51,102,153;854:0,51,153;855:51,102,204;856:102,153,255;857:0,102,255;858:51,102,255;859:0,51,204;860:0,51,255;861:51,153,255;862:0,102,204;863:0,51,102;864:0,102,153;865:51,153,204;866:102,204,255;867:0,153,255;868:51,204,255;869:0,153,204;870:0,204,255;871:204,153,255;872:153,102,204;873:102,51,153;874:102,0,153;875:153,51,204;876:204,102,255;877:153,0,255;878:204,51,255;879:153,0,204;880:204,0,255;881:153,51,255;882:102,0,204;883:51,0,102;884:51,0,153;885:102,51,204;886:153,102,255;887:102,0,255;888:102,51,255;889:51,0,204;890:51,0,255;891:255,51,153;892:204,0,102;893:102,0,51;894:153,0,51;895:204,51,102;896:255,102,153;897:255,0,102;898:255,51,102;899:204,0,51;900:255,0,51;901:255,153,204;902:204,102,153;903:153,51,102;904:153,0,102;905:204,51,153;906:255,102,204;907:255,0,153;908:204,0,153;909:255,51,204;910:255,0,153;920:204,204,204;921:153,153,153;922:102,102,102;923:51,51,51;924:53,42,134;925:51,44,137;926:50,45,140;927:49,47,143;928:48,48,146;929:46,50,148;930:45,51,151;931:44,53,154;932:43,55,157;933:42,56,160;934:40,58,162;935:39,59,165;936:38,61,168;937:37,63,171;938:35,64,174;939:34,66,176;940:33,67,179;941:32,69,182;942:31,71,185;943:29,72,187;944:28,74,190;945:27,75,193;946:26,77,196;947:24,79,199;948:23,80,201;949:22,82,204;950:21,83,207;951:19,85,210;952:18,86,213;953:17,88,215;954:16,90,218;955:15,91,221;956:15,92,221;957:15,94,220;958:15,95,220;959:15,96,220;960:15,97,220;961:15,98,220;962:16,99,219;963:16,100,219;964:16,102,219;965:16,103,219;966:16,104,218;967:16,105,218;968:17,106,218;969:17,107,218;970:17,109,217;971:17,110,217;972:17,111,217;973:17,112,217;974:17,113,216;975:18,114,216;976:18,115,216;977:18,117,216;978:18,118,215;979:18,119,215;980:18,120,215;981:18,121,215;982:19,122,215;983:19,123,214;984:19,125,214;985:19,126,214;986:19,127,214;987:19,128,213;988:19,129,213;989:19,130,213;990:18,131,212;991:18,132,212;992:17,134,211;993:17,135,211;994:16,136,211;995:16,137,210;996:15,138,210;997:15,139,210;998:15,140,209;999:14,141,209;1000:14,142,208;1001:13,143,208;1002:13,145,208;1003:12,146,207;1004:12,147,207;1005:12,148,207;1006:11,149,206;1007:11,150,206;1008:10,151,205;1009:10,152,205;1010:9,153,205;1011:9,154,204;1012:8,155,204;1013:8,157,204;1014:8,158,203;1015:7,159,203;1016:7,160,202;1017:6,161,202;1018:6,162,202;1019:5,163,201;1020:7,164,200;1021:8,164,199;1022:9,165,198;1023:10,166,197;1024:12,166,195;1025:13,167,194;1026:14,167,193;1027:15,168,192;1028:17,169,191;1029:18,169,189;1030:19,170,188;1031:20,170,187;1032:22,171,186;1033:23,172,185;1034:24,172,184;1035:25,173,182;1036:27,173,181;1037:28,174,180;1038:29,175,179;1039:30,175,178;1040:32,176,176;1041:33,176,175;1042:34,177,174;1043:35,178,173;1044:37,178,172;1045:38,179,170;1046:39,180,169;1047:40,180,168;1048:42,181,167;1049:43,181,166;1050:44,182,165;1051:45,183,163;1052:48,183,162;1053:51,183,161;1054:54,183,159;1055:57,184,158;1056:59,184,156;1057:62,184,155;1058:65,184,154;1059:68,185,152;1060:71,185,151;1061:73,185,149;1062:76,185,148;1063:79,186,146;1064:82,186,145;1065:84,186,144;1066:87,186,142;1067:90,187,141;1068:93,187,139;1069:96,187,138;1070:98,187,137;1071:101,188,135;1072:104,188,134;1073:107,188,132;1074:110,188,131;1075:112,189,130;1076:115,189,128;1077:118,189,127;1078:121,189,125;1079:124,190,124;1080:126,190,123;1081:129,190,121;1082:132,190,120;1083:135,191,118;1084:137,190,117;1085:139,190,117;1086:142,190,116;1087:144,190,115;1088:146,190,114;1089:148,190,113;1090:151,190,112;1091:153,190,111;1092:155,189,110;1093:158,189,109;1094:160,189,108;1095:162,189,107;1096:165,189,106;1097:167,189,105;1098:169,189,104;1099:171,188,104;1100:174,188,103;1101:176,188,102;1102:178,188,101;1103:181,188,100;1104:183,188,99;1105:185,188,98;1106:188,188,97;1107:190,187,96;1108:192,187,95;1109:194,187,94;1110:197,187,93;1111:199,187,92;1112:201,187,92;1113:204,187,91;1114:206,186,90;1115:208,186,89;1116:210,187,88;1117:211,187,86;1118:212,188,85;1119:214,188,84;1120:215,188,83;1121:217,189,81;1122:218,189,80;1123:220,190,79;1124:221,190,78;1125:222,191,77;1126:224,191,75;1127:225,191,74;1128:227,192,73;1129:228,192,72;1130:229,193,70;1131:231,193,69;1132:232,194,68;1133:234,194,67;1134:235,194,66;1135:236,195,64;1136:238,195,63;1137:239,196,62;1138:241,196,61;1139:242,197,59;1140:244,197,58;1141:245,197,57;1142:246,198,56;1143:248,198,55;1144:249,199,53;1145:251,199,52;1146:252,200,51;1147:253,200,50;1148:253,202,49;1149:253,203,47;1150:253,205,46;1151:253,206,45;1152:253,208,44;1153:252,209,43;1154:252,211,42;1155:252,213,41;1156:252,214,39;1157:252,216,38;1158:252,217,37;1159:252,219,36;1160:251,220,35;1161:251,222,34;1162:251,224,33;1163:251,225,31;1164:251,227,30;1165:251,228,29;1166:250,230,28;1167:250,231,27;1168:250,233,26;1169:250,235,25;1170:250,236,23;1171:250,238,22;1172:250,239,21;1173:249,241,20;1174:249,242,19;1175:249,244,18;1176:249,246,17;1177:249,247,16;1178:249,249,14\",\"fBuf\":{\"$arr\":\"Float32\",\"len\":50,\"v\":[51,52,53,54,55,56,57,58,59,60,61,62,63,64,65,66,67,68,69,70,71,72,73,74,75,76,77,78,79,80,81,82,83,84,85,86,87,88,89,90,91,92,93,94,95,96,97,98,99,632]}}},{\"_typename\":\"TWebSnapshot\",\"fUniqueID\":0,\"fBits\":0,\"fObjectID\":\"\",\"fOption\":\"\",\"fKind\":5,\"fSnapshot\":{\"_typename\":\"TStyle\",\"fUniqueID\":0,\"fBits\":0,\"fName\":\"ildStyle\",\"fTitle\":\"ILD Style\",\"fLineColor\":1,\"fLineStyle\":1,\"fLineWidth\":2,\"fFillColor\":10,\"fFillStyle\":1001,\"fMarkerColor\":1,\"fMarkerStyle\":20,\"fMarkerSize\":0.7,\"fTextAngle\":0,\"fTextSize\":0.05,\"fTextAlign\":11,\"fTextColor\":1,\"fTextFont\":42,\"fXaxis\":{\"_typename\":\"TAttAxis\",\"fNdivisions\":506,\"fAxisColor\":1,\"fLabelColor\":1,\"fLabelFont\":42,\"fLabelOffset\":0.015,\"fLabelSize\":0.06,\"fTickLength\":0.03,\"fTitleOffset\":1,\"fTitleSize\":0.07,\"fTitleColor\":1,\"fTitleFont\":42},\"fYaxis\":{\"_typename\":\"TAttAxis\",\"fNdivisions\":506,\"fAxisColor\":1,\"fLabelColor\":1,\"fLabelFont\":42,\"fLabelOffset\":0.015,\"fLabelSize\":0.06,\"fTickLength\":0.03,\"fTitleOffset\":1.1,\"fTitleSize\":0.07,\"fTitleColor\":1,\"fTitleFont\":42},\"fZaxis\":{\"_typename\":\"TAttAxis\",\"fNdivisions\":510,\"fAxisColor\":1,\"fLabelColor\":1,\"fLabelFont\":42,\"fLabelOffset\":0.015,\"fLabelSize\":0.06,\"fTickLength\":0.03,\"fTitleOffset\":1.1,\"fTitleSize\":0.07,\"fTitleColor\":1,\"fTitleFont\":42},\"fBarWidth\":1,\"fBarOffset\":0,\"fColorModelPS\":0,\"fDrawBorder\":0,\"fOptLogx\":0,\"fOptLogy\":0,\"fOptLogz\":0,\"fOptDate\":0,\"fOptStat\":0,\"fOptTitle\":1,\"fOptFile\":0,\"fOptFit\":0,\"fShowEventStatus\":0,\"fShowEditor\":0,\"fShowToolBar\":0,\"fNumberContours\":20,\"fAttDate\":{\"_typename\":\"TAttText\",\"fTextAngle\":0,\"fTextSize\":0.025,\"fTextAlign\":11,\"fTextColor\":1,\"fTextFont\":62},\"fDateX\":0.01,\"fDateY\":0.01,\"fEndErrorSize\":2,\"fErrorX\":0.5,\"fFuncColor\":632,\"fFuncStyle\":1,\"fFuncWidth\":2,\"fGridColor\":0,\"fGridStyle\":3,\"fGridWidth\":1,\"fLegendBorderSize\":0,\"fLegendFillColor\":0,\"fLegendFillStyle\":1001,\"fLegendFont\":62,\"fLegendTextSize\":0,\"fHatchesLineWidth\":1,\"fHatchesSpacing\":1,\"fFrameFillColor\":10,\"fFrameLineColor\":1,\"fFrameFillStyle\":1001,\"fFrameLineStyle\":1,\"fFrameLineWidth\":2,\"fFrameBorderSize\":1,\"fFrameBorderMode\":0,\"fHistFillColor\":0,\"fHistLineColor\":1,\"fHistFillStyle\":1001,\"fHistLineStyle\":1,\"fHistLineWidth\":2,\"fHistMinimumZero\":false,\"fHistTopMargin\":0.05,\"fCanvasPreferGL\":false,\"fCanvasColor\":10,\"fCanvasBorderSize\":2,\"fCanvasBorderMode\":0,\"fCanvasDefH\":500,\"fCanvasDefW\":700,\"fCanvasDefX\":10,\"fCanvasDefY\":10,\"fPadColor\":10,\"fPadBorderSize\":2,\"fPadBorderMode\":0,\"fPadBottomMargin\":0.17,\"fPadTopMargin\":0.08,\"fPadLeftMargin\":0.15,\"fPadRightMargin\":0.16,\"fPadGridX\":false,\"fPadGridY\":false,\"fPadTickX\":1,\"fPadTickY\":1,\"fPaperSizeX\":20,\"fPaperSizeY\":26,\"fScreenFactor\":1,\"fStatColor\":10,\"fStatTextColor\":1,\"fStatBorderSize\":0,\"fStatFont\":42,\"fStatFontSize\":0.07,\"fStatStyle\":1001,\"fStatFormat\":\"6.4g\",\"fStatX\":0.98,\"fStatY\":0.995,\"fStatW\":0.2,\"fStatH\":0.16,\"fStripDecimals\":true,\"fTitleAlign\":13,\"fTitleColor\":0,\"fTitleTextColor\":1,\"fTitleBorderSize\":0,\"fTitleFont\":62,\"fTitleFontSize\":0,\"fTitleStyle\":1001,\"fTitleX\":0.01,\"fTitleY\":0.995,\"fTitleW\":0,\"fTitleH\":0,\"fLegoInnerR\":0.5,\"fLineStyles\":[\"\",\"  \",\" 12 12\",\" 4 8\",\" 12 16 4 16\",\" 20 12 4 12\",\" 20 12 4 12 4 12 4 12\",\" 20 20\",\" 20 12 4 12 4 12\",\" 80 20\",\" 80 40 4 40\",\"  \",\"  \",\"  \",\"  \",\"  \",\"  \",\"  \",\"  \",\"  \",\"  \",\"  \",\"  \",\"  \",\"  \",\"  \",\"  \",\"  \",\"  \",\"  \"],\"fHeaderPS\":\"\",\"fTitlePS\":\"\",\"fFitFormat\":\"5.4g\",\"fPaintTextFormat\":\"g\",\"fLineScalePS\":3,\"fJoinLinePS\":0,\"fCapLinePS\":0,\"fTimeOffset\":788918400,\"fImageScaling\":1,\"fCandleWhiskerRange\":1,\"fCandleBoxRange\":0.5,\"fCandleScaled\":false,\"fViolinScaled\":true,\"fCandleCircleLineWidth\":1,\"fCandleCrossLineWidth\":1,\"fXAxisExpXOffset\":0,\"fXAxisExpYOffset\":0,\"fYAxisExpXOffset\":0,\"fYAxisExpYOffset\":0,\"fAxisMaxDigits\":5,\"fOrthoCamera\":false}},{\"_typename\":\"TWebSnapshot\",\"fUniqueID\":0,\"fBits\":0,\"fObjectID\":\"\",\"fOption\":\"\",\"fKind\":1,\"fSnapshot\":{\"_typename\":\"TFrame\",\"fUniqueID\":0,\"fBits\":8,\"fLineColor\":1,\"fLineStyle\":1,\"fLineWidth\":2,\"fFillColor\":10,\"fFillStyle\":1001,\"fX1\":-0.004,\"fY1\":0,\"fX2\":0.004,\"fY2\":2,\"fBorderSize\":1,\"fBorderMode\":0}},{\"_typename\":\"TWebSnapshot\",\"fUniqueID\":0,\"fBits\":0,\"fObjectID\":\"\",\"fOption\":\"FUNC\",\"fKind\":1,\"fSnapshot\":{\"_typename\":\"TH1D\",\"fUniqueID\":0,\"fBits\":520,\"fName\":\"frame_lz_ed9c0a0\",\"fTitle\":\"\",\"fLineColor\":1,\"fLineStyle\":1,\"fLineWidth\":2,\"fFillColor\":0,\"fFillStyle\":1001,\"fMarkerColor\":1,\"fMarkerStyle\":20,\"fMarkerSize\":0.7,\"fNcells\":102,\"fXaxis\":{\"_typename\":\"TAxis\",\"fUniqueID\":0,\"fBits\":0,\"fName\":\"xaxis\",\"fTitle\":\"lz\",\"fNdivisions\":506,\"fAxisColor\":1,\"fLabelColor\":1,\"fLabelFont\":42,\"fLabelOffset\":0.015,\"fLabelSize\":0.06,\"fTickLength\":0.03,\"fTitleOffset\":1,\"fTitleSize\":0.07,\"fTitleColor\":1,\"fTitleFont\":42,\"fNbins\":100,\"fXmin\":-0.004,\"fXmax\":0.004,\"fXbins\":[],\"fFirst\":0,\"fLast\":0,\"fBits2\":0,\"fTimeDisplay\":false,\"fTimeFormat\":\"\",\"fLabels\":null,\"fModLabs\":null},\"fYaxis\":{\"_typename\":\"TAxis\",\"fUniqueID\":0,\"fBits\":0,\"fName\":\"yaxis\",\"fTitle\":\"#Delta NLL\",\"fNdivisions\":506,\"fAxisColor\":1,\"fLabelColor\":1,\"fLabelFont\":42,\"fLabelOffset\":0.015,\"fLabelSize\":0.06,\"fTickLength\":0.03,\"fTitleOffset\":1.1,\"fTitleSize\":0.07,\"fTitleColor\":1,\"fTitleFont\":42,\"fNbins\":1,\"fXmin\":0,\"fXmax\":1,\"fXbins\":[],\"fFirst\":0,\"fLast\":0,\"fBits2\":0,\"fTimeDisplay\":false,\"fTimeFormat\":\"\",\"fLabels\":null,\"fModLabs\":null},\"fZaxis\":{\"_typename\":\"TAxis\",\"fUniqueID\":0,\"fBits\":0,\"fName\":\"zaxis\",\"fTitle\":\"\",\"fNdivisions\":510,\"fAxisColor\":1,\"fLabelColor\":1,\"fLabelFont\":42,\"fLabelOffset\":0.015,\"fLabelSize\":0.06,\"fTickLength\":0.03,\"fTitleOffset\":1.1,\"fTitleSize\":0.07,\"fTitleColor\":1,\"fTitleFont\":42,\"fNbins\":1,\"fXmin\":0,\"fXmax\":1,\"fXbins\":[],\"fFirst\":0,\"fLast\":0,\"fBits2\":0,\"fTimeDisplay\":false,\"fTimeFormat\":\"\",\"fLabels\":null,\"fModLabs\":null},\"fBarOffset\":0,\"fBarWidth\":1000,\"fEntries\":1,\"fTsumw\":0,\"fTsumw2\":0,\"fTsumwx\":0,\"fTsumwx2\":0,\"fMaximum\":2,\"fMinimum\":0,\"fNormFactor\":0,\"fContour\":[],\"fSumw2\":[],\"fOption\":\"\",\"fFunctions\":{\"_typename\":\"TList\",\"name\":\"TList\",\"arr\":[],\"opt\":[]},\"fBufferSize\":0,\"fBuffer\":[],\"fBinStatErrOpt\":0,\"fStatOverflows\":2,\"fArray\":{\"$arr\":\"Float64\",\"len\":102,\"p\":1,\"v\":18.1251091660861}}},{\"_typename\":\"TWebSnapshot\",\"fUniqueID\":0,\"fBits\":0,\"fObjectID\":\"\",\"fOption\":\"l\",\"fKind\":1,\"fSnapshot\":{\"_typename\":\"RooCurve\",\"fUniqueID\":0,\"fBits\":525320,\"fName\":\"RooEvaluatorWrapper_Norm[lz]\",\"fTitle\":\"Projection of RooEvaluatorWrapper\",\"fLineColor\":600,\"fLineStyle\":1,\"fLineWidth\":3,\"fFillColor\":0,\"fFillStyle\":1000,\"fMarkerColor\":1,\"fMarkerStyle\":20,\"fMarkerSize\":0.7,\"fNpoints\":106,\"fX\":{\"$arr\":\"Float64\",\"len\":106,\"v\":[-0.00408008,-0.00408,-0.004,-0.00392,-0.00384,-0.00376,-0.00368,-0.0036,-0.00352,-0.00344,-0.00336,-0.00328,-0.0032,-0.00312,-0.00304,-0.00296,-0.00288,-0.0028,-0.00272,-0.00264,-0.00256,-0.00248,-0.0024,-0.00232,-0.00224,-0.00216,-0.00208,-0.002,-0.00192,-0.00184,-0.00176,-0.00168,-0.0016,-0.00152,-0.00144,-0.00136,-0.00128,-0.0012,-0.00112,-0.00104,-9.6e-4,-8.8e-4,-8e-4,-7.2e-4,-6.4e-4,-5.6e-4,-4.8e-4,-4e-4,-3.2e-4,-2.4e-4,-1.6e-4,-7.99999999999993e-5,0,8.00000000000002e-5,1.6e-4,2.40000000000001e-4,3.2e-4,4e-4,4.8e-4,5.60000000000001e-4,6.4e-4,7.2e-4,8e-4,8.80000000000001e-4,9.6e-4,0.00104,0.00112,0.0012,0.00128,0.00136,0.00144,0.00152,0.0016,0.00168,0.00176,0.00184,0.00192,0.002,0.00208,0.00216,0.00224,0.00232,0.0024,0.00248,0.00256,0.00264,0.00272,0.0028,0.00288,0.00296,0.00304,0.00312,0.0032,0.00328,0.00336,0.00344,0.00352,0.0036,0.00368,0.00376,0.00384,0.00392,0.004,0.004,0.00408,0.00408008]},\"fY\":{\"$arr\":\"Float64\",\"len\":106,\"p\":1,\"v\":[17.2620087296058,17.2620087296058,16.5784331839134,15.9086672452047,15.2527109134797,14.6105641887383,13.9822270709807,13.3676995602067,12.7669816564164,12.1800733596098,11.6069746697869,11.0476855869477,10.5022061110922,9.97053624222028,9.45267598033212,8.94862532542765,8.45838427750683,7.98195283656971,7.51933100261626,7.07051877564653,6.63551615566047,6.21432314265808,5.80693973663938,5.41336593760436,5.03360174555305,4.66764716048541,4.31550218240145,3.97716681130117,3.65264104718457,3.34192489005168,3.04501833990247,2.76192139673692,2.49263406055507,2.23715633135691,1.99548820914243,1.76762969391163,1.55358078566452,1.3533414844011,1.16691179012135,0.994291702825294,0.835481222512918,0.690480349184231,0.559289082839232,0.441907423477907,0.338335371100275,0.248572925706323,0.17262008729606,0.110476855869479,0.0621432314265817,0.0276192139673697,0.00690480349184242,0,0.00690480349184242,0.0276192139673697,0.0621432314265817,0.110476855869479,0.17262008729606,0.248572925706323,0.338335371100275,0.441907423477907,0.559289082839229,0.690480349184231,0.835481222512922,0.994291702825251,1.16691179012135,1.35334148440109,1.55358078566452,1.76762969391163,1.99548820914243,2.23715633135691,2.49263406055507,2.76192139673692,3.04501833990246,3.34192489005168,3.65264104718458,3.97716681130117,4.31550218240145,4.6676471604854,5.03360174555305,5.41336593760437,5.80693973663938,6.21432314265808,6.63551615566046,7.07051877564652,7.51933100261628,7.98195283656971,8.45838427750683,8.94862532542776,9.45267598033212,9.9705362422203,10.5022061110922,11.0476855869477,11.6069746697869,12.1800733596098,12.7669816564164,13.3676995602067,13.9822270709807,14.6105641887383,15.2527109134797,15.9086672452047,16.5784331839134,17.2620087289153,17.2620087289153,17.2620087289153]},\"fFunctions\":{\"_typename\":\"TList\",\"name\":\"TList\",\"arr\":[],\"opt\":[]},\"fHistogram\":{\"_typename\":\"TH1F\",\"fUniqueID\":0,\"fBits\":512,\"fName\":\"RooEvaluatorWrapper_Norm[lz]\",\"fTitle\":\"Projection of RooEvaluatorWrapper\",\"fLineColor\":1,\"fLineStyle\":1,\"fLineWidth\":2,\"fFillColor\":0,\"fFillStyle\":1001,\"fMarkerColor\":1,\"fMarkerStyle\":20,\"fMarkerSize\":0.7,\"fNcells\":108,\"fXaxis\":{\"_typename\":\"TAxis\",\"fUniqueID\":0,\"fBits\":0,\"fName\":\"xaxis\",\"fTitle\":\"\",\"fNdivisions\":506,\"fAxisColor\":1,\"fLabelColor\":1,\"fLabelFont\":42,\"fLabelOffset\":0.015,\"fLabelSize\":0.06,\"fTickLength\":0.03,\"fTitleOffset\":1,\"fTitleSize\":0.07,\"fTitleColor\":1,\"fTitleFont\":42,\"fNbins\":106,\"fXmin\":-0.004896096,\"fXmax\":0.004896096,\"fXbins\":[],\"fFirst\":0,\"fLast\":0,\"fBits2\":0,\"fTimeDisplay\":false,\"fTimeFormat\":\"\",\"fLabels\":null,\"fModLabs\":null},\"fYaxis\":{\"_typename\":\"TAxis\",\"fUniqueID\":0,\"fBits\":0,\"fName\":\"yaxis\",\"fTitle\":\"\",\"fNdivisions\":506,\"fAxisColor\":1,\"fLabelColor\":1,\"fLabelFont\":42,\"fLabelOffset\":0.015,\"fLabelSize\":0.06,\"fTickLength\":0.03,\"fTitleOffset\":1.1,\"fTitleSize\":0.07,\"fTitleColor\":1,\"fTitleFont\":42,\"fNbins\":1,\"fXmin\":0,\"fXmax\":18.9882096025664,\"fXbins\":[],\"fFirst\":0,\"fLast\":0,\"fBits2\":0,\"fTimeDisplay\":false,\"fTimeFormat\":\"\",\"fLabels\":null,\"fModLabs\":null},\"fZaxis\":{\"_typename\":\"TAxis\",\"fUniqueID\":0,\"fBits\":0,\"fName\":\"zaxis\",\"fTitle\":\"\",\"fNdivisions\":510,\"fAxisColor\":1,\"fLabelColor\":1,\"fLabelFont\":42,\"fLabelOffset\":0.015,\"fLabelSize\":0.06,\"fTickLength\":0.03,\"fTitleOffset\":1.1,\"fTitleSize\":0.07,\"fTitleColor\":1,\"fTitleFont\":42,\"fNbins\":1,\"fXmin\":0,\"fXmax\":1,\"fXbins\":[],\"fFirst\":0,\"fLast\":0,\"fBits2\":0,\"fTimeDisplay\":false,\"fTimeFormat\":\"\",\"fLabels\":null,\"fModLabs\":null},\"fBarOffset\":0,\"fBarWidth\":1000,\"fEntries\":0,\"fTsumw\":0,\"fTsumw2\":0,\"fTsumwx\":0,\"fTsumwx2\":0,\"fMaximum\":18.9882096025664,\"fMinimum\":0,\"fNormFactor\":0,\"fContour\":[],\"fSumw2\":[],\"fOption\":\"\",\"fFunctions\":{\"_typename\":\"TList\",\"name\":\"TList\",\"arr\":[],\"opt\":[]},\"fBufferSize\":0,\"fBuffer\":[],\"fBinStatErrOpt\":0,\"fStatOverflows\":2,\"fArray\":{\"$arr\":\"Float32\",\"len\":108}},\"fMinimum\":-1111,\"fMaximum\":-1111,\"fOption\":\"\",\"_yAxisLabel\":\"Projection of RooEvaluatorWrapper\",\"_ymin\":0,\"_ymax\":17.2620087296058,\"_normValue\":0}},{\"_typename\":\"TWebSnapshot\",\"fUniqueID\":0,\"fBits\":0,\"fObjectID\":\"\",\"fOption\":\"l\",\"fKind\":1,\"fSnapshot\":{\"_typename\":\"RooCurve\",\"fUniqueID\":0,\"fBits\":525320,\"fName\":\"RooEvaluatorWrapper_Profile[lz]_Norm[lz]\",\"fTitle\":\"Projection of Profile of RooEvaluatorWrapper\",\"fLineColor\":632,\"fLineStyle\":1,\"fLineWidth\":3,\"fFillColor\":0,\"fFillStyle\":1000,\"fMarkerColor\":1,\"fMarkerStyle\":20,\"fMarkerSize\":0.7,\"fNpoints\":106,\"fX\":{\"$arr\":\"Float64\",\"len\":106,\"v\":[-0.00408008,-0.00408,-0.004,-0.00392,-0.00384,-0.00376,-0.00368,-0.0036,-0.00352,-0.00344,-0.00336,-0.00328,-0.0032,-0.00312,-0.00304,-0.00296,-0.00288,-0.0028,-0.00272,-0.00264,-0.00256,-0.00248,-0.0024,-0.00232,-0.00224,-0.00216,-0.00208,-0.002,-0.00192,-0.00184,-0.00176,-0.00168,-0.0016,-0.00152,-0.00144,-0.00136,-0.00128,-0.0012,-0.00112,-0.00104,-9.6e-4,-8.8e-4,-8e-4,-7.2e-4,-6.4e-4,-5.6e-4,-4.8e-4,-4e-4,-3.2e-4,-2.4e-4,-1.6e-4,-7.99999999999993e-5,0,8.00000000000002e-5,1.6e-4,2.40000000000001e-4,3.2e-4,4e-4,4.8e-4,5.60000000000001e-4,6.4e-4,7.2e-4,8e-4,8.80000000000001e-4,9.6e-4,0.00104,0.00112,0.0012,0.00128,0.00136,0.00144,0.00152,0.0016,0.00168,0.00176,0.00184,0.00192,0.002,0.00208,0.00216,0.00224,0.00232,0.0024,0.00248,0.00256,0.00264,0.00272,0.0028,0.00288,0.00296,0.00304,0.00312,0.0032,0.00328,0.00336,0.00344,0.00352,0.0036,0.00368,0.00376,0.00384,0.00392,0.004,0.004,0.00408,0.00408008]},\"fY\":{\"$arr\":\"Float64\",\"len\":106,\"p\":1,\"v\":[7.9183490047591,7.9183490047591,7.60506816663272,7.29755046481069,6.99694032327164,6.70209061823708,6.41414979164677,6.13196948994359,5.8566980232484,5.58718707841661,5.32458497009416,5.06774338370647,4.81781063380271,4.57363840581127,4.33637501432761,4.10487214473125,3.88027811166672,3.66144460046636,3.44951992583016,3.24335577301667,3.04410045679659,2.85060566238203,2.66401970458257,2.48319426856266,2.30927766918586,2.14112159155824,1.97987435059524,1.82438763136904,1.67580974883755,1.53299238799489,1.39708386387946,1.26693586143602,1.1436966957418,1.02621805169214,0.915648244424133,0.810838958763448,0.712938509909574,0.620798582649819,0.535567492220636,0.456096923351364,0.383535191341842,0.316733980868037,0.256841607280144,0.202709755199862,0.155486740032678,0.114024246346737,0.0794705895991648,0.0506774543087936,0.028793155983351,0.012669379085974,0.00345443918145349,2.06782715395093e-8,0.00345443919479749,0.0126693790856969,0.0287931560231236,0.0506774543082464,0.0794705896665775,0.114024246345938,0.155486740125646,0.202709755198729,0.256841607397188,0.316733980866662,0.383535191487478,0.456096923349769,0.535567492389436,0.620798582647922,0.712938510111574,0.810838958761238,0.915648244644238,1.02621805168965,1.14369669599899,1.26693586143324,1.39708386415822,1.53299238799194,1.67580974913816,1.82438763136577,1.97987435094169,2.14112159155478,2.30927766955109,2.48319426855884,2.66401970497212,2.85060566237794,3.04410045720131,3.24335577301227,3.44951992626783,3.6614446004618,3.88027811213964,4.10487214472643,4.33637501482539,4.57363840580613,4.81781063432856,5.06774338370084,5.32458497063805,5.5871870784109,5.85669802376622,6.13196948993594,6.41414979371842,6.70209061827617,6.99694028048119,7.29755046343149,7.60506948406097,7.91834902508535,7.91834902508535,7.91834902508535]},\"fFunctions\":{\"_typename\":\"TList\",\"name\":\"TList\",\"arr\":[],\"opt\":[]},\"fHistogram\":{\"_typename\":\"TH1F\",\"fUniqueID\":0,\"fBits\":512,\"fName\":\"RooEvaluatorWrapper_Profile[lz]_Norm[lz]\",\"fTitle\":\"Projection of Profile of RooEvaluatorWrapper\",\"fLineColor\":1,\"fLineStyle\":1,\"fLineWidth\":2,\"fFillColor\":0,\"fFillStyle\":1001,\"fMarkerColor\":1,\"fMarkerStyle\":20,\"fMarkerSize\":0.7,\"fNcells\":108,\"fXaxis\":{\"_typename\":\"TAxis\",\"fUniqueID\":0,\"fBits\":0,\"fName\":\"xaxis\",\"fTitle\":\"\",\"fNdivisions\":506,\"fAxisColor\":1,\"fLabelColor\":1,\"fLabelFont\":42,\"fLabelOffset\":0.015,\"fLabelSize\":0.06,\"fTickLength\":0.03,\"fTitleOffset\":1,\"fTitleSize\":0.07,\"fTitleColor\":1,\"fTitleFont\":42,\"fNbins\":106,\"fXmin\":-0.004896096,\"fXmax\":0.004896096,\"fXbins\":[],\"fFirst\":0,\"fLast\":0,\"fBits2\":0,\"fTimeDisplay\":false,\"fTimeFormat\":\"\",\"fLabels\":null,\"fModLabs\":null},\"fYaxis\":{\"_typename\":\"TAxis\",\"fUniqueID\":0,\"fBits\":0,\"fName\":\"yaxis\",\"fTitle\":\"\",\"fNdivisions\":506,\"fAxisColor\":1,\"fLabelColor\":1,\"fLabelFont\":42,\"fLabelOffset\":0.015,\"fLabelSize\":0.06,\"fTickLength\":0.03,\"fTitleOffset\":1.1,\"fTitleSize\":0.07,\"fTitleColor\":1,\"fTitleFont\":42,\"fNbins\":1,\"fXmin\":0,\"fXmax\":8.71018392759389,\"fXbins\":[],\"fFirst\":0,\"fLast\":0,\"fBits2\":0,\"fTimeDisplay\":false,\"fTimeFormat\":\"\",\"fLabels\":null,\"fModLabs\":null},\"fZaxis\":{\"_typename\":\"TAxis\",\"fUniqueID\":0,\"fBits\":0,\"fName\":\"zaxis\",\"fTitle\":\"\",\"fNdivisions\":510,\"fAxisColor\":1,\"fLabelColor\":1,\"fLabelFont\":42,\"fLabelOffset\":0.015,\"fLabelSize\":0.06,\"fTickLength\":0.03,\"fTitleOffset\":1.1,\"fTitleSize\":0.07,\"fTitleColor\":1,\"fTitleFont\":42,\"fNbins\":1,\"fXmin\":0,\"fXmax\":1,\"fXbins\":[],\"fFirst\":0,\"fLast\":0,\"fBits2\":0,\"fTimeDisplay\":false,\"fTimeFormat\":\"\",\"fLabels\":null,\"fModLabs\":null},\"fBarOffset\":0,\"fBarWidth\":1000,\"fEntries\":0,\"fTsumw\":0,\"fTsumw2\":0,\"fTsumwx\":0,\"fTsumwx2\":0,\"fMaximum\":8.71018392759389,\"fMinimum\":0,\"fNormFactor\":0,\"fContour\":[],\"fSumw2\":[],\"fOption\":\"\",\"fFunctions\":{\"_typename\":\"TList\",\"name\":\"TList\",\"arr\":[],\"opt\":[]},\"fBufferSize\":0,\"fBuffer\":[],\"fBinStatErrOpt\":0,\"fStatOverflows\":2,\"fArray\":{\"$arr\":\"Float32\",\"len\":108}},\"fMinimum\":-1111,\"fMaximum\":-1111,\"fOption\":\"\",\"_yAxisLabel\":\"Projection of Profile of RooEvaluatorWrapper\",\"_ymin\":0,\"_ymax\":7.91834902508535,\"_normValue\":0}},{\"_typename\":\"TWebSnapshot\",\"fUniqueID\":0,\"fBits\":0,\"fObjectID\":\"\",\"fOption\":\"AXISSAME\",\"fKind\":1,\"fSnapshot\":{\"$ref\":15}}],\"fScripts\":\"\",\"fHighlightConnect\":false,\"fFixedSize\":false});\n",
       "   Core.settings.HandleKeys = false;\n",
       "   Core.draw(\"root_plot_1759851523405\", obj, \"\");\n",
       "}\n",
       "\n",
       "function script_load_root_plot_1759851523405(src, on_error) {\n",
       "    let script = document.createElement('script');\n",
       "    script.src = src;\n",
       "    script.onload = function() { display_root_plot_1759851523405(JSROOT); };\n",
       "    script.onerror = function() { script.remove(); on_error(); };\n",
       "    document.head.appendChild(script);\n",
       "}\n",
       "\n",
       "if (typeof requirejs !== 'undefined') {\n",
       "\n",
       "    // We are in jupyter notebooks, use require.js which should be configured already\n",
       "    requirejs.config({\n",
       "       paths: { 'JSRootCore' : [ 'build/jsroot', 'https://root.cern/js/7.9.0/build/jsroot', 'https://jsroot.gsi.de/7.9.0/build/jsroot' ] }\n",
       "    })(['JSRootCore'],  function(Core) {\n",
       "       display_root_plot_1759851523405(Core);\n",
       "    });\n",
       "\n",
       "} else if (typeof JSROOT !== 'undefined') {\n",
       "\n",
       "   // JSROOT already loaded, just use it\n",
       "   display_root_plot_1759851523405(JSROOT);\n",
       "\n",
       "} else {\n",
       "\n",
       "    // We are in jupyterlab without require.js, directly loading jsroot\n",
       "    // Jupyterlab might be installed in a different base_url so we need to know it.\n",
       "    try {\n",
       "        var base_url = JSON.parse(document.getElementById('jupyter-config-data').innerHTML).baseUrl;\n",
       "    } catch(_) {\n",
       "        var base_url = '/';\n",
       "    }\n",
       "\n",
       "    // Try loading a local version of requirejs and fallback to cdn if not possible.\n",
       "    script_load_root_plot_1759851523405(base_url + 'static/build/jsroot.js', function(){\n",
       "        console.error('Fail to load JSROOT locally, please check your jupyter_notebook_config.py file');\n",
       "        script_load_root_plot_1759851523405('https://root.cern/js/7.9.0/build/jsroot.js', function(){\n",
       "            document.getElementById(\"root_plot_1759851523405\").innerHTML = \"Failed to load JSROOT\";\n",
       "        });\n",
       "    });\n",
       "}\n",
       "\n",
       "</script>\n"
      ],
      "text/plain": [
       "<IPython.core.display.HTML object>"
      ]
     },
     "metadata": {},
     "output_type": "display_data"
    }
   ],
   "source": [
    "c0 = ROOT.TCanvas()\n",
    "frame0.SetMinimum(0)\n",
    "frame0.SetMaximum(2)\n",
    "frame0.Draw()\n",
    "c0.Draw()\n",
    "# c0.SaveAs(\"plots/fit/ll_pll.pdf(\")\n",
    "# c0.SaveAs(\"plots/fit/ll_pll_g1z.pdf\")\n",
    "\n",
    "c1 = ROOT.TCanvas()\n",
    "frame1.SetMinimum(0)\n",
    "frame1.SetMaximum(2)\n",
    "frame1.Draw()\n",
    "c1.Draw()\n",
    "# c1.SaveAs(\"plots/fit/ll_pll.pdf\")\n",
    "# c1.SaveAs(\"plots/fit/ll_pll_ka.pdf\")\n",
    "\n",
    "c2 = ROOT.TCanvas()\n",
    "frame2.SetMinimum(0)\n",
    "frame2.SetMaximum(2)\n",
    "frame2.Draw()\n",
    "c2.Draw()\n",
    "# c2.SaveAs(\"plots/fit/ll_pll.pdf)\")\n",
    "# c2.SaveAs(\"plots/fit/ll_pll_la.pdf\")"
   ]
  },
  {
   "cell_type": "code",
   "execution_count": null,
   "id": "2bb850a1",
   "metadata": {},
   "outputs": [],
   "source": []
  }
 ],
 "metadata": {
  "kernelspec": {
   "display_name": "Python 3",
   "language": "python",
   "name": "python3"
  },
  "language_info": {
   "codemirror_mode": {
    "name": "ipython",
    "version": 3
   },
   "file_extension": ".py",
   "mimetype": "text/x-python",
   "name": "python",
   "nbconvert_exporter": "python",
   "pygments_lexer": "ipython3",
   "version": "3.13.5"
  }
 },
 "nbformat": 4,
 "nbformat_minor": 5
}
