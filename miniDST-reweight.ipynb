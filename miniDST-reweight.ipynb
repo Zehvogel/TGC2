{
 "cells": [
  {
   "cell_type": "code",
   "execution_count": 1,
   "metadata": {},
   "outputs": [],
   "source": [
    "# workaround for incredibly stupid vscode on snap bug\n",
    "from os import environ\n",
    "krb5ccname = environ[\"KRB5CCNAME\"]\n",
    "if \"hostfs\" in krb5ccname:\n",
    "    krb5ccname = krb5ccname.replace(\"/var/lib/snapd/hostfs\", \"\")\n",
    "    environ[\"KRB5CCNAME\"] = krb5ccname"
   ]
  },
  {
   "cell_type": "code",
   "execution_count": 2,
   "metadata": {},
   "outputs": [
    {
     "name": "stdout",
     "output_type": "stream",
     "text": [
      "OBJ: TStyle\tildStyle\tILD Style : 0 at: 0x9760e40\n"
     ]
    }
   ],
   "source": [
    "import ROOT\n",
    "from analysis_framework import Dataset\n",
    "from ReweightingHelper import ReweightingHelper\n",
    "from AltSetupHandler import AltSetupHandler"
   ]
  },
  {
   "cell_type": "code",
   "execution_count": 3,
   "metadata": {
    "tags": [
     "parameters"
    ]
   },
   "outputs": [],
   "source": [
    "# CLD\n",
    "# x_angle = 0.030 # rad\n",
    "# ILD\n",
    "x_angle = 0.014 # rad\n",
    "n_threads = 12\n",
    "prod = False\n",
    "# prod = True\n",
    "no_rvec = True\n",
    "write_outputs = False\n",
    "# write_outputs = True\n",
    "# plot_dir_postfix = \"-new-cuts\"\n",
    "dataset_path = \"data/datasets/selected-objects/test.json\"\n",
    "# output_path = \"root://eosuser.cern.ch//eos/user/l/lreichen/TGC2/data/selected-objects/test\"\n",
    "# output_meta_path = \"data/datasets/selected-objects\"\n",
    "# output_meta = f\"{output_meta_path}/test.json\"\n",
    "# checked_output_meta = f\"{output_meta_path}/checked-test.json\"\n",
    "# output_collections = [\n",
    "#     \"true_lep_lvec\", \"true_nu_lvec\", \"true_quark1_lvec\", \"true_quark2_lvec\",\n",
    "#     \"iso_lep_lvec\", \"nu_lvec\", \"R2Jet_sel1_lvec\", \"R2Jet_sel2_lvec\",\n",
    "#     ]\n",
    "# true lvecs do not exist in every df so cannot be explicitly requested...\n",
    "# urgh but empty snapshots are also not allowed\n",
    "output_collections = r\"(true_\\w+_lvec)|(iso_lep_lvec)|(nu_lvec)|(R2Jet_sel1_lvec)|(R2Jet_sel2_lvec)\"\n",
    "# plot_dir = f\"plots/pre-selection/test{plot_dir_postfix}\"\n",
    "if prod:\n",
    "    # dataset_path = \"data/datasets/miniDSTs/processed-no-exc-higgs.json\"\n",
    "    # dataset_path = \"data/datasets/miniDSTs/processed-no-exc-higgs-min-aa-min-higgs.json\"\n",
    "    # dataset_path = \"data/datasets/miniDSTs/min-higgs.json\"\n",
    "    dataset_path = \"data/datasets/selected-objects/signal-only.json\"\n",
    "    # output_path = \"root://eospublic.cern.ch//eos/experiment/clicdp/data/user/l/lreichen/snapshots3/min-higgs-d\"\n",
    "    # output_path = \"root://eosuser.cern.ch//eos/user/l/lreichen/TGC2/data/selected-objects/signal-only\"\n",
    "    # output_meta_path = \"data/datasets/selected-objects\"\n",
    "    # output_meta = f\"{output_meta_path}/signal-only.json\"\n",
    "    # checked_output_meta = f\"{output_meta_path}/checked-signal-only.json\"\n",
    "    # plot_dir = \"plots/pre-selection/full\"\n",
    "    # plot_dir = f\"plots/pre-selection/min-higgs{plot_dir_postfix}\"\n"
   ]
  },
  {
   "cell_type": "code",
   "execution_count": 4,
   "metadata": {},
   "outputs": [],
   "source": [
    "# ROOT.EnableImplicitMT(n_threads)"
   ]
  },
  {
   "cell_type": "code",
   "execution_count": 5,
   "metadata": {},
   "outputs": [],
   "source": [
    "dataset = Dataset.from_json(dataset_path)"
   ]
  },
  {
   "cell_type": "code",
   "execution_count": 6,
   "metadata": {},
   "outputs": [
    {
     "name": "stdout",
     "output_type": "stream",
     "text": [
      "OBJ: TStyle\tildStyle\tILD Style : 0 at: 0xd80e000\n"
     ]
    }
   ],
   "source": [
    "analysis = ReweightingHelper(dataset)"
   ]
  },
  {
   "cell_type": "code",
   "execution_count": 7,
   "metadata": {},
   "outputs": [
    {
     "name": "stdout",
     "output_type": "stream",
     "text": [
      "{'g1z_pos_1em03': {'g1z': 1.001, 'ka': 1.0, 'la': 0.0}, 'ka_pos_1em03': {'g1z': 1.0, 'ka': 1.001, 'la': 0.0}, 'la_pos_1em03': {'g1z': 1.0, 'ka': 1.0, 'la': 0.001}, 'g1z_pos_1em04': {'g1z': 1.0001, 'ka': 1.0, 'la': 0.0}, 'ka_pos_1em04': {'g1z': 1.0, 'ka': 1.0001, 'la': 0.0}, 'la_pos_1em04': {'g1z': 1.0, 'ka': 1.0, 'la': 0.0001}, 'g1z_pos_1em08': {'g1z': 1.00000001, 'ka': 1.0, 'la': 0.0}, 'ka_pos_1em08': {'g1z': 1.0, 'ka': 1.00000001, 'la': 0.0}, 'la_pos_1em08': {'g1z': 1.0, 'ka': 1.0, 'la': 1e-08}}\n"
     ]
    }
   ],
   "source": [
    "alt_setup_handler = AltSetupHandler(\"\"\"\n",
    "{\n",
    "  \"SM\": {\n",
    "    \"g1z\": 1.0,\n",
    "    \"ka\": 1.0,\n",
    "    \"la\": 0.0\n",
    "  },\n",
    "\"variations\": [\n",
    "    0.001,\n",
    "    0.0001,\n",
    "    1e-08\n",
    "  ]\n",
    "}\n",
    "\"\"\", mirror=False, combinations=False)\n",
    "alt_configs = alt_setup_handler.get_alt_setup()\n",
    "print(alt_configs)\n",
    "analysis.initialise_omega_wrappers(alt_configs)"
   ]
  },
  {
   "cell_type": "code",
   "execution_count": 8,
   "metadata": {},
   "outputs": [
    {
     "name": "stdout",
     "output_type": "stream",
     "text": [
      "True\n"
     ]
    }
   ],
   "source": [
    "analysis.init_categories()\n",
    "# check if we missed any processes\n",
    "print(analysis.is_complete_categorisation())\n",
    "signal_category = [\"4f_sw_sl_signal\"]"
   ]
  },
  {
   "cell_type": "code",
   "execution_count": 9,
   "metadata": {},
   "outputs": [],
   "source": [
    "analysis.book_weights(signal_category,\n",
    "                      [\n",
    "                          \"true_beam_e_lvec\",\n",
    "                          \"true_beam_p_lvec\",\n",
    "                          \"true_lep_lvec\",\n",
    "                          \"true_nu_lvec\",\n",
    "                          \"true_quark1_lvec\",\n",
    "                          \"true_quark2_lvec\"\n",
    "                      ]\n",
    "                     )"
   ]
  },
  {
   "cell_type": "code",
   "execution_count": 10,
   "metadata": {},
   "outputs": [],
   "source": [
    "if write_outputs:\n",
    "    analysis.book_snapshots(\"events\", output_path, output_meta, output_collections, no_rvec=no_rvec)"
   ]
  },
  {
   "cell_type": "code",
   "execution_count": 11,
   "metadata": {},
   "outputs": [
    {
     "name": "stdout",
     "output_type": "stream",
     "text": [
      "CPU times: user 74 ms, sys: 1.81 ms, total: 75.8 ms\n",
      "Wall time: 77.5 ms\n"
     ]
    },
    {
     "name": "stderr",
     "output_type": "stream",
     "text": [
      "Warning in <RunGraphs>: Got an empty list of handles, now quitting.\n"
     ]
    }
   ],
   "source": [
    "%%time\n",
    "analysis.run()"
   ]
  },
  {
   "cell_type": "code",
   "execution_count": 12,
   "metadata": {},
   "outputs": [],
   "source": [
    "# if write_outputs:\n",
    "    # analysis.check_snapshots(\"events\", output_path, checked_output_meta)"
   ]
  },
  {
   "cell_type": "code",
   "execution_count": null,
   "metadata": {},
   "outputs": [],
   "source": []
  }
 ],
 "metadata": {
  "kernelspec": {
   "display_name": "Python 3",
   "language": "python",
   "name": "python3"
  },
  "language_info": {
   "codemirror_mode": {
    "name": "ipython",
    "version": 3
   },
   "file_extension": ".py",
   "mimetype": "text/x-python",
   "name": "python",
   "nbconvert_exporter": "python",
   "pygments_lexer": "ipython3",
   "version": "3.13.5"
  }
 },
 "nbformat": 4,
 "nbformat_minor": 4
}
