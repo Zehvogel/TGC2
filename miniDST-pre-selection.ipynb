{
 "cells": [
  {
   "cell_type": "code",
   "execution_count": 1,
   "metadata": {},
   "outputs": [],
   "source": [
    "import ROOT\n",
    "from analysis_framework import Dataset, Analysis"
   ]
  },
  {
   "cell_type": "code",
   "execution_count": 2,
   "metadata": {
    "tags": [
     "parameters"
    ]
   },
   "outputs": [],
   "source": [
    "# CLD\n",
    "# x_angle = 0.030 # rad\n",
    "# ILD\n",
    "x_angle = 0.014 # rad\n",
    "n_threads = 12\n",
    "# prod = False\n",
    "prod = True\n",
    "no_rvec = True\n",
    "dataset_path = \"data/datasets/miniDSTs/processed-test.json\"\n",
    "output_path = \"root://eosproject.cern.ch//eos/experiment/clicdp/data/user/l/lreichen/snapshots3/test\"\n",
    "output_meta = \"test.json\"\n",
    "checked_output_meta = \"checked-test.json\"\n",
    "output_collections = r\"^(?!R2jet_lvecs)\\w+$\" # [\"PandoraPFOs\"]\n",
    "plot_dir = \"plots/pre-selection/test\"\n",
    "if prod:\n",
    "    dataset_path = \"data/datasets/miniDSTs/processed-no-exc-higgs.json\"\n",
    "    output_path = \"root://eosproject.cern.ch//eos/experiment/clicdp/data/user/l/lreichen/snapshots3/full\"\n",
    "    output_meta = \"full.json\"\n",
    "    checked_output_meta = \"checked-full.json\"\n",
    "    output_collections = r\"^(?!R2jet_lvecs)\\w+$\"\n",
    "    plot_dir = \"plots/pre-selection/full\"\n"
   ]
  },
  {
   "cell_type": "code",
   "execution_count": 3,
   "metadata": {},
   "outputs": [],
   "source": [
    "# ROOT.gInterpreter.GenerateDictionary(\"ROOT::RVec<ROOT::Math::PxPyPzEVector>\", \"Math/Vector4D.h;ROOT/RVec.hxx\")"
   ]
  },
  {
   "cell_type": "code",
   "execution_count": 4,
   "metadata": {},
   "outputs": [],
   "source": [
    "ROOT.EnableImplicitMT(n_threads)"
   ]
  },
  {
   "cell_type": "code",
   "execution_count": 5,
   "metadata": {},
   "outputs": [],
   "source": [
    "dataset = Dataset.from_json(dataset_path)"
   ]
  },
  {
   "cell_type": "code",
   "execution_count": 6,
   "metadata": {},
   "outputs": [
    {
     "ename": "TypeError",
     "evalue": "none of the 10 overloaded methods succeeded. Full details:\n  RDataFrame::RDataFrame(string_view treename, initializer_list<string> filenames, const ROOT::RDataFrame::ColumnNames_t& defaultColumns = {}) =>\n    invalid_argument: RDataFrame: could not open file \"/eos/experiment/clicdp/data/user/l/lreichen/miniDST/2f/2f_eehiq/l5_o1/rv02-02.sv02-02.mILD_l5_o1_v02.E250-SetA.I500003.P2f_z_eehiq.eR.pR.n063.d_dstm_15918_0_mini-DST.edm4hep.root\".\n  RDataFrame::RDataFrame(ROOT::RDataFrame&&) =>\n    TypeError: takes at most 1 arguments (2 given)\n  RDataFrame::RDataFrame(string_view treeName, TDirectory* dirPtr, const ROOT::RDataFrame::ColumnNames_t& defaultColumns = {}) =>\n    TypeError: could not convert argument 2\n  RDataFrame::RDataFrame(TTree& tree, const ROOT::RDataFrame::ColumnNames_t& defaultColumns = {}) =>\n    TypeError: could not convert argument 1\n  RDataFrame::RDataFrame(const ROOT::RDataFrame&) =>\n    TypeError: takes at most 1 arguments (2 given)\n  RDataFrame::RDataFrame(string_view treename, const vector<string>& filenames, const ROOT::RDataFrame::ColumnNames_t& defaultColumns = {}) =>\n    invalid_argument: RDataFrame: could not open file \"/eos/experiment/clicdp/data/user/l/lreichen/miniDST/2f/2f_eehiq/l5_o1/rv02-02.sv02-02.mILD_l5_o1_v02.E250-SetA.I500003.P2f_z_eehiq.eR.pR.n063.d_dstm_15918_0_mini-DST.edm4hep.root\".\n  RDataFrame::RDataFrame(string_view treeName, string_view filenameglob, const ROOT::RDataFrame::ColumnNames_t& defaultColumns = {}) =>\n    TypeError: could not convert argument 2 (bad argument type for built-in operation)\n  RDataFrame::RDataFrame(ULong64_t numEntries) =>\n    TypeError: takes at most 1 arguments (2 given)\n  RDataFrame::RDataFrame(unique_ptr<ROOT::RDF::RDataSource>, const ROOT::RDataFrame::ColumnNames_t& defaultColumns = {}) =>\n    TypeError: could not convert argument 1\n  RDataFrame::RDataFrame(ROOT::RDF::Experimental::RDatasetSpec spec) =>\n    TypeError: takes at most 1 arguments (2 given)",
     "output_type": "error",
     "traceback": [
      "\u001b[0;31m---------------------------------------------------------------------------\u001b[0m",
      "\u001b[0;31mTypeError\u001b[0m                                 Traceback (most recent call last)",
      "\u001b[0;32m/tmp/ipykernel_951/3677099339.py\u001b[0m in \u001b[0;36m<module>\u001b[0;34m\u001b[0m\n\u001b[0;32m----> 1\u001b[0;31m \u001b[0manalysis\u001b[0m \u001b[0;34m=\u001b[0m \u001b[0mAnalysis\u001b[0m\u001b[0;34m(\u001b[0m\u001b[0mdataset\u001b[0m\u001b[0;34m)\u001b[0m\u001b[0;34m\u001b[0m\u001b[0;34m\u001b[0m\u001b[0m\n\u001b[0m\u001b[1;32m      2\u001b[0m \u001b[0;34m\u001b[0m\u001b[0m\n\u001b[1;32m      3\u001b[0m analysis.init_parameters([\n\u001b[1;32m      4\u001b[0m     \u001b[0;34m(\u001b[0m\u001b[0;34m\"WWCategorisation.RecoCatBasic\"\u001b[0m\u001b[0;34m,\u001b[0m \u001b[0;34m\"int\"\u001b[0m\u001b[0;34m,\u001b[0m \u001b[0;34m\"8\"\u001b[0m\u001b[0;34m)\u001b[0m\u001b[0;34m,\u001b[0m\u001b[0;34m\u001b[0m\u001b[0;34m\u001b[0m\u001b[0m\n\u001b[1;32m      5\u001b[0m     \u001b[0;34m(\u001b[0m\u001b[0;34m\"WWCategorisation.RecoCatAdvanced\"\u001b[0m\u001b[0;34m,\u001b[0m \u001b[0;34m\"int\"\u001b[0m\u001b[0;34m,\u001b[0m \u001b[0;34m\"8\"\u001b[0m\u001b[0;34m)\u001b[0m\u001b[0;34m,\u001b[0m\u001b[0;34m\u001b[0m\u001b[0;34m\u001b[0m\u001b[0m\n",
      "\u001b[0;32m/eos/home-i00/l/lreichen/TGC2/analysis_framework/Analysis.py\u001b[0m in \u001b[0;36m__init__\u001b[0;34m(self, dataset)\u001b[0m\n\u001b[1;32m     35\u001b[0m             \u001b[0;32mif\u001b[0m \u001b[0mtree_name\u001b[0m \u001b[0;34m==\u001b[0m \u001b[0;34m\"\"\u001b[0m \u001b[0;32mand\u001b[0m \u001b[0mfiles\u001b[0m \u001b[0;34m==\u001b[0m \u001b[0;34m[\u001b[0m\u001b[0;34m\"\"\u001b[0m\u001b[0;34m]\u001b[0m\u001b[0;34m:\u001b[0m\u001b[0;34m\u001b[0m\u001b[0;34m\u001b[0m\u001b[0m\n\u001b[1;32m     36\u001b[0m                 \u001b[0;32mcontinue\u001b[0m\u001b[0;34m\u001b[0m\u001b[0;34m\u001b[0m\u001b[0m\n\u001b[0;32m---> 37\u001b[0;31m             \u001b[0mdf\u001b[0m \u001b[0;34m=\u001b[0m \u001b[0mROOT\u001b[0m\u001b[0;34m.\u001b[0m\u001b[0mRDataFrame\u001b[0m\u001b[0;34m(\u001b[0m\u001b[0mtree_name\u001b[0m\u001b[0;34m,\u001b[0m \u001b[0mfiles\u001b[0m\u001b[0;34m)\u001b[0m\u001b[0;34m\u001b[0m\u001b[0;34m\u001b[0m\u001b[0m\n\u001b[0m\u001b[1;32m     38\u001b[0m             \u001b[0mself\u001b[0m\u001b[0;34m.\u001b[0m\u001b[0m_df\u001b[0m\u001b[0;34m[\u001b[0m\u001b[0mname\u001b[0m\u001b[0;34m]\u001b[0m \u001b[0;34m=\u001b[0m \u001b[0mdf\u001b[0m\u001b[0;34m\u001b[0m\u001b[0;34m\u001b[0m\u001b[0m\n\u001b[1;32m     39\u001b[0m \u001b[0;34m\u001b[0m\u001b[0m\n",
      "\u001b[0;31mTypeError\u001b[0m: none of the 10 overloaded methods succeeded. Full details:\n  RDataFrame::RDataFrame(string_view treename, initializer_list<string> filenames, const ROOT::RDataFrame::ColumnNames_t& defaultColumns = {}) =>\n    invalid_argument: RDataFrame: could not open file \"/eos/experiment/clicdp/data/user/l/lreichen/miniDST/2f/2f_eehiq/l5_o1/rv02-02.sv02-02.mILD_l5_o1_v02.E250-SetA.I500003.P2f_z_eehiq.eR.pR.n063.d_dstm_15918_0_mini-DST.edm4hep.root\".\n  RDataFrame::RDataFrame(ROOT::RDataFrame&&) =>\n    TypeError: takes at most 1 arguments (2 given)\n  RDataFrame::RDataFrame(string_view treeName, TDirectory* dirPtr, const ROOT::RDataFrame::ColumnNames_t& defaultColumns = {}) =>\n    TypeError: could not convert argument 2\n  RDataFrame::RDataFrame(TTree& tree, const ROOT::RDataFrame::ColumnNames_t& defaultColumns = {}) =>\n    TypeError: could not convert argument 1\n  RDataFrame::RDataFrame(const ROOT::RDataFrame&) =>\n    TypeError: takes at most 1 arguments (2 given)\n  RDataFrame::RDataFrame(string_view treename, const vector<string>& filenames, const ROOT::RDataFrame::ColumnNames_t& defaultColumns = {}) =>\n    invalid_argument: RDataFrame: could not open file \"/eos/experiment/clicdp/data/user/l/lreichen/miniDST/2f/2f_eehiq/l5_o1/rv02-02.sv02-02.mILD_l5_o1_v02.E250-SetA.I500003.P2f_z_eehiq.eR.pR.n063.d_dstm_15918_0_mini-DST.edm4hep.root\".\n  RDataFrame::RDataFrame(string_view treeName, string_view filenameglob, const ROOT::RDataFrame::ColumnNames_t& defaultColumns = {}) =>\n    TypeError: could not convert argument 2 (bad argument type for built-in operation)\n  RDataFrame::RDataFrame(ULong64_t numEntries) =>\n    TypeError: takes at most 1 arguments (2 given)\n  RDataFrame::RDataFrame(unique_ptr<ROOT::RDF::RDataSource>, const ROOT::RDataFrame::ColumnNames_t& defaultColumns = {}) =>\n    TypeError: could not convert argument 1\n  RDataFrame::RDataFrame(ROOT::RDF::Experimental::RDatasetSpec spec) =>\n    TypeError: takes at most 1 arguments (2 given)"
     ]
    },
    {
     "name": "stderr",
     "output_type": "stream",
     "text": [
      "Error in <TNetXNGFile::Open>: [ERROR] Server responded with an error: [3014] Unable to open file  /eos/experiment/clicdp/data/user/l/lreichen/miniDST/2f/2f_eehiq/l5_o1/rv02-02.sv02-02.mILD_l5_o1_v02.E250-SetA.I500003.P2f_z_eehiq.eR.pR.n063.d_dstm_15918_0_mini-DST.edm4hep.root; Network is unreachable\n",
      "\n",
      "SysError in <TFile::ReadBuffer>: error reading from file /eos/experiment/clicdp/data/user/l/lreichen/miniDST/2f/2f_eehiq/l5_o1/rv02-02.sv02-02.mILD_l5_o1_v02.E250-SetA.I500003.P2f_z_eehiq.eR.pR.n063.d_dstm_15918_0_mini-DST.edm4hep.root Remote I/O error\n",
      "Error in <TFile::Init>: /eos/experiment/clicdp/data/user/l/lreichen/miniDST/2f/2f_eehiq/l5_o1/rv02-02.sv02-02.mILD_l5_o1_v02.E250-SetA.I500003.P2f_z_eehiq.eR.pR.n063.d_dstm_15918_0_mini-DST.edm4hep.root failed to read the file type data.\n",
      "Error in <TNetXNGFile::Open>: [ERROR] Server responded with an error: [3014] Unable to open file  /eos/experiment/clicdp/data/user/l/lreichen/miniDST/2f/2f_eehiq/l5_o1/rv02-02.sv02-02.mILD_l5_o1_v02.E250-SetA.I500003.P2f_z_eehiq.eR.pR.n063.d_dstm_15918_0_mini-DST.edm4hep.root; Network is unreachable\n",
      "\n",
      "SysError in <TFile::ReadBuffer>: error reading from file /eos/experiment/clicdp/data/user/l/lreichen/miniDST/2f/2f_eehiq/l5_o1/rv02-02.sv02-02.mILD_l5_o1_v02.E250-SetA.I500003.P2f_z_eehiq.eR.pR.n063.d_dstm_15918_0_mini-DST.edm4hep.root Input/output error\n",
      "Error in <TFile::Init>: /eos/experiment/clicdp/data/user/l/lreichen/miniDST/2f/2f_eehiq/l5_o1/rv02-02.sv02-02.mILD_l5_o1_v02.E250-SetA.I500003.P2f_z_eehiq.eR.pR.n063.d_dstm_15918_0_mini-DST.edm4hep.root failed to read the file type data.\n",
      "Error in <TNetXNGFile::Open>: [ERROR] Server responded with an error: [3014] Unable to open file  /eos/experiment/clicdp/data/user/l/lreichen/miniDST/2f/2f_eehiq/l5_o1/rv02-02.sv02-02.mILD_l5_o1_v02.E250-SetA.I500003.P2f_z_eehiq.eR.pR.n063.d_dstm_15918_0_mini-DST.edm4hep.root; Network is unreachable\n",
      "\n",
      "SysError in <TFile::ReadBuffer>: error reading from file /eos/experiment/clicdp/data/user/l/lreichen/miniDST/2f/2f_eehiq/l5_o1/rv02-02.sv02-02.mILD_l5_o1_v02.E250-SetA.I500003.P2f_z_eehiq.eR.pR.n063.d_dstm_15918_0_mini-DST.edm4hep.root Input/output error\n",
      "Error in <TFile::Init>: /eos/experiment/clicdp/data/user/l/lreichen/miniDST/2f/2f_eehiq/l5_o1/rv02-02.sv02-02.mILD_l5_o1_v02.E250-SetA.I500003.P2f_z_eehiq.eR.pR.n063.d_dstm_15918_0_mini-DST.edm4hep.root failed to read the file type data.\n"
     ]
    }
   ],
   "source": [
    "analysis = Analysis(dataset)\n",
    "\n",
    "analysis.init_parameters([\n",
    "    (\"WWCategorisation.RecoCatBasic\", \"int\", \"8\"),\n",
    "    (\"WWCategorisation.RecoCatAdvanced\", \"int\", \"8\"),\n",
    "    (\"WWCategorisation.missE\", \"float\", \"-42\"),\n",
    "    (\"WWCategorisation.misspT\", \"float\", \"-42\"),\n",
    "    (\"WWCategorisation.mInv\", \"float\", \"-42\"),\n",
    "    (\"Energy\", \"float\", \"-42\"),\n",
    "])"
   ]
  },
  {
   "cell_type": "code",
   "execution_count": null,
   "metadata": {},
   "outputs": [],
   "source": [
    "# signal cut goes here:\n",
    "# In this case, we want to require the charged lepton in the final state to be inside of the detector acceptance\n",
    "# just take the first gen status 1 particle with a fitting pdg value and cut on theta\n",
    "lep_pdg = 11\n",
    "# CLD 150 mrad\n",
    "# ILD ~84 mrad (IDR: 4.8 deg)\n",
    "acceptance_theta = 0.084\n",
    "signal_cut = f\"\"\"\n",
    "std::invoke([](auto& genStat, auto& pdg, auto& px, auto& py, auto& pz, auto& m) -> bool {{\n",
    "auto lepton_mask = genStat == 1 && abs(pdg) == {lep_pdg};\n",
    "// abuse ArgMax to get the first set position\n",
    "auto lepton_idx = ArgMax(lepton_mask);\n",
    "auto lepton_lvec = ROOT::Math::PxPyPzMVector(px[lepton_idx], py[lepton_idx],\n",
    "                                             pz[lepton_idx], m[lepton_idx]);\n",
    "double lepton_theta = lepton_lvec.Theta();\n",
    "return abs(cos(lepton_theta)) < cos({acceptance_theta});\n",
    "}}, MCParticlesSkimmed.generatorStatus, MCParticlesSkimmed.PDG, MCParticlesSkimmed.momentum.x, MCParticlesSkimmed.momentum.y, MCParticlesSkimmed.momentum.z, MCParticlesSkimmed.mass)\n",
    "\"\"\""
   ]
  },
  {
   "cell_type": "code",
   "execution_count": null,
   "metadata": {},
   "outputs": [],
   "source": [
    "analysis.set_categories({\n",
    "    \"4f_sw_sl_signal\": {\"pattern\": \"4f_sw_sl\", \"cut\": signal_cut},\n",
    "    \"4f_sl_bkg\": {\"pattern\": r\"4f\\w+sl\", \"cut\": None }, # inverse signal cut will be applied automatically\n",
    "    \"4f_not_sl\": {\"pattern\": r\"4f\\w+_(?:h|l)\", \"cut\": None },\n",
    "    # separate out aa_4f? super low lumi anyway\n",
    "    \"aa2f\": {\"pattern\": \"aa_2f\", \"cut\": None},\n",
    "    # 2f but not aa_2f\n",
    "    \"2f\": {\"pattern\": \"(?<!aa_)2f\", \"cut\": None},\n",
    "    \"3f\": {\"pattern\": \"ea_3f|ae_3f\", \"cut\": None},\n",
    "    \"5f\": {\"pattern\": \"ea_5f|ae_5f\", \"cut\": None},\n",
    "    \"6f\": {\"pattern\": \"6f\", \"cut\": None},\n",
    "    # need to filter out anything ending in _h and 2f_z_eehiq\n",
    "    \"higgs\": {\"pattern\": \"[^_e]h\", \"cut\": None},\n",
    "})\n",
    "# check if we missed any processes\n",
    "print(analysis.is_complete_categorisation())"
   ]
  },
  {
   "cell_type": "code",
   "execution_count": null,
   "metadata": {},
   "outputs": [],
   "source": [
    "print(list(analysis._df.keys()))"
   ]
  },
  {
   "cell_type": "code",
   "execution_count": null,
   "metadata": {},
   "outputs": [],
   "source": [
    "# needed for the .size() calls... alternative would probably be to .Alias the @size columns\n",
    "ROOT.gInterpreter.Declare(\"#include <podio/ObjectID.h>\")\n",
    "ROOT.gInterpreter.Declare(\"#include <edm4hep/ReconstructedParticleData.h>\")\n",
    "analysis.Define(\"n_isomuons\", \"IsolatedMuons_objIdx.size()\")\n",
    "analysis.Define(\"n_isoelectrons\", \"IsolatedElectrons_objIdx.size()\")\n",
    "analysis.Define(\"RecoCatBasic\", \"params_WWCategorisation_RecoCatBasic\")\n",
    "analysis.Define(\"RecoCatAdvanced\", \"params_WWCategorisation_RecoCatAdvanced\")\n",
    "analysis.Define(\"n_charged_PFOs\", \"Sum(abs(PandoraPFOs.charge) == 1.)\")\n",
    "analysis.Define(\"n_R2jets\", \"Refined2Jets.size()\")\n",
    "make_lvec = lambda coll_name: f\"ROOT::VecOps::Construct<ROOT::Math::PxPyPzEVector>({coll_name}.momentum.x, {coll_name}.momentum.y, {coll_name}.momentum.z, {coll_name}.energy)\"\n",
    "analysis.Define(\"R2jet_lvecs\", make_lvec(\"Refined2Jets\"))\n",
    "analysis.Define(\"M_jj\", \"ROOT::VecOps::Sum(R2jet_lvecs, ROOT::Math::PxPyPzEVector()).mass()\")\n",
    "analysis.Define(\"PVertex_ndf\", \"PrimaryVertex.ndf\")\n",
    "analysis.Define(\"PVertex_chi2\", \"PrimaryVertex.chi2\")\n",
    "analysis.Define(\"PVertex_chi2ndf\", \"PVertex_chi2 / PVertex_ndf\")\n",
    "\n",
    "signal_category = [\"4f_sw_sl_signal\"]\n",
    "# analysis.define_truth_objects(signal_category)\n",
    "# analysis.define_reco_objects(x_angle)\n",
    "# analysis.remove_x_angle(x_angle)\n",
    "# analysis.Define(\"M_Wlep\", \"ub_leptonic_W_lvec.M()\")\n",
    "# analysis.Define(\"M2_Wlep_sign\", \"M_Wlep / abs(M_Wlep)\")"
   ]
  },
  {
   "cell_type": "code",
   "execution_count": null,
   "metadata": {},
   "outputs": [],
   "source": [
    "analysis.book_histogram_1D(\"RecoCatBasic\", \"RecoCatBasic\", (\"\", \";RecoCatBasic\", 8, 0., 8.))\n",
    "# analysis.book_histogram_1D(\"RecoCatAdvanced\", \"RecoCatAdvanced\", (\"\", \";RecoCatAdvanced\", 8, 0., 8.))\n",
    "# analysis.add_filter(\"RecoCatAdvanced == 2\", \"RecoCatAdvanced == 2\")"
   ]
  },
  {
   "cell_type": "code",
   "execution_count": null,
   "metadata": {},
   "outputs": [],
   "source": [
    "analysis.book_histogram_1D(\"n_isoelectrons\", \"n_isoelectrons\", (\"\", \";n_isoelectrons\", 5, 0., 5.))\n",
    "analysis.add_filter(\"n_isoelectrons == 1\", \"1 iso electron\")\n",
    "\n",
    "analysis.book_histogram_1D(\"n_charged_PFOs\", \"n_charged_PFOs\", (\"\", \";n_charged_PFOs\", 50, 0., 50.))\n",
    "analysis.add_filter(\"n_charged_PFOs >= 10\", \"N_{#pm}#geq 10\")\n",
    "\n",
    "analysis.book_histogram_1D(\"misspT\", \"params_WWCategorisation_misspT\", (\"\", \";misspT\", 100, 0., 100.))\n",
    "analysis.add_filter(\"params_WWCategorisation_misspT >= 10\", \"misspT#geq 10\")\n",
    "\n",
    "analysis.book_histogram_1D(\"RecoCatAdvanced\", \"RecoCatAdvanced\", (\"\", \";RecoCatAdvanced\", 8, 0., 8.))\n",
    "analysis.add_filter(\"RecoCatAdvanced == 2\", \"RecoCat = 2\")\n",
    "\n",
    "# analysis.book_histogram_1D(\"M2_Wlep_sign\", \"M2_Wlep_sign\", (\"\", \";M2_Wlep_sign\", 5, -1.5, 3.5))\n",
    "# analysis.add_filter(\"M2_Wlep_sign > 0\", \"M2_Wlep_sign > 0\")\n",
    "\n",
    "analysis.book_histogram_1D(\"PVertex_ndf\", \"PVertex_ndf\", (\"\", \";PVertex_ndf\", 50, 1., 101.))\n",
    "analysis.book_histogram_1D(\"missE\", \"params_WWCategorisation_missE\", (\"\", \";missE\", 300, -50., 250.))\n",
    "analysis.book_histogram_1D(\"mInv\", \"params_WWCategorisation_mInv\", (\"\", \";mInv\", 100, 40., 140.))\n",
    "analysis.book_histogram_1D(\"M_jj\", \"M_jj\", (\"\", \";M_jj\", 100, 32., 132.))\n",
    "analysis.book_histogram_1D(\"n_isomuons\", \"n_isomuons\", (\"\", \";n_isomuons\", 5, 0., 5.))\n",
    "analysis.book_histogram_1D(\"PVertex_chi2\", \"PVertex_chi2\", (\"\", \";PVertex_chi2\", 75, 0., 150.))\n",
    "analysis.book_histogram_1D(\"PVertex_chi2ndf\", \"PVertex_chi2ndf\", (\"\", \";PVertex_chi2/ndf\", 20, 0., 10.))"
   ]
  },
  {
   "cell_type": "code",
   "execution_count": null,
   "metadata": {},
   "outputs": [],
   "source": [
    "analysis.book_reports()"
   ]
  },
  {
   "cell_type": "code",
   "execution_count": null,
   "metadata": {},
   "outputs": [],
   "source": [
    "# analysis.book_snapshots(\"events\", output_path, output_meta, output_collections, no_rvec=no_rvec)"
   ]
  },
  {
   "cell_type": "code",
   "execution_count": null,
   "metadata": {},
   "outputs": [],
   "source": [
    "%%time\n",
    "analysis.run()"
   ]
  },
  {
   "cell_type": "code",
   "execution_count": null,
   "metadata": {},
   "outputs": [],
   "source": [
    "# analysis.check_snapshots(\"events\", output_path, checked_output_meta)"
   ]
  },
  {
   "cell_type": "code",
   "execution_count": null,
   "metadata": {},
   "outputs": [],
   "source": [
    "analysis._calc_cutflow()"
   ]
  },
  {
   "cell_type": "code",
   "execution_count": null,
   "metadata": {},
   "outputs": [],
   "source": [
    "analysis.print_reports()\n",
    "analysis.draw_cutflow(plot_dir=plot_dir)"
   ]
  },
  {
   "cell_type": "code",
   "execution_count": null,
   "metadata": {},
   "outputs": [],
   "source": [
    "# unfortunately the jsroot plots break all the time, maybe it is just too much for them\n",
    "# %jsroot on\n",
    "# 0 - hadronic (both W decay hadronically)\n",
    "# 1 - invisible semileptonic (one W decays hadronically, but the lepton is not within detector acceptance/detected)\n",
    "# 2 - semileptonic electron\n",
    "# 3 - semileptonic muon\n",
    "# 4 - semileptonic tauon\n",
    "# 5 - leptonic (both W decay leptonically)\n",
    "# 6 - other, 7- broken?\n",
    "# analysis.draw_histogram(\"RecoCatBasic\")\n",
    "analysis.draw_histogram(\"n_isoelectrons\", logY=True, plot_dir=plot_dir, x_arrowl=1.0, x_arrowr=2.0)\n",
    "analysis.draw_histogram(\"n_charged_PFOs\", logY=True, plot_dir=plot_dir, x_arrowl=10.)\n",
    "analysis.draw_histogram(\"misspT\", logY=True, plot_dir=plot_dir, x_arrowl=10.)\n",
    "analysis.draw_histogram(\"RecoCatAdvanced\", plot_dir=plot_dir, x_arrowl=2., x_arrowr=3.)\n",
    "# analysis.draw_histogram(\"M2_Wlep_sign\", plot_dir=plot_dir, x_arrowl=0.5)"
   ]
  },
  {
   "cell_type": "code",
   "execution_count": null,
   "metadata": {},
   "outputs": [],
   "source": [
    "analysis.draw_histogram(\"PVertex_ndf\")\n",
    "\n",
    "analysis.draw_histogram(\"missE\")\n",
    "analysis.draw_histogram(\"mInv\")\n",
    "analysis.draw_histogram(\"M_jj\")\n",
    "analysis.draw_histogram(\"n_isomuons\")"
   ]
  },
  {
   "cell_type": "code",
   "execution_count": null,
   "metadata": {},
   "outputs": [],
   "source": [
    "analysis.draw_histogram(\"PVertex_chi2\")\n",
    "analysis.draw_histogram(\"PVertex_chi2ndf\")"
   ]
  },
  {
   "cell_type": "code",
   "execution_count": null,
   "metadata": {},
   "outputs": [],
   "source": []
  },
  {
   "cell_type": "code",
   "execution_count": null,
   "metadata": {},
   "outputs": [],
   "source": []
  }
 ],
 "metadata": {
  "kernelspec": {
   "display_name": "Python 3",
   "language": "python",
   "name": "python3"
  },
  "language_info": {
   "codemirror_mode": {
    "name": "ipython",
    "version": 3
   },
   "file_extension": ".py",
   "mimetype": "text/x-python",
   "name": "python",
   "nbconvert_exporter": "python",
   "pygments_lexer": "ipython3",
   "version": "3.11.9"
  }
 },
 "nbformat": 4,
 "nbformat_minor": 4
}
