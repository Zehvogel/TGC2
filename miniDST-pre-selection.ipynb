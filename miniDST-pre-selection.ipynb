{
 "cells": [
  {
   "cell_type": "code",
   "execution_count": 1,
   "metadata": {},
   "outputs": [
    {
     "name": "stdout",
     "output_type": "stream",
     "text": [
      "OBJ: TStyle\tildStyle\tILD Style : 0 at: 0x120a6e10\n"
     ]
    }
   ],
   "source": [
    "import ROOT\n",
    "from analysis_framework import Dataset, Analysis"
   ]
  },
  {
   "cell_type": "code",
   "execution_count": 2,
   "metadata": {
    "tags": [
     "parameters"
    ]
   },
   "outputs": [],
   "source": [
    "# CLD\n",
    "# x_angle = 0.030 # rad\n",
    "# ILD\n",
    "x_angle = 0.014 # rad\n",
    "n_threads = 12\n",
    "# prod = False\n",
    "prod = True\n",
    "no_rvec = True\n",
    "# dataset_path = \"data/datasets/miniDSTs/processed-test.json\"\n",
    "dataset_path = \"data/datasets/miniDSTs/processed-test-smaller.json\"\n",
    "output_path = \"root://eosproject.cern.ch//eos/experiment/clicdp/data/user/l/lreichen/snapshots3/test\"\n",
    "output_meta = \"test.json\"\n",
    "checked_output_meta = \"checked-test.json\"\n",
    "output_collections = r\"^(?!R2jet_lvecs)\\w+$\" # [\"PandoraPFOs\"]\n",
    "plot_dir = \"plots/pre-selection/test\"\n",
    "if prod:\n",
    "    dataset_path = \"data/datasets/miniDSTs/processed-no-exc-higgs.json\"\n",
    "    output_path = \"root://eosproject.cern.ch//eos/experiment/clicdp/data/user/l/lreichen/snapshots3/full\"\n",
    "    output_meta = \"full.json\"\n",
    "    checked_output_meta = \"checked-full.json\"\n",
    "    output_collections = r\"^(?!R2jet_lvecs)\\w+$\"\n",
    "    plot_dir = \"plots/pre-selection/full\"\n"
   ]
  },
  {
   "cell_type": "code",
   "execution_count": 3,
   "metadata": {},
   "outputs": [],
   "source": [
    "# ROOT.gInterpreter.GenerateDictionary(\"ROOT::RVec<ROOT::Math::PxPyPzEVector>\", \"Math/Vector4D.h;ROOT/RVec.hxx\")"
   ]
  },
  {
   "cell_type": "code",
   "execution_count": 4,
   "metadata": {},
   "outputs": [],
   "source": [
    "ROOT.EnableImplicitMT(n_threads)"
   ]
  },
  {
   "cell_type": "code",
   "execution_count": 5,
   "metadata": {},
   "outputs": [],
   "source": [
    "dataset = Dataset.from_json(dataset_path)"
   ]
  },
  {
   "cell_type": "code",
   "execution_count": 6,
   "metadata": {},
   "outputs": [],
   "source": [
    "analysis = Analysis(dataset)\n",
    "\n",
    "analysis.init_parameters([\n",
    "    (\"WWCategorisation.RecoCatBasic\", \"int\", \"8\"),\n",
    "    (\"WWCategorisation.RecoCatAdvanced\", \"int\", \"8\"),\n",
    "    (\"WWCategorisation.missE\", \"float\", \"-42\"),\n",
    "    (\"WWCategorisation.misspT\", \"float\", \"-42\"),\n",
    "    (\"WWCategorisation.mInv\", \"float\", \"-42\"),\n",
    "    (\"Energy\", \"float\", \"-42\"),\n",
    "])"
   ]
  },
  {
   "cell_type": "code",
   "execution_count": 7,
   "metadata": {},
   "outputs": [],
   "source": [
    "# signal cut goes here:\n",
    "# In this case, we want to require the charged lepton in the final state to be inside of the detector acceptance\n",
    "# just take the first gen status 1 particle with a fitting pdg value and cut on theta\n",
    "lep_pdg = 11\n",
    "# CLD 150 mrad\n",
    "# ILD ~84 mrad (IDR: 4.8 deg)\n",
    "acceptance_theta = 0.084\n",
    "signal_cut = f\"\"\"\n",
    "std::invoke([](auto& genStat, auto& pdg, auto& px, auto& py, auto& pz, auto& m) -> bool {{\n",
    "auto lepton_mask = genStat == 1 && abs(pdg) == {lep_pdg};\n",
    "// abuse ArgMax to get the first set position\n",
    "auto lepton_idx = ArgMax(lepton_mask);\n",
    "auto lepton_lvec = ROOT::Math::PxPyPzMVector(px[lepton_idx], py[lepton_idx],\n",
    "                                             pz[lepton_idx], m[lepton_idx]);\n",
    "double lepton_theta = lepton_lvec.Theta();\n",
    "return abs(cos(lepton_theta)) < cos({acceptance_theta});\n",
    "}}, MCParticlesSkimmed.generatorStatus, MCParticlesSkimmed.PDG, MCParticlesSkimmed.momentum.x, MCParticlesSkimmed.momentum.y, MCParticlesSkimmed.momentum.z, MCParticlesSkimmed.mass)\n",
    "\"\"\""
   ]
  },
  {
   "cell_type": "code",
   "execution_count": 8,
   "metadata": {},
   "outputs": [
    {
     "name": "stdout",
     "output_type": "stream",
     "text": [
      "True\n"
     ]
    }
   ],
   "source": [
    "analysis.set_categories({\n",
    "    \"4f_sw_sl_signal\": {\"pattern\": \"4f_sw_sl\", \"cut\": signal_cut},\n",
    "    \"4f_sl_bkg\": {\"pattern\": r\"4f\\w+sl\", \"cut\": None }, # inverse signal cut will be applied automatically\n",
    "    \"4f_not_sl\": {\"pattern\": r\"4f\\w+_(?:h|l)\", \"cut\": None },\n",
    "    # separate out aa_4f? super low lumi anyway\n",
    "    \"aa2f\": {\"pattern\": \"aa_2f\", \"cut\": None},\n",
    "    # 2f but not aa_2f\n",
    "    \"2f\": {\"pattern\": \"(?<!aa_)2f\", \"cut\": None},\n",
    "    \"3f\": {\"pattern\": \"ea_3f|ae_3f\", \"cut\": None},\n",
    "    \"5f\": {\"pattern\": \"ea_5f|ae_5f\", \"cut\": None},\n",
    "    \"6f\": {\"pattern\": \"6f\", \"cut\": None},\n",
    "    # need to filter out anything ending in _h and 2f_z_eehiq\n",
    "    \"higgs\": {\"pattern\": \"[^_e]h\", \"cut\": None},\n",
    "})\n",
    "# check if we missed any processes\n",
    "print(analysis.is_complete_categorisation())"
   ]
  },
  {
   "cell_type": "code",
   "execution_count": 9,
   "metadata": {},
   "outputs": [
    {
     "name": "stdout",
     "output_type": "stream",
     "text": [
      "['2f_z_eehiq_eLpL', '2f_z_eehiq_eLpR', '2f_z_eehiq_eRpR', '2f_z_eehiq_eRpL', '2f_z_h_eLpR', '2f_z_h_eRpL', '2f_z_l_eLpR', '2f_z_l_eRpL', 'ea_3f_z_l_eLpB', 'ea_3f_z_l_eRpB', 'ea_3f_z_nu_eLpB', 'ea_3f_z_nu_eRpB', 'ea_3f_w_l_eLpB', 'ea_3f_z_h_eLpB', 'ea_3f_z_h_eRpB', 'ea_3f_w_h_eLpB', 'ae_3f_z_l_eBpL', 'ae_3f_z_l_eBpR', 'ae_3f_z_nu_eBpL', 'ae_3f_z_nu_eBpR', 'ae_3f_w_l_eBpR', 'ae_3f_z_h_eBpL', 'ae_3f_z_h_eBpR', 'ae_3f_w_h_eBpR', '4f_zz_h_eLpR', '4f_zz_h_eRpL', '4f_zz_sl_eLpR', '4f_zz_sl_eRpL', '4f_zz_l_eLpR', '4f_zz_l_eRpL', '4f_zzorww_h_eLpR', '4f_zzorww_h_eRpL', '4f_zzorww_l_eLpR', '4f_zzorww_l_eRpL', '4f_zznu_sl_eLpR', '4f_zznu_sl_eRpL', '4f_zznu_l_eLpR', '4f_zznu_l_eRpL', '4f_sznu_l_eLpR', '4f_sznu_l_eRpL', '4f_sze_sl_eLpL', '4f_sze_sl_eLpR', '4f_sze_sl_eRpR', '4f_sze_sl_eRpL', '4f_sze_l_eLpL', '4f_sze_l_eLpR', '4f_sze_l_eRpR', '4f_sze_l_eRpL', '4f_sznu_sl_eLpR', '4f_sznu_sl_eRpL', '4f_szeorsw_l_eLpL', '4f_szeorsw_l_eLpR', '4f_szeorsw_l_eRpR', '4f_szeorsw_l_eRpL', 'ea_5f_zz_h_eLpW', 'ea_5f_zz_h_eRpW', 'ea_5f_ww_h_eLpW', 'ea_5f_ww_h_eRpW', 'ea_5f_zzorww_h_eLpW', 'ea_5f_zzorww_h_eRpW', 'ea_5f_zz_sl_eLpW', 'ea_5f_zz_sl_eRpW', 'ea_5f_zznu_sl_eLpW', 'ea_5f_zznu_sl_eRpW', 'ea_5f_ww_sl_eLpW', 'ea_5f_ww_sl_eRpW', 'ea_5f_zz_l_eLpW', 'ea_5f_zz_l_eRpW', 'ea_5f_zznu_l_eLpW', 'ea_5f_zznu_l_eRpW', 'ea_5f_ww_l_eLpW', 'ea_5f_ww_l_eRpW', 'ea_5f_zzorww_l_eLpW', 'ea_5f_zzorww_l_eRpW', 'ae_5f_zz_h_eWpL', 'ae_5f_zz_h_eWpR', 'ae_5f_ww_h_eWpL', 'ae_5f_ww_h_eWpR', 'ae_5f_zzorww_h_eWpL', 'ae_5f_zzorww_h_eWpR', 'ae_5f_zz_sl_eWpL', 'ae_5f_zz_sl_eWpR', 'ae_5f_zznu_sl_eWpL', 'ae_5f_zznu_sl_eWpR', 'ae_5f_ww_sl_eWpL', 'ae_5f_ww_sl_eWpR', 'ae_5f_zz_l_eWpL', 'ae_5f_zz_l_eWpR', 'ae_5f_zznu_l_eWpL', 'ae_5f_zznu_l_eWpR', 'ae_5f_ww_l_eWpL', 'ae_5f_ww_l_eWpR', 'ae_5f_zzorww_l_eWpL', 'ae_5f_zzorww_l_eWpR', '6f_llxyyx_eLpR', '6f_llxyyx_eRpL', '6f_eexyyx_eLpR', '6f_eexyyx_eRpL', '6f_vvxyyx_eLpR', '6f_vvxyyx_eRpL', '6f_llxxxx_eLpR', '6f_llxxxx_eRpL', '6f_eexxxx_eLpR', '6f_vvxxxx_eLpR', '6f_vvxxxx_eRpL', '6f_llyyyy_eLpR', '6f_llyyyy_eRpL', '6f_eeyyyy_eLpR', '6f_eeyyyy_eRpL', '6f_vvyyyy_eLpR', '6f_vvyyyy_eRpL', 'aa_2f_z_l_eBpB', 'aa_2f_z_l_eBpW', 'aa_2f_z_l_eWpB', 'aa_2f_z_l_eWpW', 'aa_2f_z_h_eBpB', 'aa_2f_z_h_eBpW', 'aa_2f_z_h_eWpB', 'aa_2f_z_h_eWpW', 'aa_4f_zz_sl_eBpB', 'aa_4f_zznu_sl_eBpB', 'aa_4f_ww_sl_eBpB', 'aa_4f_zz_l_eBpB', 'aa_4f_zznu_l_eBpB', 'aa_4f_zzorww_l_eBpB', 'e1e1h_eLpR', 'e1e1h_eRpL', 'e2e2h_eLpR', 'e2e2h_eRpL', 'e3e3h_eLpR', 'e3e3h_eRpL', 'n1n1h_eLpR', 'n1n1h_eRpL', 'n23n23h_eLpR', 'n23n23h_eRpL', 'qqh_eLpR', 'qqh_eRpL', 'e1e1h_eLpL', 'e1e1h_eRpR', '4f_sw_l_eLpL', '4f_sw_l_eLpR', '4f_sw_l_eRpR', '4f_sw_l_eRpL', '4f_sw_sl_eLpL', '4f_sw_sl_eLpR', '4f_sw_sl_eRpR', '4f_sw_sl_eRpL', '4f_ww_h_eLpR', '4f_ww_h_eRpL', '4f_ww_l_eLpR', '4f_ww_l_eRpL', '4f_ww_sl_eLpR', '4f_ww_sl_eRpL', '4f_sw_sl_eLpL_signal', '4f_sw_sl_eLpR_signal', '4f_sw_sl_eRpR_signal', '4f_sw_sl_eRpL_signal', '4f_sw_sl_eLpL_bkg', '4f_sw_sl_eLpR_bkg', '4f_sw_sl_eRpR_bkg', '4f_sw_sl_eRpL_bkg']\n"
     ]
    }
   ],
   "source": [
    "print(list(analysis._df.keys()))"
   ]
  },
  {
   "cell_type": "code",
   "execution_count": 10,
   "metadata": {},
   "outputs": [],
   "source": [
    "# needed for the .size() calls... alternative would probably be to .Alias the @size columns\n",
    "ROOT.gInterpreter.Declare(\"#include <podio/ObjectID.h>\")\n",
    "ROOT.gInterpreter.Declare(\"#include <edm4hep/ReconstructedParticleData.h>\")\n",
    "analysis.Define(\"n_isomuons\", \"IsolatedMuons_objIdx.size()\")\n",
    "analysis.Define(\"n_isoelectrons\", \"IsolatedElectrons_objIdx.size()\")\n",
    "analysis.Define(\"RecoCatBasic\", \"params_WWCategorisation_RecoCatBasic\")\n",
    "analysis.Define(\"RecoCatAdvanced\", \"params_WWCategorisation_RecoCatAdvanced\")\n",
    "analysis.Define(\"n_charged_PFOs\", \"Sum(abs(PandoraPFOs.charge) == 1.)\")\n",
    "analysis.Define(\"n_R2jets\", \"Refined2Jets.size()\")\n",
    "make_lvec = lambda coll_name: f\"ROOT::VecOps::Construct<ROOT::Math::PxPyPzEVector>({coll_name}.momentum.x, {coll_name}.momentum.y, {coll_name}.momentum.z, {coll_name}.energy)\"\n",
    "analysis.Define(\"R2jet_lvecs\", make_lvec(\"Refined2Jets\"))\n",
    "analysis.Define(\"M_jj\", \"ROOT::VecOps::Sum(R2jet_lvecs, ROOT::Math::PxPyPzEVector()).mass()\")\n",
    "analysis.Define(\"PVertex_ndf\", \"PrimaryVertex.ndf\")\n",
    "analysis.Define(\"PVertex_chi2\", \"PrimaryVertex.chi2\")\n",
    "analysis.Define(\"PVertex_chi2ndf\", \"PVertex_chi2 / PVertex_ndf\")\n",
    "\n",
    "signal_category = [\"4f_sw_sl_signal\"]\n",
    "# analysis.define_truth_objects(signal_category)\n",
    "# analysis.define_reco_objects(x_angle)\n",
    "# analysis.remove_x_angle(x_angle)\n",
    "# analysis.Define(\"M_Wlep\", \"ub_leptonic_W_lvec.M()\")\n",
    "# analysis.Define(\"M2_Wlep_sign\", \"M_Wlep / abs(M_Wlep)\")"
   ]
  },
  {
   "cell_type": "code",
   "execution_count": 11,
   "metadata": {},
   "outputs": [],
   "source": [
    "analysis.book_histogram_1D(\"RecoCatBasic\", \"RecoCatBasic\", (\"\", \";RecoCatBasic\", 8, 0., 8.))\n",
    "# analysis.book_histogram_1D(\"RecoCatAdvanced\", \"RecoCatAdvanced\", (\"\", \";RecoCatAdvanced\", 8, 0., 8.))\n",
    "# analysis.add_filter(\"RecoCatAdvanced == 2\", \"RecoCatAdvanced == 2\")"
   ]
  },
  {
   "cell_type": "code",
   "execution_count": 12,
   "metadata": {},
   "outputs": [],
   "source": [
    "analysis.book_histogram_1D(\"n_isoelectrons\", \"n_isoelectrons\", (\"\", \";n_isoelectrons\", 5, 0., 5.))\n",
    "analysis.add_filter(\"n_isoelectrons == 1\", \"1 iso electron\")\n",
    "\n",
    "analysis.book_histogram_1D(\"n_charged_PFOs\", \"n_charged_PFOs\", (\"\", \";n_charged_PFOs\", 50, 0., 50.))\n",
    "analysis.add_filter(\"n_charged_PFOs >= 10\", \"N_{#pm}#geq 10\")\n",
    "\n",
    "analysis.book_histogram_1D(\"misspT\", \"params_WWCategorisation_misspT\", (\"\", \";misspT\", 100, 0., 100.))\n",
    "analysis.add_filter(\"params_WWCategorisation_misspT >= 10\", \"misspT#geq 10\")\n",
    "\n",
    "analysis.book_histogram_1D(\"RecoCatAdvanced\", \"RecoCatAdvanced\", (\"\", \";RecoCatAdvanced\", 8, 0., 8.))\n",
    "analysis.add_filter(\"RecoCatAdvanced == 2\", \"RecoCat = 2\")\n",
    "\n",
    "# analysis.book_histogram_1D(\"M2_Wlep_sign\", \"M2_Wlep_sign\", (\"\", \";M2_Wlep_sign\", 5, -1.5, 3.5))\n",
    "# analysis.add_filter(\"M2_Wlep_sign > 0\", \"M2_Wlep_sign > 0\")\n",
    "\n",
    "analysis.book_histogram_1D(\"PVertex_ndf\", \"PVertex_ndf\", (\"\", \";PVertex_ndf\", 50, 1., 101.))\n",
    "analysis.book_histogram_1D(\"missE\", \"params_WWCategorisation_missE\", (\"\", \";missE\", 300, -50., 250.))\n",
    "analysis.book_histogram_1D(\"mInv\", \"params_WWCategorisation_mInv\", (\"\", \";mInv\", 100, 40., 140.))\n",
    "analysis.book_histogram_1D(\"M_jj\", \"M_jj\", (\"\", \";M_jj\", 100, 32., 132.))\n",
    "analysis.book_histogram_1D(\"n_isomuons\", \"n_isomuons\", (\"\", \";n_isomuons\", 5, 0., 5.))\n",
    "analysis.book_histogram_1D(\"PVertex_chi2\", \"PVertex_chi2\", (\"\", \";PVertex_chi2\", 75, 0., 150.))\n",
    "analysis.book_histogram_1D(\"PVertex_chi2ndf\", \"PVertex_chi2ndf\", (\"\", \";PVertex_chi2/ndf\", 20, 0., 10.))"
   ]
  },
  {
   "cell_type": "code",
   "execution_count": 13,
   "metadata": {},
   "outputs": [],
   "source": [
    "analysis.book_reports()"
   ]
  },
  {
   "cell_type": "code",
   "execution_count": 14,
   "metadata": {},
   "outputs": [],
   "source": [
    "# analysis.book_snapshots(\"events\", output_path, output_meta, output_collections, no_rvec=no_rvec)"
   ]
  },
  {
   "cell_type": "code",
   "execution_count": null,
   "metadata": {},
   "outputs": [],
   "source": [
    "%%time\n",
    "analysis.run()"
   ]
  },
  {
   "cell_type": "code",
   "execution_count": null,
   "metadata": {},
   "outputs": [],
   "source": [
    "# analysis.check_snapshots(\"events\", output_path, checked_output_meta)"
   ]
  },
  {
   "cell_type": "code",
   "execution_count": null,
   "metadata": {},
   "outputs": [],
   "source": [
    "analysis._calc_cutflow()"
   ]
  },
  {
   "cell_type": "code",
   "execution_count": null,
   "metadata": {},
   "outputs": [],
   "source": [
    "analysis.print_reports()\n",
    "analysis.draw_cutflow(plot_dir=plot_dir)"
   ]
  },
  {
   "cell_type": "code",
   "execution_count": null,
   "metadata": {},
   "outputs": [],
   "source": [
    "# unfortunately the jsroot plots break all the time, maybe it is just too much for them\n",
    "# %jsroot on\n",
    "# 0 - hadronic (both W decay hadronically)\n",
    "# 1 - invisible semileptonic (one W decays hadronically, but the lepton is not within detector acceptance/detected)\n",
    "# 2 - semileptonic electron\n",
    "# 3 - semileptonic muon\n",
    "# 4 - semileptonic tauon\n",
    "# 5 - leptonic (both W decay leptonically)\n",
    "# 6 - other, 7- broken?\n",
    "# analysis.draw_histogram(\"RecoCatBasic\")\n",
    "analysis.draw_histogram(\"n_isoelectrons\", logY=True, plot_dir=plot_dir, x_arrowl=1.0, x_arrowr=2.0, overlay=signal_category)\n",
    "analysis.draw_histogram(\"n_charged_PFOs\", logY=True, plot_dir=plot_dir, x_arrowl=10., overlay=signal_category)\n",
    "analysis.draw_histogram(\"misspT\", logY=True, plot_dir=plot_dir, x_arrowl=10., overlay=signal_category)\n",
    "analysis.draw_histogram(\"RecoCatAdvanced\", plot_dir=plot_dir, x_arrowl=2., x_arrowr=3., overlay=signal_category)\n",
    "# analysis.draw_histogram(\"M2_Wlep_sign\", plot_dir=plot_dir, x_arrowl=0.5)"
   ]
  },
  {
   "cell_type": "code",
   "execution_count": null,
   "metadata": {},
   "outputs": [],
   "source": [
    "analysis.draw_histogram(\"PVertex_ndf\", plot_dir=plot_dir, overlay=signal_category)\n",
    "\n",
    "analysis.draw_histogram(\"missE\", plot_dir=plot_dir, overlay=signal_category)\n",
    "analysis.draw_histogram(\"mInv\", plot_dir=plot_dir, overlay=signal_category)\n",
    "analysis.draw_histogram(\"M_jj\", plot_dir=plot_dir, overlay=signal_category)\n",
    "analysis.draw_histogram(\"n_isomuons\", plot_dir=plot_dir, overlay=signal_category)"
   ]
  },
  {
   "cell_type": "code",
   "execution_count": null,
   "metadata": {},
   "outputs": [],
   "source": [
    "analysis.draw_histogram(\"PVertex_chi2\")\n",
    "analysis.draw_histogram(\"PVertex_chi2ndf\")"
   ]
  },
  {
   "cell_type": "code",
   "execution_count": null,
   "metadata": {},
   "outputs": [],
   "source": []
  },
  {
   "cell_type": "code",
   "execution_count": null,
   "metadata": {},
   "outputs": [],
   "source": []
  }
 ],
 "metadata": {
  "kernelspec": {
   "display_name": "Python 3",
   "language": "python",
   "name": "python3"
  },
  "language_info": {
   "codemirror_mode": {
    "name": "ipython",
    "version": 3
   },
   "file_extension": ".py",
   "mimetype": "text/x-python",
   "name": "python",
   "nbconvert_exporter": "python",
   "pygments_lexer": "ipython3",
   "version": "3.11.9"
  }
 },
 "nbformat": 4,
 "nbformat_minor": 4
}
